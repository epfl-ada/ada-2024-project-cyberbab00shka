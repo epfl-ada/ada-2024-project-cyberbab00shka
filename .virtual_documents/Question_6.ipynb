import pandas as pd
import matplotlib.pyplot as plt
import seaborn as sns


data_file = "data/MovieSummaries/movie_processed_enriched.csv"  
movie_df = pd.read_csv(data_file)
movie_df.head(1)


data_file = "data/MovieSummaries/character_processed_enriched.csv"  
actor_df = pd.read_csv(data_file)
actor_df.head(1)


# Assuming there is a 'cast' column and a 'genres' column in the enriched dataset:
# Let's explode the cast to create a separate row for each actor
df['cast'] = df['cast'].str.split(',')  # Assuming cast is comma-separated
df_exploded = df.explode('cast')

# Clean whitespace in the cast names
df_exploded['cast'] = df_exploded['cast'].str.strip()

# Group by actor and count the occurrence of genres or any specific roles
actor_genre_count = df_exploded.groupby(['cast', 'genres']).size().reset_index(name='role_count')

# Analyze the typecasting - actors most commonly typecast into specific genres
top_typecasted = actor_genre_count.sort_values('role_count', ascending=False).groupby('cast').first().reset_index()

# Visualize the top typecasted actors
plt.figure(figsize=(10, 6))
sns.barplot(x='role_count', y='cast', data=top_typecasted.head(20).sort_values('role_count', ascending=True))
plt.title('Top 20 Actors Most Typecast into Specific Genres')
plt.xlabel('Role Count')
plt.ylabel('Actor')
plt.show()

# Further analysis - you could look into additional traits or roles
# E.g., count how many unique genres each actor has played
actor_unique_genres = df_exploded.groupby('cast')['genres'].nunique().reset_index()
actor_unique_genres.columns = ['cast', 'unique_genre_count']

# Visualize unique genres per actor
plt.figure(figsize=(10, 6))
sns.histplot(actor_unique_genres['unique_genre_count'], bins=20, kde=True)
plt.title('Distribution of Unique Genres per Actor')
plt.xlabel('Number of Unique Genres')
plt.ylabel('Frequency')
plt.show()



import pandas as pd
import os
import seaborn as sns
import matplotlib.pyplot as plt


# Load movie and actor datasets
movie_data_file = "data/MovieSummaries/movie_processed_enriched.csv"  # Adjust path as necessary
actor_data_file = "data/MovieSummaries/character_processed_enriched.csv"    # Adjust path as necessary

# Read the datasets
movie_df = pd.read_csv(movie_data_file)
actor_df = pd.read_csv(actor_data_file)


movie_df.head(1)


actor_df = actor_df.drop(index = 0)
actor_df.head(2)


# Merge the datasets on wiki_movie_id and related identifiers
merged_df = pd.merge(actor_df, movie_df, on="wiki_movie_id", how="inner")


merged_df.head(3)


# Filling NaNs
merged_df['actor_gender'] = merged_df['actor_gender'].fillna('Unknown')
merged_df['actor_height'] = merged_df['actor_height'].fillna(0)


# Analyzing typecasting tendencies by counting roles by gender and genre
typecast_analysis = merged_df.groupby(['actor_name', 'actor_gender', 'genres'])['wiki_movie_id'].count().reset_index()
typecast_analysis.columns = ['actor_name', 'actor_gender', 'genres', 'role_count']
top_typecasted_actors = typecast_analysis.sort_values('role_count', ascending=False).groupby('actor_name').first().reset_index()


typecast_analysis


top_typecasted_actors


# Visualize the top typecasted actors
plt.figure(figsize=(12, 8))
sns.barplot(x='role_count', y='actor_name', data=top_typecasted_actors.head(20).sort_values('role_count', ascending=True), palette='viridis')
plt.title('Top 20 Actors Most Typecast by Genres')
plt.xlabel('Role Count')
plt.ylabel('Actor')
plt.show()

# Further analysis: Unique genres per actor
unique_genres = merged_df.groupby('actor_name')['genres'].nunique().reset_index()
unique_genres.columns = ['actor_name', 'unique_genre_count']

# Visualize the distribution of unique genres per actor
plt.figure(figsize=(10, 6))
sns.histplot(unique_genres['unique_genre_count'], bins=20, kde=True)
plt.title('Distribution of Unique Genres per Actor')
plt.xlabel('Number of Unique Genres')
plt.ylabel('Frequency')
plt.show()
