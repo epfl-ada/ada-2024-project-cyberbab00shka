{
 "cells": [
  {
   "cell_type": "code",
   "execution_count": 15,
   "metadata": {},
   "outputs": [],
   "source": [
    "import json\n",
    "import pandas as pd\n",
    "import numpy as np"
   ]
  },
  {
   "cell_type": "code",
   "execution_count": 24,
   "metadata": {},
   "outputs": [],
   "source": [
    "enriched_log = '../../data/MovieSummaries/v2_movie_processed_enriched.json'\n",
    "movies_freebase = '../../data/MovieSummaries/movies_freebase.json'"
   ]
  },
  {
   "cell_type": "code",
   "execution_count": 25,
   "metadata": {},
   "outputs": [],
   "source": [
    "with open(enriched_log) as file:\n",
    "    data = json.load(file)\n",
    "\n",
    "with open(movies_freebase) as file:\n",
    "    freebase = json.load(file)"
   ]
  },
  {
   "cell_type": "code",
   "execution_count": 26,
   "metadata": {},
   "outputs": [],
   "source": [
    "data = pd.DataFrame(data)\n",
    "data.drop_duplicates(inplace=True)\n",
    "freebase = pd.DataFrame(freebase)"
   ]
  },
  {
   "cell_type": "code",
   "execution_count": 43,
   "metadata": {},
   "outputs": [
    {
     "data": {
      "text/html": [
       "<div>\n",
       "<style scoped>\n",
       "    .dataframe tbody tr th:only-of-type {\n",
       "        vertical-align: middle;\n",
       "    }\n",
       "\n",
       "    .dataframe tbody tr th {\n",
       "        vertical-align: top;\n",
       "    }\n",
       "\n",
       "    .dataframe thead th {\n",
       "        text-align: right;\n",
       "    }\n",
       "</style>\n",
       "<table border=\"1\" class=\"dataframe\">\n",
       "  <thead>\n",
       "    <tr style=\"text-align: right;\">\n",
       "      <th></th>\n",
       "      <th>Wikipedia movie ID</th>\n",
       "      <th>Freebase movie ID</th>\n",
       "      <th>Movie name</th>\n",
       "      <th>Movie box office revenue</th>\n",
       "      <th>Movie runtime</th>\n",
       "      <th>languages</th>\n",
       "      <th>movie_release_date</th>\n",
       "      <th>countries_old</th>\n",
       "      <th>countries</th>\n",
       "      <th>genres</th>\n",
       "      <th>wiki_api_title</th>\n",
       "      <th>wikipedia_movie_id</th>\n",
       "      <th>release_date</th>\n",
       "      <th>plot_summary</th>\n",
       "      <th>keywords</th>\n",
       "      <th>cast</th>\n",
       "      <th>page_summary</th>\n",
       "      <th>page</th>\n",
       "      <th>fb_movie_id</th>\n",
       "      <th>discription</th>\n",
       "    </tr>\n",
       "  </thead>\n",
       "  <tbody>\n",
       "    <tr>\n",
       "      <th>0</th>\n",
       "      <td>975900</td>\n",
       "      <td>/m/03vyhn</td>\n",
       "      <td>Ghosts of Mars</td>\n",
       "      <td>14010832.0</td>\n",
       "      <td>98.0</td>\n",
       "      <td>['english']</td>\n",
       "      <td>2001-08-24</td>\n",
       "      <td>['United States of America']</td>\n",
       "      <td>['United States of America']</td>\n",
       "      <td>None</td>\n",
       "      <td>Ghosts of Mars</td>\n",
       "      <td>Ghosts of Mars</td>\n",
       "      <td>NaN</td>\n",
       "      <td>Set in the year 2176, Mars has been 85% terraf...</td>\n",
       "      <td>NaN</td>\n",
       "      <td>None</td>\n",
       "      <td>Ghosts of Mars (titled onscreen as John Carpen...</td>\n",
       "      <td>Ghosts of Mars (titled onscreen as John Carpen...</td>\n",
       "      <td>/m/03vyhn</td>\n",
       "      <td>John Carpenter's Ghosts of Mars is a 2001 Amer...</td>\n",
       "    </tr>\n",
       "    <tr>\n",
       "      <th>1</th>\n",
       "      <td>3196793</td>\n",
       "      <td>/m/08yl5d</td>\n",
       "      <td>Getting Away with Murder: The JonBenét Ramsey ...</td>\n",
       "      <td>NaN</td>\n",
       "      <td>95.0</td>\n",
       "      <td>['english']</td>\n",
       "      <td>2000-02-16</td>\n",
       "      <td>['United States of America']</td>\n",
       "      <td>['United States of America']</td>\n",
       "      <td>None</td>\n",
       "      <td>Getting Away with Murder: The JonBenet Ramsey ...</td>\n",
       "      <td>Getting Away with Murder: The JonBenet Ramsey ...</td>\n",
       "      <td>NaN</td>\n",
       "      <td>On December 25, 1996, in Boulder, Colorado, an...</td>\n",
       "      <td>NaN</td>\n",
       "      <td>Alice Barrett-Mitchell as Reporter\\nCliff DeYo...</td>\n",
       "      <td>Getting Away with Murder: The JonBenet Ramsey ...</td>\n",
       "      <td>Getting Away with Murder: The JonBenet Ramsey ...</td>\n",
       "      <td>/m/08yl5d</td>\n",
       "      <td>Getting Away with Murder: The JonBenet Ramsey ...</td>\n",
       "    </tr>\n",
       "  </tbody>\n",
       "</table>\n",
       "</div>"
      ],
      "text/plain": [
       "  Wikipedia movie ID Freebase movie ID  \\\n",
       "0             975900         /m/03vyhn   \n",
       "1            3196793         /m/08yl5d   \n",
       "\n",
       "                                          Movie name  \\\n",
       "0                                     Ghosts of Mars   \n",
       "1  Getting Away with Murder: The JonBenét Ramsey ...   \n",
       "\n",
       "   Movie box office revenue  Movie runtime    languages movie_release_date  \\\n",
       "0                14010832.0           98.0  ['english']         2001-08-24   \n",
       "1                       NaN           95.0  ['english']         2000-02-16   \n",
       "\n",
       "                  countries_old                     countries genres  \\\n",
       "0  ['United States of America']  ['United States of America']   None   \n",
       "1  ['United States of America']  ['United States of America']   None   \n",
       "\n",
       "                                      wiki_api_title  \\\n",
       "0                                     Ghosts of Mars   \n",
       "1  Getting Away with Murder: The JonBenet Ramsey ...   \n",
       "\n",
       "                                  wikipedia_movie_id  release_date  \\\n",
       "0                                     Ghosts of Mars           NaN   \n",
       "1  Getting Away with Murder: The JonBenet Ramsey ...           NaN   \n",
       "\n",
       "                                        plot_summary  keywords  \\\n",
       "0  Set in the year 2176, Mars has been 85% terraf...       NaN   \n",
       "1  On December 25, 1996, in Boulder, Colorado, an...       NaN   \n",
       "\n",
       "                                                cast  \\\n",
       "0                                               None   \n",
       "1  Alice Barrett-Mitchell as Reporter\\nCliff DeYo...   \n",
       "\n",
       "                                        page_summary  \\\n",
       "0  Ghosts of Mars (titled onscreen as John Carpen...   \n",
       "1  Getting Away with Murder: The JonBenet Ramsey ...   \n",
       "\n",
       "                                                page fb_movie_id  \\\n",
       "0  Ghosts of Mars (titled onscreen as John Carpen...   /m/03vyhn   \n",
       "1  Getting Away with Murder: The JonBenet Ramsey ...   /m/08yl5d   \n",
       "\n",
       "                                         discription  \n",
       "0  John Carpenter's Ghosts of Mars is a 2001 Amer...  \n",
       "1  Getting Away with Murder: The JonBenet Ramsey ...  "
      ]
     },
     "execution_count": 43,
     "metadata": {},
     "output_type": "execute_result"
    }
   ],
   "source": [
    "merged = pd.merge(data, freebase[['fb_movie_id', 'discription']], left_on='Freebase movie ID', right_on='fb_movie_id', suffixes=('', 'freebase'), how='left')\n",
    "merged.head(2)"
   ]
  },
  {
   "cell_type": "code",
   "execution_count": 49,
   "metadata": {},
   "outputs": [],
   "source": [
    "def make_summary(row):\n",
    "    result = \"\"\n",
    "    if isinstance(row['cast'], str):\n",
    "        result += f\"Cast: {row['cast']}\" + '\\n'\n",
    "\n",
    "    plots_count = 0\n",
    "    if isinstance(row['plot_summary'], str) and row['plot_summary'] != row['page']:\n",
    "        result += row['plot_summary'] + '\\n'\n",
    "        plots_count += 1\n",
    "\n",
    "    if isinstance(row['discription'], str) and plots_count < 2:\n",
    "        result += row['discription'] + '\\n'\n",
    "        plots_count += 1\n",
    "\n",
    "    if isinstance(row['page_summary'], str)  and plots_count < 2:\n",
    "        result += row['page_summary'] + '\\n'\n",
    "        plots_count += 1\n",
    "\n",
    "    if isinstance(row['page'], str)  and plots_count < 2:\n",
    "        result += row['page'] + '\\n'\n",
    "        plots_count += 1\n",
    "    return None if len(result) == 0 else result\n",
    "\n",
    "\n",
    "merged['summary'] = merged.apply(make_summary, axis=1)"
   ]
  },
  {
   "cell_type": "code",
   "execution_count": 50,
   "metadata": {},
   "outputs": [
    {
     "data": {
      "text/plain": [
       "np.int64(9034)"
      ]
     },
     "execution_count": 50,
     "metadata": {},
     "output_type": "execute_result"
    }
   ],
   "source": [
    "merged['summary'].isna().sum()"
   ]
  },
  {
   "cell_type": "code",
   "execution_count": 51,
   "metadata": {},
   "outputs": [],
   "source": [
    "movie_to_summary = dict()\n",
    "for i, row in merged.iterrows():\n",
    "    if row['summary'] is None:\n",
    "        continue\n",
    "    if row['Freebase movie ID'] in movie_to_summary and len(movie_to_summary[row['Freebase movie ID']]) < len(row['summary']):\n",
    "        continue\n",
    "    movie_to_summary[row['Freebase movie ID']] = dict(\n",
    "        summary=row['summary'],\n",
    "        name=row['Movie name']\n",
    "    )"
   ]
  },
  {
   "cell_type": "code",
   "execution_count": 52,
   "metadata": {},
   "outputs": [],
   "source": [
    "with open('../../data/MovieSummaries/summaries.json', 'w') as file:\n",
    "    json.dump(movie_to_summary, file, indent=2)"
   ]
  },
  {
   "cell_type": "code",
   "execution_count": 53,
   "metadata": {},
   "outputs": [
    {
     "data": {
      "text/plain": [
       "79589"
      ]
     },
     "execution_count": 53,
     "metadata": {},
     "output_type": "execute_result"
    }
   ],
   "source": [
    "len(movie_to_summary)"
   ]
  },
  {
   "cell_type": "code",
   "execution_count": null,
   "metadata": {},
   "outputs": [],
   "source": []
  }
 ],
 "metadata": {
  "kernelspec": {
   "display_name": "ada",
   "language": "python",
   "name": "python3"
  },
  "language_info": {
   "codemirror_mode": {
    "name": "ipython",
    "version": 3
   },
   "file_extension": ".py",
   "mimetype": "text/x-python",
   "name": "python",
   "nbconvert_exporter": "python",
   "pygments_lexer": "ipython3",
   "version": "3.11.10"
  }
 },
 "nbformat": 4,
 "nbformat_minor": 2
}
