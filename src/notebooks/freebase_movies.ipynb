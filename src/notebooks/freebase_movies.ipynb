{
 "cells": [
  {
   "cell_type": "code",
   "execution_count": 92,
   "id": "339fd666-28ec-4571-a483-e5306ead4728",
   "metadata": {},
   "outputs": [],
   "source": [
    "import gzip\n",
    "from tqdm.auto import tqdm\n",
    "import numpy as np\n",
    "import matplotlib.pyplot as plt\n",
    "import pandas as pd\n",
    "import seaborn as sns\n",
    "from tqdm.auto import tqdm, trange\n",
    "import seaborn as sns\n",
    "from collections import defaultdict\n",
    "import json\n",
    "import urllib.parse\n",
    "import requests as rq"
   ]
  },
  {
   "cell_type": "code",
   "execution_count": 93,
   "id": "164dba1f-a866-43ab-aeb0-75298956ab36",
   "metadata": {},
   "outputs": [
    {
     "data": {
      "text/html": [
       "<div>\n",
       "<style scoped>\n",
       "    .dataframe tbody tr th:only-of-type {\n",
       "        vertical-align: middle;\n",
       "    }\n",
       "\n",
       "    .dataframe tbody tr th {\n",
       "        vertical-align: top;\n",
       "    }\n",
       "\n",
       "    .dataframe thead th {\n",
       "        text-align: right;\n",
       "    }\n",
       "</style>\n",
       "<table border=\"1\" class=\"dataframe\">\n",
       "  <thead>\n",
       "    <tr style=\"text-align: right;\">\n",
       "      <th></th>\n",
       "      <th>wikipedia_movie_id</th>\n",
       "      <th>fb_movie_id</th>\n",
       "      <th>character_name</th>\n",
       "      <th>actor_gender</th>\n",
       "      <th>actor_height</th>\n",
       "      <th>fb_actor_eth_id</th>\n",
       "      <th>actor_name</th>\n",
       "      <th>fb_char_actor_map_id</th>\n",
       "      <th>fb_char_id</th>\n",
       "      <th>fb_actor_id</th>\n",
       "      <th>actor_date_of_birth</th>\n",
       "      <th>movie_release_date</th>\n",
       "      <th>ethn_name</th>\n",
       "      <th>race</th>\n",
       "    </tr>\n",
       "  </thead>\n",
       "  <tbody>\n",
       "    <tr>\n",
       "      <th>0</th>\n",
       "      <td>975900</td>\n",
       "      <td>/m/03vyhn</td>\n",
       "      <td>Akooshay</td>\n",
       "      <td>F</td>\n",
       "      <td>1.620</td>\n",
       "      <td>NaN</td>\n",
       "      <td>Wanda De Jesus</td>\n",
       "      <td>/m/0bgchxw</td>\n",
       "      <td>/m/0bgcj3x</td>\n",
       "      <td>/m/03wcfv7</td>\n",
       "      <td>1958-08-26</td>\n",
       "      <td>2001-08-24</td>\n",
       "      <td>NaN</td>\n",
       "      <td>NaN</td>\n",
       "    </tr>\n",
       "    <tr>\n",
       "      <th>1</th>\n",
       "      <td>975900</td>\n",
       "      <td>/m/03vyhn</td>\n",
       "      <td>Lieutenant Melanie Ballard</td>\n",
       "      <td>F</td>\n",
       "      <td>1.780</td>\n",
       "      <td>/m/044038p</td>\n",
       "      <td>Natasha Henstridge</td>\n",
       "      <td>/m/0jys3m</td>\n",
       "      <td>/m/0bgchn4</td>\n",
       "      <td>/m/0346l4</td>\n",
       "      <td>1974-08-15</td>\n",
       "      <td>2001-08-24</td>\n",
       "      <td>NaN</td>\n",
       "      <td>NaN</td>\n",
       "    </tr>\n",
       "    <tr>\n",
       "      <th>2</th>\n",
       "      <td>975900</td>\n",
       "      <td>/m/03vyhn</td>\n",
       "      <td>Desolation Williams</td>\n",
       "      <td>M</td>\n",
       "      <td>1.727</td>\n",
       "      <td>/m/0x67</td>\n",
       "      <td>Ice Cube</td>\n",
       "      <td>/m/0jys3g</td>\n",
       "      <td>/m/0bgchn_</td>\n",
       "      <td>/m/01vw26l</td>\n",
       "      <td>1969-06-15</td>\n",
       "      <td>2001-08-24</td>\n",
       "      <td>African American</td>\n",
       "      <td>African</td>\n",
       "    </tr>\n",
       "    <tr>\n",
       "      <th>3</th>\n",
       "      <td>975900</td>\n",
       "      <td>/m/03vyhn</td>\n",
       "      <td>Sgt Jericho Butler</td>\n",
       "      <td>M</td>\n",
       "      <td>1.750</td>\n",
       "      <td>NaN</td>\n",
       "      <td>Jason Statham</td>\n",
       "      <td>/m/02vchl6</td>\n",
       "      <td>/m/0bgchnq</td>\n",
       "      <td>/m/034hyc</td>\n",
       "      <td>1967-09-12</td>\n",
       "      <td>2001-08-24</td>\n",
       "      <td>NaN</td>\n",
       "      <td>NaN</td>\n",
       "    </tr>\n",
       "    <tr>\n",
       "      <th>4</th>\n",
       "      <td>975900</td>\n",
       "      <td>/m/03vyhn</td>\n",
       "      <td>Bashira Kincaid</td>\n",
       "      <td>F</td>\n",
       "      <td>1.650</td>\n",
       "      <td>NaN</td>\n",
       "      <td>Clea DuVall</td>\n",
       "      <td>/m/02vbb3r</td>\n",
       "      <td>/m/0bgchp9</td>\n",
       "      <td>/m/01y9xg</td>\n",
       "      <td>1977-09-25</td>\n",
       "      <td>2001-08-24</td>\n",
       "      <td>NaN</td>\n",
       "      <td>NaN</td>\n",
       "    </tr>\n",
       "    <tr>\n",
       "      <th>...</th>\n",
       "      <td>...</td>\n",
       "      <td>...</td>\n",
       "      <td>...</td>\n",
       "      <td>...</td>\n",
       "      <td>...</td>\n",
       "      <td>...</td>\n",
       "      <td>...</td>\n",
       "      <td>...</td>\n",
       "      <td>...</td>\n",
       "      <td>...</td>\n",
       "      <td>...</td>\n",
       "      <td>...</td>\n",
       "      <td>...</td>\n",
       "      <td>...</td>\n",
       "    </tr>\n",
       "    <tr>\n",
       "      <th>334982</th>\n",
       "      <td>913762</td>\n",
       "      <td>/m/03pcrp</td>\n",
       "      <td>UN Spacy Commander</td>\n",
       "      <td>M</td>\n",
       "      <td>NaN</td>\n",
       "      <td>NaN</td>\n",
       "      <td>Sonny Byrkett</td>\n",
       "      <td>/m/0kr407w</td>\n",
       "      <td>/m/0kr407_</td>\n",
       "      <td>/m/0gn4bz</td>\n",
       "      <td>1954-01-01</td>\n",
       "      <td>1992-05-21</td>\n",
       "      <td>NaN</td>\n",
       "      <td>NaN</td>\n",
       "    </tr>\n",
       "    <tr>\n",
       "      <th>334983</th>\n",
       "      <td>913762</td>\n",
       "      <td>/m/03pcrp</td>\n",
       "      <td>Silvie Gena</td>\n",
       "      <td>F</td>\n",
       "      <td>NaN</td>\n",
       "      <td>NaN</td>\n",
       "      <td>Susan Byrkett</td>\n",
       "      <td>/m/0kr40b9</td>\n",
       "      <td>/m/0kr40bf</td>\n",
       "      <td>/m/0gn4nd</td>\n",
       "      <td>1958-01-01</td>\n",
       "      <td>1992-05-21</td>\n",
       "      <td>NaN</td>\n",
       "      <td>NaN</td>\n",
       "    </tr>\n",
       "    <tr>\n",
       "      <th>334984</th>\n",
       "      <td>913762</td>\n",
       "      <td>/m/03pcrp</td>\n",
       "      <td>Elensh</td>\n",
       "      <td>F</td>\n",
       "      <td>NaN</td>\n",
       "      <td>NaN</td>\n",
       "      <td>Dorothy Elias-Fahn</td>\n",
       "      <td>/m/0kr406c</td>\n",
       "      <td>/m/0kr406h</td>\n",
       "      <td>/m/0b_vcv</td>\n",
       "      <td>1970-05-01</td>\n",
       "      <td>1992-05-21</td>\n",
       "      <td>NaN</td>\n",
       "      <td>NaN</td>\n",
       "    </tr>\n",
       "    <tr>\n",
       "      <th>334985</th>\n",
       "      <td>913762</td>\n",
       "      <td>/m/03pcrp</td>\n",
       "      <td>Hibiki</td>\n",
       "      <td>M</td>\n",
       "      <td>NaN</td>\n",
       "      <td>NaN</td>\n",
       "      <td>Jonathan Fahn</td>\n",
       "      <td>/m/0kr405_</td>\n",
       "      <td>/m/0kr4090</td>\n",
       "      <td>/m/0bx7_j</td>\n",
       "      <td>1965-04-12</td>\n",
       "      <td>1992-05-21</td>\n",
       "      <td>NaN</td>\n",
       "      <td>NaN</td>\n",
       "    </tr>\n",
       "    <tr>\n",
       "      <th>334986</th>\n",
       "      <td>28308153</td>\n",
       "      <td>/m/0cp05t9</td>\n",
       "      <td>NaN</td>\n",
       "      <td>M</td>\n",
       "      <td>1.730</td>\n",
       "      <td>/m/02w7gg</td>\n",
       "      <td>David Hemmings</td>\n",
       "      <td>/m/0g8ngmc</td>\n",
       "      <td>NaN</td>\n",
       "      <td>/m/022g44</td>\n",
       "      <td>1941-11-18</td>\n",
       "      <td>1957-01-01</td>\n",
       "      <td>English</td>\n",
       "      <td>European</td>\n",
       "    </tr>\n",
       "  </tbody>\n",
       "</table>\n",
       "<p>334987 rows × 14 columns</p>\n",
       "</div>"
      ],
      "text/plain": [
       "        wikipedia_movie_id fb_movie_id              character_name  \\\n",
       "0                   975900   /m/03vyhn                    Akooshay   \n",
       "1                   975900   /m/03vyhn  Lieutenant Melanie Ballard   \n",
       "2                   975900   /m/03vyhn         Desolation Williams   \n",
       "3                   975900   /m/03vyhn          Sgt Jericho Butler   \n",
       "4                   975900   /m/03vyhn             Bashira Kincaid   \n",
       "...                    ...         ...                         ...   \n",
       "334982              913762   /m/03pcrp          UN Spacy Commander   \n",
       "334983              913762   /m/03pcrp                 Silvie Gena   \n",
       "334984              913762   /m/03pcrp                      Elensh   \n",
       "334985              913762   /m/03pcrp                      Hibiki   \n",
       "334986            28308153  /m/0cp05t9                         NaN   \n",
       "\n",
       "       actor_gender  actor_height fb_actor_eth_id          actor_name  \\\n",
       "0                 F         1.620             NaN      Wanda De Jesus   \n",
       "1                 F         1.780      /m/044038p  Natasha Henstridge   \n",
       "2                 M         1.727         /m/0x67            Ice Cube   \n",
       "3                 M         1.750             NaN       Jason Statham   \n",
       "4                 F         1.650             NaN         Clea DuVall   \n",
       "...             ...           ...             ...                 ...   \n",
       "334982            M           NaN             NaN       Sonny Byrkett   \n",
       "334983            F           NaN             NaN       Susan Byrkett   \n",
       "334984            F           NaN             NaN  Dorothy Elias-Fahn   \n",
       "334985            M           NaN             NaN       Jonathan Fahn   \n",
       "334986            M         1.730       /m/02w7gg      David Hemmings   \n",
       "\n",
       "       fb_char_actor_map_id  fb_char_id fb_actor_id actor_date_of_birth  \\\n",
       "0                /m/0bgchxw  /m/0bgcj3x  /m/03wcfv7          1958-08-26   \n",
       "1                 /m/0jys3m  /m/0bgchn4   /m/0346l4          1974-08-15   \n",
       "2                 /m/0jys3g  /m/0bgchn_  /m/01vw26l          1969-06-15   \n",
       "3                /m/02vchl6  /m/0bgchnq   /m/034hyc          1967-09-12   \n",
       "4                /m/02vbb3r  /m/0bgchp9   /m/01y9xg          1977-09-25   \n",
       "...                     ...         ...         ...                 ...   \n",
       "334982           /m/0kr407w  /m/0kr407_   /m/0gn4bz          1954-01-01   \n",
       "334983           /m/0kr40b9  /m/0kr40bf   /m/0gn4nd          1958-01-01   \n",
       "334984           /m/0kr406c  /m/0kr406h   /m/0b_vcv          1970-05-01   \n",
       "334985           /m/0kr405_  /m/0kr4090   /m/0bx7_j          1965-04-12   \n",
       "334986           /m/0g8ngmc         NaN   /m/022g44          1941-11-18   \n",
       "\n",
       "       movie_release_date         ethn_name      race  \n",
       "0              2001-08-24               NaN       NaN  \n",
       "1              2001-08-24               NaN       NaN  \n",
       "2              2001-08-24  African American   African  \n",
       "3              2001-08-24               NaN       NaN  \n",
       "4              2001-08-24               NaN       NaN  \n",
       "...                   ...               ...       ...  \n",
       "334982         1992-05-21               NaN       NaN  \n",
       "334983         1992-05-21               NaN       NaN  \n",
       "334984         1992-05-21               NaN       NaN  \n",
       "334985         1992-05-21               NaN       NaN  \n",
       "334986         1957-01-01           English  European  \n",
       "\n",
       "[334987 rows x 14 columns]"
      ]
     },
     "execution_count": 93,
     "metadata": {},
     "output_type": "execute_result"
    }
   ],
   "source": [
    "char_processed = pd.read_csv(\n",
    "    \"../../data/MovieSummaries/character_processed.csv\",\n",
    "    parse_dates=[\"actor_date_of_birth\", \"movie_release_date\"],\n",
    ")\n",
    "\n",
    "char_processed = char_processed.rename(columns={\n",
    "    'Wikipedia movie ID': \"wikipedia_movie_id\",\n",
    "    'Freebase movie ID': \"fb_movie_id\",\n",
    "    'Character name': \"character_name\",\n",
    "    'Actor gender': \"actor_gender\",\n",
    "    'Actor height (in meters)': \"actor_height\",\n",
    "    'Actor ethnicity (Freebase ID)': \"fb_actor_eth_id\",\n",
    "    'Actor name': \"actor_name\",\n",
    "    'Freebase character/actor map ID': \"fb_char_actor_map_id\",\n",
    "    'Freebase character ID': \"fb_char_id\",\n",
    "    'Freebase actor ID': \"fb_actor_id\",\n",
    "})\n",
    "\n",
    "char_processed"
   ]
  },
  {
   "cell_type": "code",
   "execution_count": 3,
   "id": "4f38bce4-1ca8-49a8-975d-a82c7d292979",
   "metadata": {},
   "outputs": [
    {
     "data": {
      "text/plain": [
       "(59015, '<http://rdf.freebase.com/ns/m.07mwqm>')"
      ]
     },
     "execution_count": 3,
     "metadata": {},
     "output_type": "execute_result"
    }
   ],
   "source": [
    "interesting_ids = (\n",
    "    set(char_processed.fb_movie_id)\n",
    ")\n",
    "interesting_ids = set([\n",
    "    '<http://rdf.freebase.com/ns/' + i.lstrip('/').replace('/', '.') + '>'\n",
    "    for i in interesting_ids\n",
    "    if isinstance(i, str)\n",
    "])\n",
    "\n",
    "len(interesting_ids), next(iter(interesting_ids))"
   ]
  },
  {
   "cell_type": "code",
   "execution_count": 95,
   "id": "2596ce0b-7c03-402c-a1ec-5505af8b4be9",
   "metadata": {},
   "outputs": [
    {
     "data": {
      "application/vnd.jupyter.widget-view+json": {
       "model_id": "bab4a2d3b2f5467b978b8019c0b34e87",
       "version_major": 2,
       "version_minor": 0
      },
      "text/plain": [
       "  0%|          | 0/289924448 [00:00<?, ?it/s]"
      ]
     },
     "metadata": {},
     "output_type": "display_data"
    }
   ],
   "source": [
    "movies_data = defaultdict(list)\n",
    "\n",
    "with gzip.open('extracted-all.gz', 'r') as fin:\n",
    "    progress = tqdm(fin, total=289924448, mininterval=2.0)\n",
    "    for line in progress:\n",
    "        line = line.decode('utf-8')\n",
    "        triplets = line.split('\\t', 2)\n",
    "        if triplets[0] in interesting_ids:\n",
    "            progress.set_description(f\"{len(movies_data) = }\", refresh=False)\n",
    "            movies_data[triplets[0]].append(triplets[1:])"
   ]
  },
  {
   "cell_type": "code",
   "execution_count": 78,
   "id": "d5a31658-9549-45fc-984c-91d3e1185a31",
   "metadata": {},
   "outputs": [],
   "source": [
    "def extract_movie_data(fb_id):\n",
    "    orig_id = fb_id\n",
    "    fb_id = fb_id.strip('/').replace('/', '.')\n",
    "    fb_id = f\"<http://rdf.freebase.com/ns/{fb_id}>\"\n",
    "\n",
    "    if fb_id not in movies_data:\n",
    "        return None\n",
    "\n",
    "    info = movies_data[fb_id]\n",
    "    result = dict(\n",
    "        fb_movie_id=orig_id,\n",
    "    )\n",
    "\n",
    "    for predicate, value in info:\n",
    "        value = value.strip('.\\t \\n')\n",
    "\n",
    "        if '<http://rdf.freebase.com/ns/common.topic.topic_equivalent_webpage>' in predicate and '<http://en.wikipedia.org/' in value:\n",
    "            result['wiki_en_page'] = value.strip('<> \\n')\n",
    "        if '<http://rdf.freebase.com/key/wikipedia.en_id>' in predicate:\n",
    "            result['wiki_en_id'] = value.strip('<> \\n\"')\n",
    "        if '<http://rdf.freebase.com/key/wikipedia.en_title>' in predicate:\n",
    "            result['wiki_en_title'] = value.strip('<> \\n\"')\n",
    "        if '<http://rdf.freebase.com/ns/type.object.key>' in predicate and '/wikipedia/en' in value:\n",
    "            result['wiki_en_path'] = value.strip('<> \\n\"')\n",
    "        if '<http://rdf.freebase.com/ns/common.topic.description>' in predicate and '@en' in value:\n",
    "             result['discription'] = value.replace('@en', '').strip('<> \\n\"')\n",
    "    return result"
   ]
  },
  {
   "cell_type": "code",
   "execution_count": 79,
   "id": "54a4bf13-2341-4a4b-9daf-8e76d58496a8",
   "metadata": {},
   "outputs": [
    {
     "data": {
      "text/plain": [
       "{'fb_movie_id': '/m/03vyhn',\n",
       " 'discription': \"John Carpenter's Ghosts of Mars is a 2001 American science fiction action horror film composed, written, and directed by John Carpenter. The film stars Ice Cube, Natasha Henstridge, Jason Statham, Pam Grier, Clea DuVall, and Joanna Cassidy. The film had received negative reviews and was a box office bomb, scoring just a 21% rating on Rotten Tomatoes and earning $14 million at the box office, against a $28 million production budget.\",\n",
       " 'wiki_en_path': '/wikipedia/en/Ghosts_of_mars',\n",
       " 'wiki_en_id': '975900',\n",
       " 'wiki_en_title': 'Ghosts_of_Mars',\n",
       " 'wiki_en_page': 'http://en.wikipedia.org/wiki/Ghosts_of_Mars'}"
      ]
     },
     "execution_count": 79,
     "metadata": {},
     "output_type": "execute_result"
    }
   ],
   "source": [
    "extract_movie_data(char_processed.fb_movie_id[1])"
   ]
  },
  {
   "cell_type": "code",
   "execution_count": 80,
   "id": "aacf9336-1912-41dc-ab13-959197c8bfef",
   "metadata": {},
   "outputs": [
    {
     "data": {
      "application/vnd.jupyter.widget-view+json": {
       "model_id": "ab5755b838e7462990ae25de25c928ac",
       "version_major": 2,
       "version_minor": 0
      },
      "text/plain": [
       "  0%|          | 0/59015 [00:00<?, ?it/s]"
      ]
     },
     "metadata": {},
     "output_type": "display_data"
    }
   ],
   "source": [
    "result = map(extract_movie_data, tqdm(char_processed.fb_movie_id.unique()))\n",
    "result = list(filter(lambda x: x is not None, result))"
   ]
  },
  {
   "cell_type": "code",
   "execution_count": 87,
   "id": "2f0ec68c-bff5-4ca6-99fe-8a76a9ca713a",
   "metadata": {},
   "outputs": [],
   "source": [
    "extracted_titles = dict()\n",
    "batch = 50"
   ]
  },
  {
   "cell_type": "code",
   "execution_count": 91,
   "id": "477e0fb5-9967-4849-b0e9-7c42e385852d",
   "metadata": {},
   "outputs": [
    {
     "data": {
      "application/vnd.jupyter.widget-view+json": {
       "model_id": "81c5c8cace1f456fa2c9e2d04428f228",
       "version_major": 2,
       "version_minor": 0
      },
      "text/plain": [
       "  0%|          | 0/1179 [00:00<?, ?it/s]"
      ]
     },
     "metadata": {},
     "output_type": "display_data"
    }
   ],
   "source": [
    "for i in trange(0, len(result), batch):\n",
    "    pageids = []\n",
    "    for res in result[i:i+batch]:\n",
    "        if 'wiki_en_id' in res and str(res['wiki_en_id']) not in extracted_titles:\n",
    "            pageids.append(str(res['wiki_en_id']))\n",
    "    if len(pageids) == 0:\n",
    "        continue\n",
    "    pageids = '|'.join(pageids) \n",
    "    request_str = f'https://en.wikipedia.org/w/api.php?action=query&pageids={pageids}&format=json&prop=info'\n",
    "    resp = rq.get(request_str)\n",
    "    data = json.loads(resp.text)\n",
    "    if 'query' in data and 'pages' in data['query']:\n",
    "       extracted_titles |= data['query']['pages']"
   ]
  },
  {
   "cell_type": "code",
   "execution_count": 97,
   "id": "f0f45983-8ddc-47f1-8986-50d0152c4723",
   "metadata": {},
   "outputs": [],
   "source": [
    "for i in result:\n",
    "    if 'wiki_en_id' in i:\n",
    "        i['wiki_api_title'] = extracted_titles.get(str(i['wiki_en_id']))"
   ]
  },
  {
   "cell_type": "code",
   "execution_count": 98,
   "id": "6297ea05-8fe2-448e-816b-a0e1ebe320f5",
   "metadata": {},
   "outputs": [],
   "source": [
    "with open('movies_freebase.json', 'w') as file:\n",
    "    json.dump(\n",
    "        result,\n",
    "        file\n",
    "    )"
   ]
  },
  {
   "cell_type": "code",
   "execution_count": 99,
   "id": "60d022bb-7b99-4348-96f2-3818d3228d40",
   "metadata": {},
   "outputs": [
    {
     "data": {
      "text/html": [
       "<div>\n",
       "<style scoped>\n",
       "    .dataframe tbody tr th:only-of-type {\n",
       "        vertical-align: middle;\n",
       "    }\n",
       "\n",
       "    .dataframe tbody tr th {\n",
       "        vertical-align: top;\n",
       "    }\n",
       "\n",
       "    .dataframe thead th {\n",
       "        text-align: right;\n",
       "    }\n",
       "</style>\n",
       "<table border=\"1\" class=\"dataframe\">\n",
       "  <thead>\n",
       "    <tr style=\"text-align: right;\">\n",
       "      <th></th>\n",
       "      <th>fb_movie_id</th>\n",
       "      <th>discription</th>\n",
       "      <th>wiki_en_path</th>\n",
       "      <th>wiki_en_id</th>\n",
       "      <th>wiki_en_title</th>\n",
       "      <th>wiki_en_page</th>\n",
       "      <th>wiki_api_title</th>\n",
       "    </tr>\n",
       "  </thead>\n",
       "  <tbody>\n",
       "    <tr>\n",
       "      <th>0</th>\n",
       "      <td>/m/03vyhn</td>\n",
       "      <td>John Carpenter's Ghosts of Mars is a 2001 Amer...</td>\n",
       "      <td>/wikipedia/en/Ghosts_of_mars</td>\n",
       "      <td>975900</td>\n",
       "      <td>Ghosts_of_Mars</td>\n",
       "      <td>http://en.wikipedia.org/wiki/Ghosts_of_Mars</td>\n",
       "      <td>{'pageid': 975900, 'ns': 0, 'title': 'Ghosts o...</td>\n",
       "    </tr>\n",
       "    <tr>\n",
       "      <th>1</th>\n",
       "      <td>/m/08yl5d</td>\n",
       "      <td>Getting Away with Murder: The JonBenet Ramsey ...</td>\n",
       "      <td>/wikipedia/en_title/Getting_Away_with_Murder$0...</td>\n",
       "      <td>3196793</td>\n",
       "      <td>Getting_Away_with_Murder$003A_The_JonBen$00E9t...</td>\n",
       "      <td>http://en.wikipedia.org/wiki/Getting_Away_with...</td>\n",
       "      <td>{'pageid': 3196793, 'ns': 0, 'title': 'Getting...</td>\n",
       "    </tr>\n",
       "    <tr>\n",
       "      <th>2</th>\n",
       "      <td>/m/0crgdbh</td>\n",
       "      <td>Brun bitter, also called Hair of the Dog, is a...</td>\n",
       "      <td>/wikipedia/en_id/28463795</td>\n",
       "      <td>28463795</td>\n",
       "      <td>Brun_bitter</td>\n",
       "      <td>http://en.wikipedia.org/wiki/Brun_bitter</td>\n",
       "      <td>{'pageid': 28463795, 'ns': 0, 'title': 'Brun b...</td>\n",
       "    </tr>\n",
       "    <tr>\n",
       "      <th>3</th>\n",
       "      <td>/m/01mrr1</td>\n",
       "      <td>A Woman in Flames is a German drama film from ...</td>\n",
       "      <td>/wikipedia/en_id/261236</td>\n",
       "      <td>261236</td>\n",
       "      <td>A_Woman_in_Flames</td>\n",
       "      <td>http://en.wikipedia.org/wiki/index.html?curid=...</td>\n",
       "      <td>{'pageid': 261236, 'ns': 0, 'title': 'A Woman ...</td>\n",
       "    </tr>\n",
       "    <tr>\n",
       "      <th>4</th>\n",
       "      <td>/m/06yc6v</td>\n",
       "      <td>Me and You and Everyone We Know is a 2005 Amer...</td>\n",
       "      <td>/wikipedia/en/Me_and_You_and_Everyone_We_Know</td>\n",
       "      <td>2238856</td>\n",
       "      <td>Me_and_You_and_Everyone_We_Know</td>\n",
       "      <td>http://en.wikipedia.org/wiki/index.html?curid=...</td>\n",
       "      <td>{'pageid': 2238856, 'ns': 0, 'title': 'Me and ...</td>\n",
       "    </tr>\n",
       "    <tr>\n",
       "      <th>...</th>\n",
       "      <td>...</td>\n",
       "      <td>...</td>\n",
       "      <td>...</td>\n",
       "      <td>...</td>\n",
       "      <td>...</td>\n",
       "      <td>...</td>\n",
       "      <td>...</td>\n",
       "    </tr>\n",
       "    <tr>\n",
       "      <th>58927</th>\n",
       "      <td>/m/0kv0xs</td>\n",
       "      <td>The Heart Breaker is a 1925 American short com...</td>\n",
       "      <td>/wikipedia/en/The_Heart-Breaker</td>\n",
       "      <td>7223293</td>\n",
       "      <td>The_Heart_Breaker</td>\n",
       "      <td>http://en.wikipedia.org/wiki/The_Heart_Breaker</td>\n",
       "      <td>{'pageid': 7223293, 'ns': 0, 'title': 'The Hea...</td>\n",
       "    </tr>\n",
       "    <tr>\n",
       "      <th>58928</th>\n",
       "      <td>/m/02pygw1</td>\n",
       "      <td>Another Nice Mess is a 1972 comedy film writte...</td>\n",
       "      <td>/wikipedia/en_title/Another_Nice_Mess</td>\n",
       "      <td>9971909</td>\n",
       "      <td>Another_Nice_Mess</td>\n",
       "      <td>http://en.wikipedia.org/wiki/Another_Nice_Mess</td>\n",
       "      <td>{'pageid': 9971909, 'ns': 0, 'title': 'Another...</td>\n",
       "    </tr>\n",
       "    <tr>\n",
       "      <th>58929</th>\n",
       "      <td>/m/02w7zz8</td>\n",
       "      <td>Spliced is a 2002 horror film starring Ron Sil...</td>\n",
       "      <td>/wikipedia/en_title/Spliced_$0028film$0029</td>\n",
       "      <td>12476867</td>\n",
       "      <td>Spliced_$0028film$0029</td>\n",
       "      <td>http://en.wikipedia.org/wiki/Spliced_(film)</td>\n",
       "      <td>{'pageid': 12476867, 'ns': 0, 'title': 'Splice...</td>\n",
       "    </tr>\n",
       "    <tr>\n",
       "      <th>58930</th>\n",
       "      <td>/m/03pcrp</td>\n",
       "      <td>Super Dimensional Fortress Macross II: Lovers ...</td>\n",
       "      <td>/wikipedia/en/Marduk_$0028Macross$0029</td>\n",
       "      <td>913762</td>\n",
       "      <td>Super_Dimensional_Fortress_Macross_II$003A_Lov...</td>\n",
       "      <td>http://en.wikipedia.org/wiki/Super_Dimensional...</td>\n",
       "      <td>{'pageid': 913762, 'ns': 0, 'title': 'Super Di...</td>\n",
       "    </tr>\n",
       "    <tr>\n",
       "      <th>58931</th>\n",
       "      <td>/m/0cp05t9</td>\n",
       "      <td>Five Clues to Fortune is a 1957 British crime ...</td>\n",
       "      <td>/wikipedia/en_title/Five_Clues_to_Fortune</td>\n",
       "      <td>28308153</td>\n",
       "      <td>Five_Clues_to_Fortune</td>\n",
       "      <td>http://en.wikipedia.org/wiki/Five_Clues_to_For...</td>\n",
       "      <td>{'pageid': 28308153, 'ns': 0, 'title': 'Five C...</td>\n",
       "    </tr>\n",
       "  </tbody>\n",
       "</table>\n",
       "<p>58932 rows × 7 columns</p>\n",
       "</div>"
      ],
      "text/plain": [
       "      fb_movie_id                                        discription  \\\n",
       "0       /m/03vyhn  John Carpenter's Ghosts of Mars is a 2001 Amer...   \n",
       "1       /m/08yl5d  Getting Away with Murder: The JonBenet Ramsey ...   \n",
       "2      /m/0crgdbh  Brun bitter, also called Hair of the Dog, is a...   \n",
       "3       /m/01mrr1  A Woman in Flames is a German drama film from ...   \n",
       "4       /m/06yc6v  Me and You and Everyone We Know is a 2005 Amer...   \n",
       "...           ...                                                ...   \n",
       "58927   /m/0kv0xs  The Heart Breaker is a 1925 American short com...   \n",
       "58928  /m/02pygw1  Another Nice Mess is a 1972 comedy film writte...   \n",
       "58929  /m/02w7zz8  Spliced is a 2002 horror film starring Ron Sil...   \n",
       "58930   /m/03pcrp  Super Dimensional Fortress Macross II: Lovers ...   \n",
       "58931  /m/0cp05t9  Five Clues to Fortune is a 1957 British crime ...   \n",
       "\n",
       "                                            wiki_en_path wiki_en_id  \\\n",
       "0                           /wikipedia/en/Ghosts_of_mars     975900   \n",
       "1      /wikipedia/en_title/Getting_Away_with_Murder$0...    3196793   \n",
       "2                              /wikipedia/en_id/28463795   28463795   \n",
       "3                                /wikipedia/en_id/261236     261236   \n",
       "4          /wikipedia/en/Me_and_You_and_Everyone_We_Know    2238856   \n",
       "...                                                  ...        ...   \n",
       "58927                    /wikipedia/en/The_Heart-Breaker    7223293   \n",
       "58928              /wikipedia/en_title/Another_Nice_Mess    9971909   \n",
       "58929         /wikipedia/en_title/Spliced_$0028film$0029   12476867   \n",
       "58930             /wikipedia/en/Marduk_$0028Macross$0029     913762   \n",
       "58931          /wikipedia/en_title/Five_Clues_to_Fortune   28308153   \n",
       "\n",
       "                                           wiki_en_title  \\\n",
       "0                                         Ghosts_of_Mars   \n",
       "1      Getting_Away_with_Murder$003A_The_JonBen$00E9t...   \n",
       "2                                            Brun_bitter   \n",
       "3                                      A_Woman_in_Flames   \n",
       "4                        Me_and_You_and_Everyone_We_Know   \n",
       "...                                                  ...   \n",
       "58927                                  The_Heart_Breaker   \n",
       "58928                                  Another_Nice_Mess   \n",
       "58929                             Spliced_$0028film$0029   \n",
       "58930  Super_Dimensional_Fortress_Macross_II$003A_Lov...   \n",
       "58931                              Five_Clues_to_Fortune   \n",
       "\n",
       "                                            wiki_en_page  \\\n",
       "0            http://en.wikipedia.org/wiki/Ghosts_of_Mars   \n",
       "1      http://en.wikipedia.org/wiki/Getting_Away_with...   \n",
       "2               http://en.wikipedia.org/wiki/Brun_bitter   \n",
       "3      http://en.wikipedia.org/wiki/index.html?curid=...   \n",
       "4      http://en.wikipedia.org/wiki/index.html?curid=...   \n",
       "...                                                  ...   \n",
       "58927     http://en.wikipedia.org/wiki/The_Heart_Breaker   \n",
       "58928     http://en.wikipedia.org/wiki/Another_Nice_Mess   \n",
       "58929        http://en.wikipedia.org/wiki/Spliced_(film)   \n",
       "58930  http://en.wikipedia.org/wiki/Super_Dimensional...   \n",
       "58931  http://en.wikipedia.org/wiki/Five_Clues_to_For...   \n",
       "\n",
       "                                          wiki_api_title  \n",
       "0      {'pageid': 975900, 'ns': 0, 'title': 'Ghosts o...  \n",
       "1      {'pageid': 3196793, 'ns': 0, 'title': 'Getting...  \n",
       "2      {'pageid': 28463795, 'ns': 0, 'title': 'Brun b...  \n",
       "3      {'pageid': 261236, 'ns': 0, 'title': 'A Woman ...  \n",
       "4      {'pageid': 2238856, 'ns': 0, 'title': 'Me and ...  \n",
       "...                                                  ...  \n",
       "58927  {'pageid': 7223293, 'ns': 0, 'title': 'The Hea...  \n",
       "58928  {'pageid': 9971909, 'ns': 0, 'title': 'Another...  \n",
       "58929  {'pageid': 12476867, 'ns': 0, 'title': 'Splice...  \n",
       "58930  {'pageid': 913762, 'ns': 0, 'title': 'Super Di...  \n",
       "58931  {'pageid': 28308153, 'ns': 0, 'title': 'Five C...  \n",
       "\n",
       "[58932 rows x 7 columns]"
      ]
     },
     "execution_count": 99,
     "metadata": {},
     "output_type": "execute_result"
    }
   ],
   "source": [
    "import pandas as pd\n",
    "df = pd.DataFrame(result)\n",
    "df"
   ]
  },
  {
   "cell_type": "code",
   "execution_count": 101,
   "id": "311b4bd1-642e-4ff2-a3cd-114483896ab0",
   "metadata": {},
   "outputs": [
    {
     "data": {
      "text/plain": [
       "1223"
      ]
     },
     "execution_count": 101,
     "metadata": {},
     "output_type": "execute_result"
    }
   ],
   "source": [
    "df.wiki_api_title.isna().sum()"
   ]
  },
  {
   "cell_type": "code",
   "execution_count": 48,
   "id": "0e14a5a7-be3f-4639-98e5-562041c3f7fc",
   "metadata": {},
   "outputs": [],
   "source": [
    "import wikipediaapi\n",
    "\n",
    "wiki = wikipediaapi.Wikipedia(\n",
    "    user_agent=\"MovieMetadataSelector\", language=\"en\"\n",
    ")"
   ]
  },
  {
   "cell_type": "code",
   "execution_count": 65,
   "id": "48dfdfe9-ab73-4e2b-ab8f-553ab6cac82b",
   "metadata": {},
   "outputs": [
    {
     "data": {
      "text/plain": [
       "False"
      ]
     },
     "execution_count": 65,
     "metadata": {},
     "output_type": "execute_result"
    }
   ],
   "source": [
    "page = wiki.info(\n",
    "    result[1]['wiki_en_id']\n",
    ")\n",
    "page.exists()"
   ]
  },
  {
   "cell_type": "code",
   "execution_count": 66,
   "id": "979e83b0-8ace-44d0-a204-94009d58a3ca",
   "metadata": {},
   "outputs": [
    {
     "data": {
      "text/plain": [
       "3196793 (id: -1, ns: 0)"
      ]
     },
     "execution_count": 66,
     "metadata": {},
     "output_type": "execute_result"
    }
   ],
   "source": [
    "page"
   ]
  },
  {
   "cell_type": "code",
   "execution_count": 71,
   "id": "dd491a42-60a6-4013-a8da-043cf3016271",
   "metadata": {},
   "outputs": [
    {
     "data": {
      "text/plain": [
       "'{\"batchcomplete\":\"\",\"query\":{\"pages\":{\"3196793\":{\"pageid\":3196793,\"ns\":0,\"title\":\"Getting Away with Murder: The JonBenet Ramsey Story\",\"contentmodel\":\"wikitext\",\"pagelanguage\":\"en\",\"pagelanguagehtmlcode\":\"en\",\"pagelanguagedir\":\"ltr\",\"touched\":\"2024-12-10T03:01:09Z\",\"lastrevid\":1256673340,\"length\":7196}}}}'"
      ]
     },
     "execution_count": 71,
     "metadata": {},
     "output_type": "execute_result"
    }
   ],
   "source": []
  },
  {
   "cell_type": "code",
   "execution_count": null,
   "id": "c40f6e6f-7438-4e98-8309-4372701f4e80",
   "metadata": {},
   "outputs": [],
   "source": []
  }
 ],
 "metadata": {
  "kernelspec": {
   "display_name": "Python 3 (ipykernel)",
   "language": "python",
   "name": "python3"
  },
  "language_info": {
   "codemirror_mode": {
    "name": "ipython",
    "version": 3
   },
   "file_extension": ".py",
   "mimetype": "text/x-python",
   "name": "python",
   "nbconvert_exporter": "python",
   "pygments_lexer": "ipython3",
   "version": "3.10.8"
  },
  "widgets": {
   "application/vnd.jupyter.widget-state+json": {
    "state": {
     "042d9fef8da7432493348d22f8502e97": {
      "model_module": "@jupyter-widgets/controls",
      "model_module_version": "2.0.0",
      "model_name": "HTMLStyleModel",
      "state": {
       "description_width": "",
       "font_size": null,
       "text_color": null
      }
     },
     "05b325cef2094e4d833e2edfe627a4d2": {
      "model_module": "@jupyter-widgets/base",
      "model_module_version": "2.0.0",
      "model_name": "LayoutModel",
      "state": {}
     },
     "05e9d4fe103f4403979d52475f511c81": {
      "model_module": "@jupyter-widgets/base",
      "model_module_version": "2.0.0",
      "model_name": "LayoutModel",
      "state": {}
     },
     "0ac016b8b3554567a1d34d8496352333": {
      "model_module": "@jupyter-widgets/controls",
      "model_module_version": "2.0.0",
      "model_name": "HTMLStyleModel",
      "state": {
       "description_width": "",
       "font_size": null,
       "text_color": null
      }
     },
     "0b963670c0db40f58710860c97d67ebd": {
      "model_module": "@jupyter-widgets/controls",
      "model_module_version": "2.0.0",
      "model_name": "HTMLModel",
      "state": {
       "layout": "IPY_MODEL_b55ec2a950bc4736b6108ff95ee2b8b4",
       "style": "IPY_MODEL_98f2604fb05447019c697d47ea17140d",
       "value": "  1%"
      }
     },
     "0d1157d252564d67b55b4f4a23ecfe0a": {
      "model_module": "@jupyter-widgets/base",
      "model_module_version": "2.0.0",
      "model_name": "LayoutModel",
      "state": {}
     },
     "0e93d89e9d47400d9e353ee58ee56b08": {
      "model_module": "@jupyter-widgets/controls",
      "model_module_version": "2.0.0",
      "model_name": "HTMLStyleModel",
      "state": {
       "description_width": "",
       "font_size": null,
       "text_color": null
      }
     },
     "1058935c12b04737a5645670229daf8b": {
      "model_module": "@jupyter-widgets/controls",
      "model_module_version": "2.0.0",
      "model_name": "HTMLModel",
      "state": {
       "layout": "IPY_MODEL_0d1157d252564d67b55b4f4a23ecfe0a",
       "style": "IPY_MODEL_d1059117231c4196b591ed4bdd46103f",
       "value": " 6/921 [00:01&lt;03:54,  3.90it/s]"
      }
     },
     "17ea912709344992810eff96f0b34006": {
      "model_module": "@jupyter-widgets/base",
      "model_module_version": "2.0.0",
      "model_name": "LayoutModel",
      "state": {}
     },
     "181cf74e44704cf3a6d5685c1d6a868e": {
      "model_module": "@jupyter-widgets/controls",
      "model_module_version": "2.0.0",
      "model_name": "ProgressStyleModel",
      "state": {
       "description_width": ""
      }
     },
     "183243b1ca8d4804a1255b751255956c": {
      "model_module": "@jupyter-widgets/base",
      "model_module_version": "2.0.0",
      "model_name": "LayoutModel",
      "state": {}
     },
     "196983d8e171482c9ae9116608dd6c5e": {
      "model_module": "@jupyter-widgets/base",
      "model_module_version": "2.0.0",
      "model_name": "LayoutModel",
      "state": {}
     },
     "1b8c9347f00d4267b7aa1afbf592801c": {
      "model_module": "@jupyter-widgets/controls",
      "model_module_version": "2.0.0",
      "model_name": "HTMLStyleModel",
      "state": {
       "description_width": "",
       "font_size": null,
       "text_color": null
      }
     },
     "1e5ec870bf4c44cfb7fedbbdd051bb9d": {
      "model_module": "@jupyter-widgets/controls",
      "model_module_version": "2.0.0",
      "model_name": "HBoxModel",
      "state": {
       "children": [
        "IPY_MODEL_996e74aa18284bcb9ab6b997de7bed35",
        "IPY_MODEL_35e1cfb74a464d4f99cdb5408434ca54",
        "IPY_MODEL_e250eb05a9f3457eae6f61114bc7562a"
       ],
       "layout": "IPY_MODEL_c459d3a69d974017a6254fb0ed06708e"
      }
     },
     "1eb79d1b62db4ca797b348d8a154494d": {
      "model_module": "@jupyter-widgets/base",
      "model_module_version": "2.0.0",
      "model_name": "LayoutModel",
      "state": {}
     },
     "224bfb05d74841c3a5453742bb63b853": {
      "model_module": "@jupyter-widgets/base",
      "model_module_version": "2.0.0",
      "model_name": "LayoutModel",
      "state": {}
     },
     "23f4483ed4004b85b06a7b5306925210": {
      "model_module": "@jupyter-widgets/controls",
      "model_module_version": "2.0.0",
      "model_name": "HTMLModel",
      "state": {
       "layout": "IPY_MODEL_78db7ab9ef41434a9b8ae754b6952434",
       "style": "IPY_MODEL_e7b5226df332405da2010ce2392f5a9b",
       "value": " 334987/334987 [00:18&lt;00:00, 18441.89it/s]"
      }
     },
     "26991db0e5934898b65639b33c0b3ec9": {
      "model_module": "@jupyter-widgets/base",
      "model_module_version": "2.0.0",
      "model_name": "LayoutModel",
      "state": {}
     },
     "2978c91de0fc41019f132fe268f859c3": {
      "model_module": "@jupyter-widgets/controls",
      "model_module_version": "2.0.0",
      "model_name": "HTMLStyleModel",
      "state": {
       "description_width": "",
       "font_size": null,
       "text_color": null
      }
     },
     "2987cf3ab68e40668d5d92a5c3a4cf92": {
      "model_module": "@jupyter-widgets/base",
      "model_module_version": "2.0.0",
      "model_name": "LayoutModel",
      "state": {}
     },
     "2ab45b97cbd84720b0c9d3de46cf6546": {
      "model_module": "@jupyter-widgets/controls",
      "model_module_version": "2.0.0",
      "model_name": "HTMLStyleModel",
      "state": {
       "description_width": "",
       "font_size": null,
       "text_color": null
      }
     },
     "2f6647b860ec4a6290fe579313112715": {
      "model_module": "@jupyter-widgets/controls",
      "model_module_version": "2.0.0",
      "model_name": "HTMLModel",
      "state": {
       "layout": "IPY_MODEL_52c00304d08942f1b636c4b67c742612",
       "style": "IPY_MODEL_4f31881ad28b4724b237c44369c26e29",
       "value": "100%"
      }
     },
     "32cc006aeaf04bf8bcfa4bbb6c1d91e1": {
      "model_module": "@jupyter-widgets/base",
      "model_module_version": "2.0.0",
      "model_name": "LayoutModel",
      "state": {}
     },
     "32d19a449971477bb58e78ac7440d10d": {
      "model_module": "@jupyter-widgets/controls",
      "model_module_version": "2.0.0",
      "model_name": "HBoxModel",
      "state": {
       "children": [
        "IPY_MODEL_0b963670c0db40f58710860c97d67ebd",
        "IPY_MODEL_35bca32730e542f8ba93bce141d9e398",
        "IPY_MODEL_d5ab1f94c9c04b8591f1b29ba03c70ce"
       ],
       "layout": "IPY_MODEL_26991db0e5934898b65639b33c0b3ec9"
      }
     },
     "3423919cb6d64a62be0a501e30e7389e": {
      "model_module": "@jupyter-widgets/controls",
      "model_module_version": "2.0.0",
      "model_name": "ProgressStyleModel",
      "state": {
       "description_width": ""
      }
     },
     "35bca32730e542f8ba93bce141d9e398": {
      "model_module": "@jupyter-widgets/controls",
      "model_module_version": "2.0.0",
      "model_name": "FloatProgressModel",
      "state": {
       "bar_style": "danger",
       "layout": "IPY_MODEL_05b325cef2094e4d833e2edfe627a4d2",
       "max": 1179,
       "style": "IPY_MODEL_cad7b82c36cb45b68103d8ec2be38858",
       "value": 7
      }
     },
     "35e1cfb74a464d4f99cdb5408434ca54": {
      "model_module": "@jupyter-widgets/controls",
      "model_module_version": "2.0.0",
      "model_name": "FloatProgressModel",
      "state": {
       "bar_style": "danger",
       "layout": "IPY_MODEL_4fc14945a601497380c9db19454bb8b0",
       "max": 289924448,
       "style": "IPY_MODEL_73fe402586534152acd8ac74a3db66b1",
       "value": 26196949
      }
     },
     "37a7232eee0741ddbae3851d62d54cf2": {
      "model_module": "@jupyter-widgets/controls",
      "model_module_version": "2.0.0",
      "model_name": "FloatProgressModel",
      "state": {
       "bar_style": "success",
       "layout": "IPY_MODEL_adc7ab3679b540e9974712879039beb0",
       "max": 334987,
       "style": "IPY_MODEL_3423919cb6d64a62be0a501e30e7389e",
       "value": 334987
      }
     },
     "39565718227643cc91ff7c3d5c1ed50b": {
      "model_module": "@jupyter-widgets/controls",
      "model_module_version": "2.0.0",
      "model_name": "HTMLStyleModel",
      "state": {
       "description_width": "",
       "font_size": null,
       "text_color": null
      }
     },
     "397b5671332441109246e178bceee6ec": {
      "model_module": "@jupyter-widgets/base",
      "model_module_version": "2.0.0",
      "model_name": "LayoutModel",
      "state": {}
     },
     "3cee254a5b4246c183bde24cca2e14d8": {
      "model_module": "@jupyter-widgets/base",
      "model_module_version": "2.0.0",
      "model_name": "LayoutModel",
      "state": {}
     },
     "4001e301994f4c23b7a618c55bfd361f": {
      "model_module": "@jupyter-widgets/controls",
      "model_module_version": "2.0.0",
      "model_name": "FloatProgressModel",
      "state": {
       "bar_style": "success",
       "layout": "IPY_MODEL_5b594320a7134440948a7808c3f14aa8",
       "max": 59015,
       "style": "IPY_MODEL_8535cd5489ae42a9ae9a4e1b63aff14f",
       "value": 59015
      }
     },
     "4005e8d40e5c409098ff8640ff853daa": {
      "model_module": "@jupyter-widgets/controls",
      "model_module_version": "2.0.0",
      "model_name": "HTMLStyleModel",
      "state": {
       "description_width": "",
       "font_size": null,
       "text_color": null
      }
     },
     "40e72371fe8743a0bdddfafd8003a83a": {
      "model_module": "@jupyter-widgets/controls",
      "model_module_version": "2.0.0",
      "model_name": "HTMLModel",
      "state": {
       "layout": "IPY_MODEL_3cee254a5b4246c183bde24cca2e14d8",
       "style": "IPY_MODEL_042d9fef8da7432493348d22f8502e97",
       "value": "  0%"
      }
     },
     "44c98b0d3d714960a1f0179c251da7b0": {
      "model_module": "@jupyter-widgets/controls",
      "model_module_version": "2.0.0",
      "model_name": "HTMLModel",
      "state": {
       "layout": "IPY_MODEL_f3ca76b7f71b46be8c1798aac2c0aa16",
       "style": "IPY_MODEL_4005e8d40e5c409098ff8640ff853daa",
       "value": " 23/59015 [00:27&lt;3:08:24,  5.22it/s]"
      }
     },
     "4a3fb652f1304c9c899f82a437ecd3b7": {
      "model_module": "@jupyter-widgets/base",
      "model_module_version": "2.0.0",
      "model_name": "LayoutModel",
      "state": {}
     },
     "4a4c97b08cea45e68332ffbc90641bc9": {
      "model_module": "@jupyter-widgets/controls",
      "model_module_version": "2.0.0",
      "model_name": "HTMLStyleModel",
      "state": {
       "description_width": "",
       "font_size": null,
       "text_color": null
      }
     },
     "4c1d8726a76445cfa9d0407e85516c96": {
      "model_module": "@jupyter-widgets/base",
      "model_module_version": "2.0.0",
      "model_name": "LayoutModel",
      "state": {}
     },
     "4f0dd8c6f0fb423f815248aac16df155": {
      "model_module": "@jupyter-widgets/base",
      "model_module_version": "2.0.0",
      "model_name": "LayoutModel",
      "state": {}
     },
     "4f31881ad28b4724b237c44369c26e29": {
      "model_module": "@jupyter-widgets/controls",
      "model_module_version": "2.0.0",
      "model_name": "HTMLStyleModel",
      "state": {
       "description_width": "",
       "font_size": null,
       "text_color": null
      }
     },
     "4fc14945a601497380c9db19454bb8b0": {
      "model_module": "@jupyter-widgets/base",
      "model_module_version": "2.0.0",
      "model_name": "LayoutModel",
      "state": {}
     },
     "50f65bdeac554b66b43433e03c77afba": {
      "model_module": "@jupyter-widgets/controls",
      "model_module_version": "2.0.0",
      "model_name": "HTMLModel",
      "state": {
       "layout": "IPY_MODEL_e6cda002d3e140f590013dcdec61812f",
       "style": "IPY_MODEL_bf731990fc1643e2a44903d5f55c8ba2",
       "value": " 334987/334987 [00:18&lt;00:00, 18002.39it/s]"
      }
     },
     "52c00304d08942f1b636c4b67c742612": {
      "model_module": "@jupyter-widgets/base",
      "model_module_version": "2.0.0",
      "model_name": "LayoutModel",
      "state": {}
     },
     "5304662677634050889c7a2374fd3ded": {
      "model_module": "@jupyter-widgets/controls",
      "model_module_version": "2.0.0",
      "model_name": "ProgressStyleModel",
      "state": {
       "description_width": ""
      }
     },
     "53330e6cefcc4434a8c3dcea5429f2e0": {
      "model_module": "@jupyter-widgets/controls",
      "model_module_version": "2.0.0",
      "model_name": "HTMLStyleModel",
      "state": {
       "description_width": "",
       "font_size": null,
       "text_color": null
      }
     },
     "569664fb87b644f993d7ab6cdff6e40a": {
      "model_module": "@jupyter-widgets/base",
      "model_module_version": "2.0.0",
      "model_name": "LayoutModel",
      "state": {}
     },
     "5737444378654459b26881b9ace77f63": {
      "model_module": "@jupyter-widgets/controls",
      "model_module_version": "2.0.0",
      "model_name": "HTMLStyleModel",
      "state": {
       "description_width": "",
       "font_size": null,
       "text_color": null
      }
     },
     "591b804b29684acc930e8fc9230f2b50": {
      "model_module": "@jupyter-widgets/base",
      "model_module_version": "2.0.0",
      "model_name": "LayoutModel",
      "state": {}
     },
     "596e069668e74856b495df42bb1c8bbf": {
      "model_module": "@jupyter-widgets/controls",
      "model_module_version": "2.0.0",
      "model_name": "FloatProgressModel",
      "state": {
       "bar_style": "success",
       "layout": "IPY_MODEL_a00cb1a9e7764fb9b9f8b6099303b7e4",
       "max": 289924448,
       "style": "IPY_MODEL_c099b1faf97a4f17bd048b9c82e17e2c",
       "value": 289924448
      }
     },
     "5b594320a7134440948a7808c3f14aa8": {
      "model_module": "@jupyter-widgets/base",
      "model_module_version": "2.0.0",
      "model_name": "LayoutModel",
      "state": {}
     },
     "5b78d0440e1843b4aa8a147dac2190bd": {
      "model_module": "@jupyter-widgets/base",
      "model_module_version": "2.0.0",
      "model_name": "LayoutModel",
      "state": {}
     },
     "5d89041161a54638b2e2139f6f51a65d": {
      "model_module": "@jupyter-widgets/base",
      "model_module_version": "2.0.0",
      "model_name": "LayoutModel",
      "state": {}
     },
     "62990a1dabdb4c0c85c1e4fdb1686df7": {
      "model_module": "@jupyter-widgets/controls",
      "model_module_version": "2.0.0",
      "model_name": "HBoxModel",
      "state": {
       "children": [
        "IPY_MODEL_e5ced40f1116416fa3f6f49e548ff539",
        "IPY_MODEL_99d6851c728c4dbe81a10883842f648c",
        "IPY_MODEL_fb5973575258455e9b0e9a36e978a408"
       ],
       "layout": "IPY_MODEL_f8c56e84337949e4a9e7a5bce1ddbb57"
      }
     },
     "6928b9af14234314aa51828e05025ff2": {
      "model_module": "@jupyter-widgets/controls",
      "model_module_version": "2.0.0",
      "model_name": "HTMLModel",
      "state": {
       "layout": "IPY_MODEL_71a759d51d9640168a1085a67af3f179",
       "style": "IPY_MODEL_e2d06a90f44e42919f91d0958c5e0593",
       "value": " 59015/59015 [00:02&lt;00:00, 24419.59it/s]"
      }
     },
     "69be1faea1ef44eab9464f0b31fa81fe": {
      "model_module": "@jupyter-widgets/base",
      "model_module_version": "2.0.0",
      "model_name": "LayoutModel",
      "state": {}
     },
     "6bacc27a53d94d1286eac53dec34ee4e": {
      "model_module": "@jupyter-widgets/controls",
      "model_module_version": "2.0.0",
      "model_name": "HTMLStyleModel",
      "state": {
       "description_width": "",
       "font_size": null,
       "text_color": null
      }
     },
     "6eb214484dee4d3db5df01fce89a0188": {
      "model_module": "@jupyter-widgets/controls",
      "model_module_version": "2.0.0",
      "model_name": "HTMLModel",
      "state": {
       "layout": "IPY_MODEL_05e9d4fe103f4403979d52475f511c81",
       "style": "IPY_MODEL_c695301f85e143a58c4dc87bb759849a",
       "value": " 59015/59015 [00:03&lt;00:00, 22033.13it/s]"
      }
     },
     "707aa0255f4f4c12a5a62923ff9bb8f7": {
      "model_module": "@jupyter-widgets/controls",
      "model_module_version": "2.0.0",
      "model_name": "HBoxModel",
      "state": {
       "children": [
        "IPY_MODEL_c83e2871fc98481cb16829d9c278e238",
        "IPY_MODEL_b54f4f5230bd49dfa16f15bfd4963a3b",
        "IPY_MODEL_7622b8641286488c964bb936b2c867de"
       ],
       "layout": "IPY_MODEL_7b16c3717b494103a9552d4cf0c473a5"
      }
     },
     "71a759d51d9640168a1085a67af3f179": {
      "model_module": "@jupyter-widgets/base",
      "model_module_version": "2.0.0",
      "model_name": "LayoutModel",
      "state": {}
     },
     "71afe14cd1b24c409fde79edfb03d13c": {
      "model_module": "@jupyter-widgets/controls",
      "model_module_version": "2.0.0",
      "model_name": "HTMLStyleModel",
      "state": {
       "description_width": "",
       "font_size": null,
       "text_color": null
      }
     },
     "73fe402586534152acd8ac74a3db66b1": {
      "model_module": "@jupyter-widgets/controls",
      "model_module_version": "2.0.0",
      "model_name": "ProgressStyleModel",
      "state": {
       "description_width": ""
      }
     },
     "7622b8641286488c964bb936b2c867de": {
      "model_module": "@jupyter-widgets/controls",
      "model_module_version": "2.0.0",
      "model_name": "HTMLModel",
      "state": {
       "layout": "IPY_MODEL_f8c690b3e75b45eda63ec9bc7f83b882",
       "style": "IPY_MODEL_53330e6cefcc4434a8c3dcea5429f2e0",
       "value": " 43/921 [00:09&lt;03:03,  4.79it/s]"
      }
     },
     "78db7ab9ef41434a9b8ae754b6952434": {
      "model_module": "@jupyter-widgets/base",
      "model_module_version": "2.0.0",
      "model_name": "LayoutModel",
      "state": {}
     },
     "7aae1ff1f42443208075ef04d9bc8556": {
      "model_module": "@jupyter-widgets/controls",
      "model_module_version": "2.0.0",
      "model_name": "HTMLStyleModel",
      "state": {
       "description_width": "",
       "font_size": null,
       "text_color": null
      }
     },
     "7b16c3717b494103a9552d4cf0c473a5": {
      "model_module": "@jupyter-widgets/base",
      "model_module_version": "2.0.0",
      "model_name": "LayoutModel",
      "state": {}
     },
     "81c5c8cace1f456fa2c9e2d04428f228": {
      "model_module": "@jupyter-widgets/controls",
      "model_module_version": "2.0.0",
      "model_name": "HBoxModel",
      "state": {
       "children": [
        "IPY_MODEL_e23a3f8bc85b4542a28d873eb484b9cb",
        "IPY_MODEL_fa1196af0f544aefb64383306d782171",
        "IPY_MODEL_9c1e033dd66847b18acb217285258d01"
       ],
       "layout": "IPY_MODEL_bd5077ea96a54c75bd133396f2f63220"
      }
     },
     "848a328f05a1491b83172e885325e491": {
      "model_module": "@jupyter-widgets/controls",
      "model_module_version": "2.0.0",
      "model_name": "HBoxModel",
      "state": {
       "children": [
        "IPY_MODEL_ebb7d947eea84712a1ac7da123905b83",
        "IPY_MODEL_8d68eb7970054219a6a43c965c410c7e",
        "IPY_MODEL_6928b9af14234314aa51828e05025ff2"
       ],
       "layout": "IPY_MODEL_85518378869d4919a09dc689730e1a72"
      }
     },
     "8535cd5489ae42a9ae9a4e1b63aff14f": {
      "model_module": "@jupyter-widgets/controls",
      "model_module_version": "2.0.0",
      "model_name": "ProgressStyleModel",
      "state": {
       "description_width": ""
      }
     },
     "85518378869d4919a09dc689730e1a72": {
      "model_module": "@jupyter-widgets/base",
      "model_module_version": "2.0.0",
      "model_name": "LayoutModel",
      "state": {}
     },
     "86e868987fcb45c08fcb82277bb2087f": {
      "model_module": "@jupyter-widgets/controls",
      "model_module_version": "2.0.0",
      "model_name": "HTMLStyleModel",
      "state": {
       "description_width": "",
       "font_size": null,
       "text_color": null
      }
     },
     "8ced24dfcf4b425a8e993aecdf44a80c": {
      "model_module": "@jupyter-widgets/controls",
      "model_module_version": "2.0.0",
      "model_name": "ProgressStyleModel",
      "state": {
       "description_width": ""
      }
     },
     "8d68eb7970054219a6a43c965c410c7e": {
      "model_module": "@jupyter-widgets/controls",
      "model_module_version": "2.0.0",
      "model_name": "FloatProgressModel",
      "state": {
       "bar_style": "success",
       "layout": "IPY_MODEL_591b804b29684acc930e8fc9230f2b50",
       "max": 59015,
       "style": "IPY_MODEL_9b99122a44d44748ac2f843f4d3df641",
       "value": 59015
      }
     },
     "8ff4e414ce7d455eb141051004b8012e": {
      "model_module": "@jupyter-widgets/controls",
      "model_module_version": "2.0.0",
      "model_name": "FloatProgressModel",
      "state": {
       "bar_style": "danger",
       "layout": "IPY_MODEL_a428f3fd268c449eb1f31c5ca43d2741",
       "max": 921,
       "style": "IPY_MODEL_bea75d4b40a944248d73d477eba49c1a",
       "value": 6
      }
     },
     "923de2fab194487aa9604b9a2dc2901b": {
      "model_module": "@jupyter-widgets/controls",
      "model_module_version": "2.0.0",
      "model_name": "HTMLStyleModel",
      "state": {
       "description_width": "",
       "font_size": null,
       "text_color": null
      }
     },
     "947254d19eff4c71913f84f77e47490e": {
      "model_module": "@jupyter-widgets/controls",
      "model_module_version": "2.0.0",
      "model_name": "HBoxModel",
      "state": {
       "children": [
        "IPY_MODEL_40e72371fe8743a0bdddfafd8003a83a",
        "IPY_MODEL_efaa55ec542545fbb944e963331bcd6d",
        "IPY_MODEL_44c98b0d3d714960a1f0179c251da7b0"
       ],
       "layout": "IPY_MODEL_1eb79d1b62db4ca797b348d8a154494d"
      }
     },
     "958fb200dd9b42d1af7be09feb0a6779": {
      "model_module": "@jupyter-widgets/controls",
      "model_module_version": "2.0.0",
      "model_name": "HBoxModel",
      "state": {
       "children": [
        "IPY_MODEL_ca3e92a124a94840abfbb66069a4b67e",
        "IPY_MODEL_8ff4e414ce7d455eb141051004b8012e",
        "IPY_MODEL_1058935c12b04737a5645670229daf8b"
       ],
       "layout": "IPY_MODEL_de74fc7559414910a9e4013d100b8dc5"
      }
     },
     "988d6da6ee5a4190a8d3037ab93bec98": {
      "model_module": "@jupyter-widgets/base",
      "model_module_version": "2.0.0",
      "model_name": "LayoutModel",
      "state": {}
     },
     "98f2604fb05447019c697d47ea17140d": {
      "model_module": "@jupyter-widgets/controls",
      "model_module_version": "2.0.0",
      "model_name": "HTMLStyleModel",
      "state": {
       "description_width": "",
       "font_size": null,
       "text_color": null
      }
     },
     "9943e125af504fbdaec8af815d5e8e4d": {
      "model_module": "@jupyter-widgets/base",
      "model_module_version": "2.0.0",
      "model_name": "LayoutModel",
      "state": {}
     },
     "996e74aa18284bcb9ab6b997de7bed35": {
      "model_module": "@jupyter-widgets/controls",
      "model_module_version": "2.0.0",
      "model_name": "HTMLModel",
      "state": {
       "layout": "IPY_MODEL_9a167aa876624bd582b042d68c7beb1b",
       "style": "IPY_MODEL_4a4c97b08cea45e68332ffbc90641bc9",
       "value": "len(movies_data) = 58932:   9%"
      }
     },
     "99d6851c728c4dbe81a10883842f648c": {
      "model_module": "@jupyter-widgets/controls",
      "model_module_version": "2.0.0",
      "model_name": "FloatProgressModel",
      "state": {
       "bar_style": "success",
       "layout": "IPY_MODEL_e0903f2614534d8d97b62ce7a3a5cb83",
       "max": 334987,
       "style": "IPY_MODEL_fac7bf9061b14dca92463d37c25f93d9",
       "value": 334987
      }
     },
     "9a167aa876624bd582b042d68c7beb1b": {
      "model_module": "@jupyter-widgets/base",
      "model_module_version": "2.0.0",
      "model_name": "LayoutModel",
      "state": {}
     },
     "9a6777a32dee4d14b114268bb03259df": {
      "model_module": "@jupyter-widgets/controls",
      "model_module_version": "2.0.0",
      "model_name": "HTMLModel",
      "state": {
       "layout": "IPY_MODEL_988d6da6ee5a4190a8d3037ab93bec98",
       "style": "IPY_MODEL_71afe14cd1b24c409fde79edfb03d13c",
       "value": "100%"
      }
     },
     "9b15dccdfc1e43e895181d74dc1b4e52": {
      "model_module": "@jupyter-widgets/base",
      "model_module_version": "2.0.0",
      "model_name": "LayoutModel",
      "state": {}
     },
     "9b99122a44d44748ac2f843f4d3df641": {
      "model_module": "@jupyter-widgets/controls",
      "model_module_version": "2.0.0",
      "model_name": "ProgressStyleModel",
      "state": {
       "description_width": ""
      }
     },
     "9c1e033dd66847b18acb217285258d01": {
      "model_module": "@jupyter-widgets/controls",
      "model_module_version": "2.0.0",
      "model_name": "HTMLModel",
      "state": {
       "layout": "IPY_MODEL_183243b1ca8d4804a1255b751255956c",
       "style": "IPY_MODEL_0e93d89e9d47400d9e353ee58ee56b08",
       "value": " 1179/1179 [05:35&lt;00:00,  3.13it/s]"
      }
     },
     "9eaa684475c44ab29cc637032596d9a6": {
      "model_module": "@jupyter-widgets/controls",
      "model_module_version": "2.0.0",
      "model_name": "HTMLStyleModel",
      "state": {
       "description_width": "",
       "font_size": null,
       "text_color": null
      }
     },
     "a00cb1a9e7764fb9b9f8b6099303b7e4": {
      "model_module": "@jupyter-widgets/base",
      "model_module_version": "2.0.0",
      "model_name": "LayoutModel",
      "state": {}
     },
     "a1df3813a2b54d048e580fcceaafbb1b": {
      "model_module": "@jupyter-widgets/controls",
      "model_module_version": "2.0.0",
      "model_name": "FloatProgressModel",
      "state": {
       "bar_style": "success",
       "layout": "IPY_MODEL_b5bac0f1e3e6430daf0da14f5ef2aaa0",
       "max": 289924448,
       "style": "IPY_MODEL_5304662677634050889c7a2374fd3ded",
       "value": 289924448
      }
     },
     "a428f3fd268c449eb1f31c5ca43d2741": {
      "model_module": "@jupyter-widgets/base",
      "model_module_version": "2.0.0",
      "model_name": "LayoutModel",
      "state": {}
     },
     "a616c5eef1014d6d92910a9ad88cc862": {
      "model_module": "@jupyter-widgets/controls",
      "model_module_version": "2.0.0",
      "model_name": "HBoxModel",
      "state": {
       "children": [
        "IPY_MODEL_9a6777a32dee4d14b114268bb03259df",
        "IPY_MODEL_37a7232eee0741ddbae3851d62d54cf2",
        "IPY_MODEL_23f4483ed4004b85b06a7b5306925210"
       ],
       "layout": "IPY_MODEL_224bfb05d74841c3a5453742bb63b853"
      }
     },
     "a78d81b90c6145448014386d3bd4aff7": {
      "model_module": "@jupyter-widgets/base",
      "model_module_version": "2.0.0",
      "model_name": "LayoutModel",
      "state": {}
     },
     "a85ab4fe15144f258298c7d986608b24": {
      "model_module": "@jupyter-widgets/controls",
      "model_module_version": "2.0.0",
      "model_name": "HTMLStyleModel",
      "state": {
       "description_width": "",
       "font_size": null,
       "text_color": null
      }
     },
     "ab02d5fdfef54f2e886edddac7443dd6": {
      "model_module": "@jupyter-widgets/controls",
      "model_module_version": "2.0.0",
      "model_name": "HTMLModel",
      "state": {
       "layout": "IPY_MODEL_569664fb87b644f993d7ab6cdff6e40a",
       "style": "IPY_MODEL_ef18bd08004642c1aa93554ba4b6a278",
       "value": " 289924448/289924448 [03:54&lt;00:00, 1163109.35it/s]"
      }
     },
     "ab5755b838e7462990ae25de25c928ac": {
      "model_module": "@jupyter-widgets/controls",
      "model_module_version": "2.0.0",
      "model_name": "HBoxModel",
      "state": {
       "children": [
        "IPY_MODEL_2f6647b860ec4a6290fe579313112715",
        "IPY_MODEL_4001e301994f4c23b7a618c55bfd361f",
        "IPY_MODEL_6eb214484dee4d3db5df01fce89a0188"
       ],
       "layout": "IPY_MODEL_be4e40fa7d15490bb9a2cc9506e5d55f"
      }
     },
     "adc7ab3679b540e9974712879039beb0": {
      "model_module": "@jupyter-widgets/base",
      "model_module_version": "2.0.0",
      "model_name": "LayoutModel",
      "state": {}
     },
     "b038813d1da3481b94c3a10670cf343c": {
      "model_module": "@jupyter-widgets/controls",
      "model_module_version": "2.0.0",
      "model_name": "HTMLModel",
      "state": {
       "layout": "IPY_MODEL_f3e3da4d55714098a84400eadf0af44d",
       "style": "IPY_MODEL_a85ab4fe15144f258298c7d986608b24",
       "value": " 289924448/289924448 [03:54&lt;00:00, 1124643.71it/s]"
      }
     },
     "b54f4f5230bd49dfa16f15bfd4963a3b": {
      "model_module": "@jupyter-widgets/controls",
      "model_module_version": "2.0.0",
      "model_name": "FloatProgressModel",
      "state": {
       "bar_style": "danger",
       "layout": "IPY_MODEL_e24b7d5445b040df9763be8145521b3c",
       "max": 921,
       "style": "IPY_MODEL_f4deeabd710a40fc990edfa1523c0ac7",
       "value": 43
      }
     },
     "b55ec2a950bc4736b6108ff95ee2b8b4": {
      "model_module": "@jupyter-widgets/base",
      "model_module_version": "2.0.0",
      "model_name": "LayoutModel",
      "state": {}
     },
     "b5bac0f1e3e6430daf0da14f5ef2aaa0": {
      "model_module": "@jupyter-widgets/base",
      "model_module_version": "2.0.0",
      "model_name": "LayoutModel",
      "state": {}
     },
     "bab4a2d3b2f5467b978b8019c0b34e87": {
      "model_module": "@jupyter-widgets/controls",
      "model_module_version": "2.0.0",
      "model_name": "HBoxModel",
      "state": {
       "children": [
        "IPY_MODEL_d042c5ca497c4b01b1159d2a7d21947d",
        "IPY_MODEL_596e069668e74856b495df42bb1c8bbf",
        "IPY_MODEL_b038813d1da3481b94c3a10670cf343c"
       ],
       "layout": "IPY_MODEL_69be1faea1ef44eab9464f0b31fa81fe"
      }
     },
     "bc1c701b002047e69c47407ed3755bdd": {
      "model_module": "@jupyter-widgets/controls",
      "model_module_version": "2.0.0",
      "model_name": "FloatProgressModel",
      "state": {
       "bar_style": "success",
       "layout": "IPY_MODEL_4f0dd8c6f0fb423f815248aac16df155",
       "max": 334987,
       "style": "IPY_MODEL_8ced24dfcf4b425a8e993aecdf44a80c",
       "value": 334987
      }
     },
     "bd5077ea96a54c75bd133396f2f63220": {
      "model_module": "@jupyter-widgets/base",
      "model_module_version": "2.0.0",
      "model_name": "LayoutModel",
      "state": {}
     },
     "be4e40fa7d15490bb9a2cc9506e5d55f": {
      "model_module": "@jupyter-widgets/base",
      "model_module_version": "2.0.0",
      "model_name": "LayoutModel",
      "state": {}
     },
     "bea75d4b40a944248d73d477eba49c1a": {
      "model_module": "@jupyter-widgets/controls",
      "model_module_version": "2.0.0",
      "model_name": "ProgressStyleModel",
      "state": {
       "description_width": ""
      }
     },
     "bf731990fc1643e2a44903d5f55c8ba2": {
      "model_module": "@jupyter-widgets/controls",
      "model_module_version": "2.0.0",
      "model_name": "HTMLStyleModel",
      "state": {
       "description_width": "",
       "font_size": null,
       "text_color": null
      }
     },
     "c099b1faf97a4f17bd048b9c82e17e2c": {
      "model_module": "@jupyter-widgets/controls",
      "model_module_version": "2.0.0",
      "model_name": "ProgressStyleModel",
      "state": {
       "description_width": ""
      }
     },
     "c2318a5e14314147ab2398214c5c482c": {
      "model_module": "@jupyter-widgets/base",
      "model_module_version": "2.0.0",
      "model_name": "LayoutModel",
      "state": {}
     },
     "c459d3a69d974017a6254fb0ed06708e": {
      "model_module": "@jupyter-widgets/base",
      "model_module_version": "2.0.0",
      "model_name": "LayoutModel",
      "state": {}
     },
     "c695301f85e143a58c4dc87bb759849a": {
      "model_module": "@jupyter-widgets/controls",
      "model_module_version": "2.0.0",
      "model_name": "HTMLStyleModel",
      "state": {
       "description_width": "",
       "font_size": null,
       "text_color": null
      }
     },
     "c6c49122ab9b4a49a39dd033cfb70a3f": {
      "model_module": "@jupyter-widgets/controls",
      "model_module_version": "2.0.0",
      "model_name": "HTMLModel",
      "state": {
       "layout": "IPY_MODEL_9b15dccdfc1e43e895181d74dc1b4e52",
       "style": "IPY_MODEL_2ab45b97cbd84720b0c9d3de46cf6546",
       "value": "len(movies_data) = 58932: 100%"
      }
     },
     "c83e2871fc98481cb16829d9c278e238": {
      "model_module": "@jupyter-widgets/controls",
      "model_module_version": "2.0.0",
      "model_name": "HTMLModel",
      "state": {
       "layout": "IPY_MODEL_4a3fb652f1304c9c899f82a437ecd3b7",
       "style": "IPY_MODEL_7aae1ff1f42443208075ef04d9bc8556",
       "value": "  5%"
      }
     },
     "ca3e92a124a94840abfbb66069a4b67e": {
      "model_module": "@jupyter-widgets/controls",
      "model_module_version": "2.0.0",
      "model_name": "HTMLModel",
      "state": {
       "layout": "IPY_MODEL_2987cf3ab68e40668d5d92a5c3a4cf92",
       "style": "IPY_MODEL_923de2fab194487aa9604b9a2dc2901b",
       "value": "  1%"
      }
     },
     "cad7b82c36cb45b68103d8ec2be38858": {
      "model_module": "@jupyter-widgets/controls",
      "model_module_version": "2.0.0",
      "model_name": "ProgressStyleModel",
      "state": {
       "description_width": ""
      }
     },
     "cadc7f9d21544dc4aad558f9aae2f94c": {
      "model_module": "@jupyter-widgets/base",
      "model_module_version": "2.0.0",
      "model_name": "LayoutModel",
      "state": {}
     },
     "cf6516e79d9d4c8c8ad6837b6cb344fb": {
      "model_module": "@jupyter-widgets/controls",
      "model_module_version": "2.0.0",
      "model_name": "HTMLModel",
      "state": {
       "layout": "IPY_MODEL_5b78d0440e1843b4aa8a147dac2190bd",
       "style": "IPY_MODEL_39565718227643cc91ff7c3d5c1ed50b",
       "value": "100%"
      }
     },
     "d042c5ca497c4b01b1159d2a7d21947d": {
      "model_module": "@jupyter-widgets/controls",
      "model_module_version": "2.0.0",
      "model_name": "HTMLModel",
      "state": {
       "layout": "IPY_MODEL_e388547859d54becb7e02260c1351bbf",
       "style": "IPY_MODEL_0ac016b8b3554567a1d34d8496352333",
       "value": "len(movies_data) = 58932: 100%"
      }
     },
     "d1059117231c4196b591ed4bdd46103f": {
      "model_module": "@jupyter-widgets/controls",
      "model_module_version": "2.0.0",
      "model_name": "HTMLStyleModel",
      "state": {
       "description_width": "",
       "font_size": null,
       "text_color": null
      }
     },
     "d5ab1f94c9c04b8591f1b29ba03c70ce": {
      "model_module": "@jupyter-widgets/controls",
      "model_module_version": "2.0.0",
      "model_name": "HTMLModel",
      "state": {
       "layout": "IPY_MODEL_5d89041161a54638b2e2139f6f51a65d",
       "style": "IPY_MODEL_1b8c9347f00d4267b7aa1afbf592801c",
       "value": " 7/1179 [00:02&lt;06:00,  3.25it/s]"
      }
     },
     "de74fc7559414910a9e4013d100b8dc5": {
      "model_module": "@jupyter-widgets/base",
      "model_module_version": "2.0.0",
      "model_name": "LayoutModel",
      "state": {}
     },
     "e0903f2614534d8d97b62ce7a3a5cb83": {
      "model_module": "@jupyter-widgets/base",
      "model_module_version": "2.0.0",
      "model_name": "LayoutModel",
      "state": {}
     },
     "e23a3f8bc85b4542a28d873eb484b9cb": {
      "model_module": "@jupyter-widgets/controls",
      "model_module_version": "2.0.0",
      "model_name": "HTMLModel",
      "state": {
       "layout": "IPY_MODEL_a78d81b90c6145448014386d3bd4aff7",
       "style": "IPY_MODEL_9eaa684475c44ab29cc637032596d9a6",
       "value": "100%"
      }
     },
     "e24b7d5445b040df9763be8145521b3c": {
      "model_module": "@jupyter-widgets/base",
      "model_module_version": "2.0.0",
      "model_name": "LayoutModel",
      "state": {}
     },
     "e250eb05a9f3457eae6f61114bc7562a": {
      "model_module": "@jupyter-widgets/controls",
      "model_module_version": "2.0.0",
      "model_name": "HTMLModel",
      "state": {
       "layout": "IPY_MODEL_cadc7f9d21544dc4aad558f9aae2f94c",
       "style": "IPY_MODEL_2978c91de0fc41019f132fe268f859c3",
       "value": " 26196949/289924448 [00:30&lt;04:46, 920906.10it/s]"
      }
     },
     "e2d06a90f44e42919f91d0958c5e0593": {
      "model_module": "@jupyter-widgets/controls",
      "model_module_version": "2.0.0",
      "model_name": "HTMLStyleModel",
      "state": {
       "description_width": "",
       "font_size": null,
       "text_color": null
      }
     },
     "e388547859d54becb7e02260c1351bbf": {
      "model_module": "@jupyter-widgets/base",
      "model_module_version": "2.0.0",
      "model_name": "LayoutModel",
      "state": {}
     },
     "e5ced40f1116416fa3f6f49e548ff539": {
      "model_module": "@jupyter-widgets/controls",
      "model_module_version": "2.0.0",
      "model_name": "HTMLModel",
      "state": {
       "layout": "IPY_MODEL_397b5671332441109246e178bceee6ec",
       "style": "IPY_MODEL_5737444378654459b26881b9ace77f63",
       "value": "100%"
      }
     },
     "e6cda002d3e140f590013dcdec61812f": {
      "model_module": "@jupyter-widgets/base",
      "model_module_version": "2.0.0",
      "model_name": "LayoutModel",
      "state": {}
     },
     "e70d4808b5fe4c3eae6c8fed2f7e4282": {
      "model_module": "@jupyter-widgets/controls",
      "model_module_version": "2.0.0",
      "model_name": "HBoxModel",
      "state": {
       "children": [
        "IPY_MODEL_cf6516e79d9d4c8c8ad6837b6cb344fb",
        "IPY_MODEL_bc1c701b002047e69c47407ed3755bdd",
        "IPY_MODEL_50f65bdeac554b66b43433e03c77afba"
       ],
       "layout": "IPY_MODEL_4c1d8726a76445cfa9d0407e85516c96"
      }
     },
     "e7b5226df332405da2010ce2392f5a9b": {
      "model_module": "@jupyter-widgets/controls",
      "model_module_version": "2.0.0",
      "model_name": "HTMLStyleModel",
      "state": {
       "description_width": "",
       "font_size": null,
       "text_color": null
      }
     },
     "ebb7d947eea84712a1ac7da123905b83": {
      "model_module": "@jupyter-widgets/controls",
      "model_module_version": "2.0.0",
      "model_name": "HTMLModel",
      "state": {
       "layout": "IPY_MODEL_c2318a5e14314147ab2398214c5c482c",
       "style": "IPY_MODEL_86e868987fcb45c08fcb82277bb2087f",
       "value": "100%"
      }
     },
     "ef18bd08004642c1aa93554ba4b6a278": {
      "model_module": "@jupyter-widgets/controls",
      "model_module_version": "2.0.0",
      "model_name": "HTMLStyleModel",
      "state": {
       "description_width": "",
       "font_size": null,
       "text_color": null
      }
     },
     "efaa55ec542545fbb944e963331bcd6d": {
      "model_module": "@jupyter-widgets/controls",
      "model_module_version": "2.0.0",
      "model_name": "FloatProgressModel",
      "state": {
       "bar_style": "danger",
       "layout": "IPY_MODEL_9943e125af504fbdaec8af815d5e8e4d",
       "max": 59015,
       "style": "IPY_MODEL_f910dad49bfe448fa57701b6ac2dc7fe",
       "value": 23
      }
     },
     "f3c5620a72ee4318bbe2125355c8fd59": {
      "model_module": "@jupyter-widgets/controls",
      "model_module_version": "2.0.0",
      "model_name": "HBoxModel",
      "state": {
       "children": [
        "IPY_MODEL_c6c49122ab9b4a49a39dd033cfb70a3f",
        "IPY_MODEL_a1df3813a2b54d048e580fcceaafbb1b",
        "IPY_MODEL_ab02d5fdfef54f2e886edddac7443dd6"
       ],
       "layout": "IPY_MODEL_32cc006aeaf04bf8bcfa4bbb6c1d91e1"
      }
     },
     "f3ca76b7f71b46be8c1798aac2c0aa16": {
      "model_module": "@jupyter-widgets/base",
      "model_module_version": "2.0.0",
      "model_name": "LayoutModel",
      "state": {}
     },
     "f3e3da4d55714098a84400eadf0af44d": {
      "model_module": "@jupyter-widgets/base",
      "model_module_version": "2.0.0",
      "model_name": "LayoutModel",
      "state": {}
     },
     "f4deeabd710a40fc990edfa1523c0ac7": {
      "model_module": "@jupyter-widgets/controls",
      "model_module_version": "2.0.0",
      "model_name": "ProgressStyleModel",
      "state": {
       "description_width": ""
      }
     },
     "f8c56e84337949e4a9e7a5bce1ddbb57": {
      "model_module": "@jupyter-widgets/base",
      "model_module_version": "2.0.0",
      "model_name": "LayoutModel",
      "state": {}
     },
     "f8c690b3e75b45eda63ec9bc7f83b882": {
      "model_module": "@jupyter-widgets/base",
      "model_module_version": "2.0.0",
      "model_name": "LayoutModel",
      "state": {}
     },
     "f910dad49bfe448fa57701b6ac2dc7fe": {
      "model_module": "@jupyter-widgets/controls",
      "model_module_version": "2.0.0",
      "model_name": "ProgressStyleModel",
      "state": {
       "description_width": ""
      }
     },
     "fa1196af0f544aefb64383306d782171": {
      "model_module": "@jupyter-widgets/controls",
      "model_module_version": "2.0.0",
      "model_name": "FloatProgressModel",
      "state": {
       "bar_style": "success",
       "layout": "IPY_MODEL_17ea912709344992810eff96f0b34006",
       "max": 1179,
       "style": "IPY_MODEL_181cf74e44704cf3a6d5685c1d6a868e",
       "value": 1179
      }
     },
     "fac7bf9061b14dca92463d37c25f93d9": {
      "model_module": "@jupyter-widgets/controls",
      "model_module_version": "2.0.0",
      "model_name": "ProgressStyleModel",
      "state": {
       "description_width": ""
      }
     },
     "fb5973575258455e9b0e9a36e978a408": {
      "model_module": "@jupyter-widgets/controls",
      "model_module_version": "2.0.0",
      "model_name": "HTMLModel",
      "state": {
       "layout": "IPY_MODEL_196983d8e171482c9ae9116608dd6c5e",
       "style": "IPY_MODEL_6bacc27a53d94d1286eac53dec34ee4e",
       "value": " 334987/334987 [00:18&lt;00:00, 18384.12it/s]"
      }
     }
    },
    "version_major": 2,
    "version_minor": 0
   }
  }
 },
 "nbformat": 4,
 "nbformat_minor": 5
}
