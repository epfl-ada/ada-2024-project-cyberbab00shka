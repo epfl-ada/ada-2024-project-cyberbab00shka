{
 "cells": [
  {
   "cell_type": "code",
   "execution_count": 1,
   "id": "352e8319-68f2-4d37-9140-642789a658fc",
   "metadata": {},
   "outputs": [],
   "source": [
    "import gzip\n",
    "from tqdm.auto import tqdm\n",
    "import numpy as np\n",
    "import matplotlib.pyplot as plt\n",
    "import pandas as pd\n",
    "import seaborn as sns\n",
    "from tqdm.auto import tqdm\n",
    "import seaborn as sns\n",
    "from collections import defaultdict\n",
    "\n",
    "freebase_path = \"/Users/alexdremov/Downloads/freebase-rdf-latest.gz\""
   ]
  },
  {
   "cell_type": "code",
   "execution_count": 2,
   "id": "cd149117-07c6-4de4-9ab1-27fd083e9f10",
   "metadata": {},
   "outputs": [
    {
     "data": {
      "text/html": [
       "<div>\n",
       "<style scoped>\n",
       "    .dataframe tbody tr th:only-of-type {\n",
       "        vertical-align: middle;\n",
       "    }\n",
       "\n",
       "    .dataframe tbody tr th {\n",
       "        vertical-align: top;\n",
       "    }\n",
       "\n",
       "    .dataframe thead th {\n",
       "        text-align: right;\n",
       "    }\n",
       "</style>\n",
       "<table border=\"1\" class=\"dataframe\">\n",
       "  <thead>\n",
       "    <tr style=\"text-align: right;\">\n",
       "      <th></th>\n",
       "      <th>wikipedia_movie_id</th>\n",
       "      <th>fb_movie_id</th>\n",
       "      <th>character_name</th>\n",
       "      <th>actor_gender</th>\n",
       "      <th>actor_height</th>\n",
       "      <th>fb_actor_eth_id</th>\n",
       "      <th>actor_name</th>\n",
       "      <th>fb_char_actor_map_id</th>\n",
       "      <th>fb_char_id</th>\n",
       "      <th>fb_actor_id</th>\n",
       "      <th>actor_date_of_birth</th>\n",
       "      <th>movie_release_date</th>\n",
       "      <th>ethn_name</th>\n",
       "      <th>race</th>\n",
       "    </tr>\n",
       "  </thead>\n",
       "  <tbody>\n",
       "    <tr>\n",
       "      <th>0</th>\n",
       "      <td>975900</td>\n",
       "      <td>/m/03vyhn</td>\n",
       "      <td>Akooshay</td>\n",
       "      <td>F</td>\n",
       "      <td>1.620</td>\n",
       "      <td>NaN</td>\n",
       "      <td>Wanda De Jesus</td>\n",
       "      <td>/m/0bgchxw</td>\n",
       "      <td>/m/0bgcj3x</td>\n",
       "      <td>/m/03wcfv7</td>\n",
       "      <td>1958-08-26</td>\n",
       "      <td>2001-08-24</td>\n",
       "      <td>NaN</td>\n",
       "      <td>NaN</td>\n",
       "    </tr>\n",
       "    <tr>\n",
       "      <th>1</th>\n",
       "      <td>975900</td>\n",
       "      <td>/m/03vyhn</td>\n",
       "      <td>Lieutenant Melanie Ballard</td>\n",
       "      <td>F</td>\n",
       "      <td>1.780</td>\n",
       "      <td>/m/044038p</td>\n",
       "      <td>Natasha Henstridge</td>\n",
       "      <td>/m/0jys3m</td>\n",
       "      <td>/m/0bgchn4</td>\n",
       "      <td>/m/0346l4</td>\n",
       "      <td>1974-08-15</td>\n",
       "      <td>2001-08-24</td>\n",
       "      <td>NaN</td>\n",
       "      <td>NaN</td>\n",
       "    </tr>\n",
       "    <tr>\n",
       "      <th>2</th>\n",
       "      <td>975900</td>\n",
       "      <td>/m/03vyhn</td>\n",
       "      <td>Desolation Williams</td>\n",
       "      <td>M</td>\n",
       "      <td>1.727</td>\n",
       "      <td>/m/0x67</td>\n",
       "      <td>Ice Cube</td>\n",
       "      <td>/m/0jys3g</td>\n",
       "      <td>/m/0bgchn_</td>\n",
       "      <td>/m/01vw26l</td>\n",
       "      <td>1969-06-15</td>\n",
       "      <td>2001-08-24</td>\n",
       "      <td>African American</td>\n",
       "      <td>African</td>\n",
       "    </tr>\n",
       "    <tr>\n",
       "      <th>3</th>\n",
       "      <td>975900</td>\n",
       "      <td>/m/03vyhn</td>\n",
       "      <td>Sgt Jericho Butler</td>\n",
       "      <td>M</td>\n",
       "      <td>1.750</td>\n",
       "      <td>NaN</td>\n",
       "      <td>Jason Statham</td>\n",
       "      <td>/m/02vchl6</td>\n",
       "      <td>/m/0bgchnq</td>\n",
       "      <td>/m/034hyc</td>\n",
       "      <td>1967-09-12</td>\n",
       "      <td>2001-08-24</td>\n",
       "      <td>NaN</td>\n",
       "      <td>NaN</td>\n",
       "    </tr>\n",
       "    <tr>\n",
       "      <th>4</th>\n",
       "      <td>975900</td>\n",
       "      <td>/m/03vyhn</td>\n",
       "      <td>Bashira Kincaid</td>\n",
       "      <td>F</td>\n",
       "      <td>1.650</td>\n",
       "      <td>NaN</td>\n",
       "      <td>Clea DuVall</td>\n",
       "      <td>/m/02vbb3r</td>\n",
       "      <td>/m/0bgchp9</td>\n",
       "      <td>/m/01y9xg</td>\n",
       "      <td>1977-09-25</td>\n",
       "      <td>2001-08-24</td>\n",
       "      <td>NaN</td>\n",
       "      <td>NaN</td>\n",
       "    </tr>\n",
       "    <tr>\n",
       "      <th>...</th>\n",
       "      <td>...</td>\n",
       "      <td>...</td>\n",
       "      <td>...</td>\n",
       "      <td>...</td>\n",
       "      <td>...</td>\n",
       "      <td>...</td>\n",
       "      <td>...</td>\n",
       "      <td>...</td>\n",
       "      <td>...</td>\n",
       "      <td>...</td>\n",
       "      <td>...</td>\n",
       "      <td>...</td>\n",
       "      <td>...</td>\n",
       "      <td>...</td>\n",
       "    </tr>\n",
       "    <tr>\n",
       "      <th>334982</th>\n",
       "      <td>913762</td>\n",
       "      <td>/m/03pcrp</td>\n",
       "      <td>UN Spacy Commander</td>\n",
       "      <td>M</td>\n",
       "      <td>NaN</td>\n",
       "      <td>NaN</td>\n",
       "      <td>Sonny Byrkett</td>\n",
       "      <td>/m/0kr407w</td>\n",
       "      <td>/m/0kr407_</td>\n",
       "      <td>/m/0gn4bz</td>\n",
       "      <td>1954-01-01</td>\n",
       "      <td>1992-05-21</td>\n",
       "      <td>NaN</td>\n",
       "      <td>NaN</td>\n",
       "    </tr>\n",
       "    <tr>\n",
       "      <th>334983</th>\n",
       "      <td>913762</td>\n",
       "      <td>/m/03pcrp</td>\n",
       "      <td>Silvie Gena</td>\n",
       "      <td>F</td>\n",
       "      <td>NaN</td>\n",
       "      <td>NaN</td>\n",
       "      <td>Susan Byrkett</td>\n",
       "      <td>/m/0kr40b9</td>\n",
       "      <td>/m/0kr40bf</td>\n",
       "      <td>/m/0gn4nd</td>\n",
       "      <td>1958-01-01</td>\n",
       "      <td>1992-05-21</td>\n",
       "      <td>NaN</td>\n",
       "      <td>NaN</td>\n",
       "    </tr>\n",
       "    <tr>\n",
       "      <th>334984</th>\n",
       "      <td>913762</td>\n",
       "      <td>/m/03pcrp</td>\n",
       "      <td>Elensh</td>\n",
       "      <td>F</td>\n",
       "      <td>NaN</td>\n",
       "      <td>NaN</td>\n",
       "      <td>Dorothy Elias-Fahn</td>\n",
       "      <td>/m/0kr406c</td>\n",
       "      <td>/m/0kr406h</td>\n",
       "      <td>/m/0b_vcv</td>\n",
       "      <td>1970-05-01</td>\n",
       "      <td>1992-05-21</td>\n",
       "      <td>NaN</td>\n",
       "      <td>NaN</td>\n",
       "    </tr>\n",
       "    <tr>\n",
       "      <th>334985</th>\n",
       "      <td>913762</td>\n",
       "      <td>/m/03pcrp</td>\n",
       "      <td>Hibiki</td>\n",
       "      <td>M</td>\n",
       "      <td>NaN</td>\n",
       "      <td>NaN</td>\n",
       "      <td>Jonathan Fahn</td>\n",
       "      <td>/m/0kr405_</td>\n",
       "      <td>/m/0kr4090</td>\n",
       "      <td>/m/0bx7_j</td>\n",
       "      <td>1965-04-12</td>\n",
       "      <td>1992-05-21</td>\n",
       "      <td>NaN</td>\n",
       "      <td>NaN</td>\n",
       "    </tr>\n",
       "    <tr>\n",
       "      <th>334986</th>\n",
       "      <td>28308153</td>\n",
       "      <td>/m/0cp05t9</td>\n",
       "      <td>NaN</td>\n",
       "      <td>M</td>\n",
       "      <td>1.730</td>\n",
       "      <td>/m/02w7gg</td>\n",
       "      <td>David Hemmings</td>\n",
       "      <td>/m/0g8ngmc</td>\n",
       "      <td>NaN</td>\n",
       "      <td>/m/022g44</td>\n",
       "      <td>1941-11-18</td>\n",
       "      <td>1957-01-01</td>\n",
       "      <td>English</td>\n",
       "      <td>European</td>\n",
       "    </tr>\n",
       "  </tbody>\n",
       "</table>\n",
       "<p>334987 rows × 14 columns</p>\n",
       "</div>"
      ],
      "text/plain": [
       "        wikipedia_movie_id fb_movie_id              character_name  \\\n",
       "0                   975900   /m/03vyhn                    Akooshay   \n",
       "1                   975900   /m/03vyhn  Lieutenant Melanie Ballard   \n",
       "2                   975900   /m/03vyhn         Desolation Williams   \n",
       "3                   975900   /m/03vyhn          Sgt Jericho Butler   \n",
       "4                   975900   /m/03vyhn             Bashira Kincaid   \n",
       "...                    ...         ...                         ...   \n",
       "334982              913762   /m/03pcrp          UN Spacy Commander   \n",
       "334983              913762   /m/03pcrp                 Silvie Gena   \n",
       "334984              913762   /m/03pcrp                      Elensh   \n",
       "334985              913762   /m/03pcrp                      Hibiki   \n",
       "334986            28308153  /m/0cp05t9                         NaN   \n",
       "\n",
       "       actor_gender  actor_height fb_actor_eth_id          actor_name  \\\n",
       "0                 F         1.620             NaN      Wanda De Jesus   \n",
       "1                 F         1.780      /m/044038p  Natasha Henstridge   \n",
       "2                 M         1.727         /m/0x67            Ice Cube   \n",
       "3                 M         1.750             NaN       Jason Statham   \n",
       "4                 F         1.650             NaN         Clea DuVall   \n",
       "...             ...           ...             ...                 ...   \n",
       "334982            M           NaN             NaN       Sonny Byrkett   \n",
       "334983            F           NaN             NaN       Susan Byrkett   \n",
       "334984            F           NaN             NaN  Dorothy Elias-Fahn   \n",
       "334985            M           NaN             NaN       Jonathan Fahn   \n",
       "334986            M         1.730       /m/02w7gg      David Hemmings   \n",
       "\n",
       "       fb_char_actor_map_id  fb_char_id fb_actor_id actor_date_of_birth  \\\n",
       "0                /m/0bgchxw  /m/0bgcj3x  /m/03wcfv7          1958-08-26   \n",
       "1                 /m/0jys3m  /m/0bgchn4   /m/0346l4          1974-08-15   \n",
       "2                 /m/0jys3g  /m/0bgchn_  /m/01vw26l          1969-06-15   \n",
       "3                /m/02vchl6  /m/0bgchnq   /m/034hyc          1967-09-12   \n",
       "4                /m/02vbb3r  /m/0bgchp9   /m/01y9xg          1977-09-25   \n",
       "...                     ...         ...         ...                 ...   \n",
       "334982           /m/0kr407w  /m/0kr407_   /m/0gn4bz          1954-01-01   \n",
       "334983           /m/0kr40b9  /m/0kr40bf   /m/0gn4nd          1958-01-01   \n",
       "334984           /m/0kr406c  /m/0kr406h   /m/0b_vcv          1970-05-01   \n",
       "334985           /m/0kr405_  /m/0kr4090   /m/0bx7_j          1965-04-12   \n",
       "334986           /m/0g8ngmc         NaN   /m/022g44          1941-11-18   \n",
       "\n",
       "       movie_release_date         ethn_name      race  \n",
       "0              2001-08-24               NaN       NaN  \n",
       "1              2001-08-24               NaN       NaN  \n",
       "2              2001-08-24  African American   African  \n",
       "3              2001-08-24               NaN       NaN  \n",
       "4              2001-08-24               NaN       NaN  \n",
       "...                   ...               ...       ...  \n",
       "334982         1992-05-21               NaN       NaN  \n",
       "334983         1992-05-21               NaN       NaN  \n",
       "334984         1992-05-21               NaN       NaN  \n",
       "334985         1992-05-21               NaN       NaN  \n",
       "334986         1957-01-01           English  European  \n",
       "\n",
       "[334987 rows x 14 columns]"
      ]
     },
     "execution_count": 2,
     "metadata": {},
     "output_type": "execute_result"
    }
   ],
   "source": [
    "char_processed = pd.read_csv(\n",
    "    \"../../data/MovieSummaries/character_processed.csv\",\n",
    "    parse_dates=[\"actor_date_of_birth\", \"movie_release_date\"],\n",
    ")\n",
    "\n",
    "char_processed = char_processed.rename(columns={\n",
    "    'Wikipedia movie ID': \"wikipedia_movie_id\",\n",
    "    'Freebase movie ID': \"fb_movie_id\",\n",
    "    'Character name': \"character_name\",\n",
    "    'Actor gender': \"actor_gender\",\n",
    "    'Actor height (in meters)': \"actor_height\",\n",
    "    'Actor ethnicity (Freebase ID)': \"fb_actor_eth_id\",\n",
    "    'Actor name': \"actor_name\",\n",
    "    'Freebase character/actor map ID': \"fb_char_actor_map_id\",\n",
    "    'Freebase character ID': \"fb_char_id\",\n",
    "    'Freebase actor ID': \"fb_actor_id\",\n",
    "})\n",
    "\n",
    "char_processed"
   ]
  },
  {
   "cell_type": "code",
   "execution_count": 3,
   "id": "b427aec5-0780-4628-af27-cf8f030f16e5",
   "metadata": {},
   "outputs": [
    {
     "data": {
      "text/html": [
       "<div>\n",
       "<style scoped>\n",
       "    .dataframe tbody tr th:only-of-type {\n",
       "        vertical-align: middle;\n",
       "    }\n",
       "\n",
       "    .dataframe tbody tr th {\n",
       "        vertical-align: top;\n",
       "    }\n",
       "\n",
       "    .dataframe thead th {\n",
       "        text-align: right;\n",
       "    }\n",
       "</style>\n",
       "<table border=\"1\" class=\"dataframe\">\n",
       "  <thead>\n",
       "    <tr style=\"text-align: right;\">\n",
       "      <th></th>\n",
       "      <th>wikipedia_movie_id</th>\n",
       "      <th>fb_movie_id</th>\n",
       "      <th>movie_name</th>\n",
       "      <th>revenue</th>\n",
       "      <th>movie_runtime</th>\n",
       "      <th>languages</th>\n",
       "      <th>movie_release_date</th>\n",
       "      <th>countries_old</th>\n",
       "      <th>countries</th>\n",
       "      <th>genres</th>\n",
       "    </tr>\n",
       "  </thead>\n",
       "  <tbody>\n",
       "    <tr>\n",
       "      <th>0</th>\n",
       "      <td>975900</td>\n",
       "      <td>/m/03vyhn</td>\n",
       "      <td>Ghosts of Mars</td>\n",
       "      <td>14010832.0</td>\n",
       "      <td>98.0</td>\n",
       "      <td>['english']</td>\n",
       "      <td>2001-08-24</td>\n",
       "      <td>['United States of America']</td>\n",
       "      <td>['United States of America']</td>\n",
       "      <td>['Adventure', 'Horror', 'Action', 'Thriller', ...</td>\n",
       "    </tr>\n",
       "    <tr>\n",
       "      <th>1</th>\n",
       "      <td>3196793</td>\n",
       "      <td>/m/08yl5d</td>\n",
       "      <td>Getting Away with Murder: The JonBenét Ramsey ...</td>\n",
       "      <td>NaN</td>\n",
       "      <td>95.0</td>\n",
       "      <td>['english']</td>\n",
       "      <td>2000-02-16</td>\n",
       "      <td>['United States of America']</td>\n",
       "      <td>['United States of America']</td>\n",
       "      <td>['Crime', 'Drama', 'Mystery', 'Biography']</td>\n",
       "    </tr>\n",
       "    <tr>\n",
       "      <th>2</th>\n",
       "      <td>28463795</td>\n",
       "      <td>/m/0crgdbh</td>\n",
       "      <td>Brun bitter</td>\n",
       "      <td>NaN</td>\n",
       "      <td>83.0</td>\n",
       "      <td>['norwegian']</td>\n",
       "      <td>1988-01-01</td>\n",
       "      <td>['Norway']</td>\n",
       "      <td>['Norway']</td>\n",
       "      <td>['Crime', 'Drama']</td>\n",
       "    </tr>\n",
       "    <tr>\n",
       "      <th>3</th>\n",
       "      <td>9363483</td>\n",
       "      <td>/m/0285_cd</td>\n",
       "      <td>White Of The Eye</td>\n",
       "      <td>NaN</td>\n",
       "      <td>110.0</td>\n",
       "      <td>['english']</td>\n",
       "      <td>1987-01-01</td>\n",
       "      <td>['United Kingdom']</td>\n",
       "      <td>['United Kingdom']</td>\n",
       "      <td>['Erotic', 'Thriller']</td>\n",
       "    </tr>\n",
       "    <tr>\n",
       "      <th>4</th>\n",
       "      <td>261236</td>\n",
       "      <td>/m/01mrr1</td>\n",
       "      <td>A Woman in Flames</td>\n",
       "      <td>NaN</td>\n",
       "      <td>106.0</td>\n",
       "      <td>['german']</td>\n",
       "      <td>1983-01-01</td>\n",
       "      <td>['Germany']</td>\n",
       "      <td>['Germany']</td>\n",
       "      <td>['Drama']</td>\n",
       "    </tr>\n",
       "    <tr>\n",
       "      <th>...</th>\n",
       "      <td>...</td>\n",
       "      <td>...</td>\n",
       "      <td>...</td>\n",
       "      <td>...</td>\n",
       "      <td>...</td>\n",
       "      <td>...</td>\n",
       "      <td>...</td>\n",
       "      <td>...</td>\n",
       "      <td>...</td>\n",
       "      <td>...</td>\n",
       "    </tr>\n",
       "    <tr>\n",
       "      <th>81736</th>\n",
       "      <td>35228177</td>\n",
       "      <td>/m/0j7hxnt</td>\n",
       "      <td>Mermaids: The Body Found</td>\n",
       "      <td>NaN</td>\n",
       "      <td>120.0</td>\n",
       "      <td>['english']</td>\n",
       "      <td>2011-03-19</td>\n",
       "      <td>['United States of America']</td>\n",
       "      <td>['United States of America']</td>\n",
       "      <td>['Drama']</td>\n",
       "    </tr>\n",
       "    <tr>\n",
       "      <th>81737</th>\n",
       "      <td>34980460</td>\n",
       "      <td>/m/0g4pl34</td>\n",
       "      <td>Knuckle</td>\n",
       "      <td>NaN</td>\n",
       "      <td>96.0</td>\n",
       "      <td>['english']</td>\n",
       "      <td>2011-01-21</td>\n",
       "      <td>['Ireland', 'United Kingdom']</td>\n",
       "      <td>['Ireland', 'United Kingdom']</td>\n",
       "      <td>['Documentary', 'Drama', 'Biography']</td>\n",
       "    </tr>\n",
       "    <tr>\n",
       "      <th>81738</th>\n",
       "      <td>9971909</td>\n",
       "      <td>/m/02pygw1</td>\n",
       "      <td>Another Nice Mess</td>\n",
       "      <td>NaN</td>\n",
       "      <td>66.0</td>\n",
       "      <td>['english']</td>\n",
       "      <td>1972-09-22</td>\n",
       "      <td>['United States of America']</td>\n",
       "      <td>['United States of America']</td>\n",
       "      <td>['Comedy', 'Satire']</td>\n",
       "    </tr>\n",
       "    <tr>\n",
       "      <th>81739</th>\n",
       "      <td>913762</td>\n",
       "      <td>/m/03pcrp</td>\n",
       "      <td>The Super Dimension Fortress Macross II: Lover...</td>\n",
       "      <td>NaN</td>\n",
       "      <td>150.0</td>\n",
       "      <td>['japanese']</td>\n",
       "      <td>1992-05-21</td>\n",
       "      <td>['Japan']</td>\n",
       "      <td>['Japan']</td>\n",
       "      <td>['Drama', 'Adventure', 'Short Film', 'Cartoon'...</td>\n",
       "    </tr>\n",
       "    <tr>\n",
       "      <th>81740</th>\n",
       "      <td>12476867</td>\n",
       "      <td>/m/02w7zz8</td>\n",
       "      <td>Spliced</td>\n",
       "      <td>NaN</td>\n",
       "      <td>86.0</td>\n",
       "      <td>['english']</td>\n",
       "      <td>2002-01-01</td>\n",
       "      <td>['Canada']</td>\n",
       "      <td>['Canada']</td>\n",
       "      <td>['Horror', 'Thriller', 'Teen']</td>\n",
       "    </tr>\n",
       "  </tbody>\n",
       "</table>\n",
       "<p>81741 rows × 10 columns</p>\n",
       "</div>"
      ],
      "text/plain": [
       "       wikipedia_movie_id fb_movie_id  \\\n",
       "0                  975900   /m/03vyhn   \n",
       "1                 3196793   /m/08yl5d   \n",
       "2                28463795  /m/0crgdbh   \n",
       "3                 9363483  /m/0285_cd   \n",
       "4                  261236   /m/01mrr1   \n",
       "...                   ...         ...   \n",
       "81736            35228177  /m/0j7hxnt   \n",
       "81737            34980460  /m/0g4pl34   \n",
       "81738             9971909  /m/02pygw1   \n",
       "81739              913762   /m/03pcrp   \n",
       "81740            12476867  /m/02w7zz8   \n",
       "\n",
       "                                              movie_name     revenue  \\\n",
       "0                                         Ghosts of Mars  14010832.0   \n",
       "1      Getting Away with Murder: The JonBenét Ramsey ...         NaN   \n",
       "2                                            Brun bitter         NaN   \n",
       "3                                       White Of The Eye         NaN   \n",
       "4                                      A Woman in Flames         NaN   \n",
       "...                                                  ...         ...   \n",
       "81736                           Mermaids: The Body Found         NaN   \n",
       "81737                                            Knuckle         NaN   \n",
       "81738                                  Another Nice Mess         NaN   \n",
       "81739  The Super Dimension Fortress Macross II: Lover...         NaN   \n",
       "81740                                            Spliced         NaN   \n",
       "\n",
       "       movie_runtime      languages movie_release_date  \\\n",
       "0               98.0    ['english']         2001-08-24   \n",
       "1               95.0    ['english']         2000-02-16   \n",
       "2               83.0  ['norwegian']         1988-01-01   \n",
       "3              110.0    ['english']         1987-01-01   \n",
       "4              106.0     ['german']         1983-01-01   \n",
       "...              ...            ...                ...   \n",
       "81736          120.0    ['english']         2011-03-19   \n",
       "81737           96.0    ['english']         2011-01-21   \n",
       "81738           66.0    ['english']         1972-09-22   \n",
       "81739          150.0   ['japanese']         1992-05-21   \n",
       "81740           86.0    ['english']         2002-01-01   \n",
       "\n",
       "                       countries_old                      countries  \\\n",
       "0       ['United States of America']   ['United States of America']   \n",
       "1       ['United States of America']   ['United States of America']   \n",
       "2                         ['Norway']                     ['Norway']   \n",
       "3                 ['United Kingdom']             ['United Kingdom']   \n",
       "4                        ['Germany']                    ['Germany']   \n",
       "...                              ...                            ...   \n",
       "81736   ['United States of America']   ['United States of America']   \n",
       "81737  ['Ireland', 'United Kingdom']  ['Ireland', 'United Kingdom']   \n",
       "81738   ['United States of America']   ['United States of America']   \n",
       "81739                      ['Japan']                      ['Japan']   \n",
       "81740                     ['Canada']                     ['Canada']   \n",
       "\n",
       "                                                  genres  \n",
       "0      ['Adventure', 'Horror', 'Action', 'Thriller', ...  \n",
       "1             ['Crime', 'Drama', 'Mystery', 'Biography']  \n",
       "2                                     ['Crime', 'Drama']  \n",
       "3                                 ['Erotic', 'Thriller']  \n",
       "4                                              ['Drama']  \n",
       "...                                                  ...  \n",
       "81736                                          ['Drama']  \n",
       "81737              ['Documentary', 'Drama', 'Biography']  \n",
       "81738                               ['Comedy', 'Satire']  \n",
       "81739  ['Drama', 'Adventure', 'Short Film', 'Cartoon'...  \n",
       "81740                     ['Horror', 'Thriller', 'Teen']  \n",
       "\n",
       "[81741 rows x 10 columns]"
      ]
     },
     "execution_count": 3,
     "metadata": {},
     "output_type": "execute_result"
    }
   ],
   "source": [
    "movies_processed = pd.read_csv(\n",
    "    \"../../data/MovieSummaries/movie_processed.csv\",\n",
    "    parse_dates=[\"movie_release_date\"],\n",
    ")\n",
    "\n",
    "movies_processed.rename(columns={\n",
    "    \"Wikipedia movie ID\": \"wikipedia_movie_id\",\n",
    "    \"Freebase movie ID\": \"fb_movie_id\",\n",
    "    \"Movie name\": \"movie_name\",\n",
    "    \"Movie box office revenue\": \"revenue\",\n",
    "    \"Movie runtime\": \"movie_runtime\",\n",
    "}, inplace=True)\n",
    "movies_processed"
   ]
  },
  {
   "cell_type": "code",
   "execution_count": 5,
   "id": "5da126e3-07e5-4d5c-a902-62eeb9f62f18",
   "metadata": {},
   "outputs": [
    {
     "data": {
      "text/plain": [
       "(616271, '<http://rdf.freebase.com/ns/m.0j8nyhd>')"
      ]
     },
     "execution_count": 5,
     "metadata": {},
     "output_type": "execute_result"
    }
   ],
   "source": [
    "interesting_ids = (\n",
    "    set(char_processed.fb_movie_id) |\n",
    "    set(char_processed.fb_actor_eth_id) |\n",
    "    set(char_processed.fb_char_actor_map_id) |\n",
    "    set(char_processed.fb_char_id) |\n",
    "    set(char_processed.fb_actor_id) |\n",
    "    set(movies_processed.fb_movie_id)\n",
    ")\n",
    "interesting_ids = set([\n",
    "    '<http://rdf.freebase.com/ns/' + i.lstrip('/').replace('/', '.') + '>'\n",
    "    for i in interesting_ids\n",
    "    if isinstance(i, str)\n",
    "])\n",
    "\n",
    "len(interesting_ids), next(iter(interesting_ids))"
   ]
  },
  {
   "cell_type": "code",
   "execution_count": 6,
   "id": "c38f2154-5a41-4c93-ab9a-a593f1423ff2",
   "metadata": {},
   "outputs": [
    {
     "data": {
      "text/plain": [
       "['<http://rdf.freebase.com/ns/base.type_ontology.non_agent>']"
      ]
     },
     "execution_count": 6,
     "metadata": {},
     "output_type": "execute_result"
    }
   ],
   "source": [
    "import re\n",
    "\n",
    "def extract_urls(text):\n",
    "    # Define the regular expression pattern\n",
    "    pattern = r\"<http://rdf\\.freebase\\.com/ns/[^\\s]+>\"\n",
    "    urls = re.findall(pattern, text)\n",
    "    return urls\n",
    "\n",
    "\n",
    "extract_urls(\"sdjkfh <http://rdf.freebase.com/ns/base.type_ontology.non_agent> sdjknfhls\")"
   ]
  },
  {
   "cell_type": "code",
   "execution_count": 7,
   "id": "c820b695-8bb9-422b-b3d9-77792a360f11",
   "metadata": {},
   "outputs": [
    {
     "data": {
      "application/vnd.jupyter.widget-view+json": {
       "model_id": "4b615579014940bfbfbd59521661ca29",
       "version_major": 2,
       "version_minor": 0
      },
      "text/plain": [
       "  0%|          | 0/3140000000 [00:00<?, ?it/s]"
      ]
     },
     "metadata": {},
     "output_type": "display_data"
    }
   ],
   "source": [
    "extracted_lines = 0\n",
    "with gzip.open(freebase_path, 'r') as fin, gzip.open('extracted-all.gz', 'w') as fout:\n",
    "    progress = tqdm(fin, total=int(3.14 * 1e9))\n",
    "    for line in progress:\n",
    "        triplets = line.decode('utf-8').split('\\t', 1)\n",
    "        if triplets[0] in interesting_ids:\n",
    "            extracted_lines += 1\n",
    "            progress.set_description(f\"{extracted_lines = }\", refresh=False)\n",
    "            fout.write(line)"
   ]
  },
  {
   "cell_type": "code",
   "execution_count": 9,
   "id": "9f924d58-a65a-4d9c-9548-bbbcd762144b",
   "metadata": {},
   "outputs": [
    {
     "data": {
      "application/vnd.jupyter.widget-view+json": {
       "model_id": "7b91b31dd79849539916c572d745ed2e",
       "version_major": 2,
       "version_minor": 0
      },
      "text/plain": [
       "  0%|          | 0/26196949 [00:00<?, ?it/s]"
      ]
     },
     "metadata": {},
     "output_type": "display_data"
    }
   ],
   "source": [
    "single_link_ids = set()\n",
    "\n",
    "with gzip.open('extracted-all.gz', 'r') as fin:\n",
    "    progress = tqdm(fin, total=26196949)\n",
    "    for line in progress:\n",
    "        triplets = line.decode('utf-8')\n",
    "        single_link_ids |= set(extract_urls(line.decode('utf-8')))\n",
    "        progress.set_description(f\"{len(single_link_ids) = }\", refresh=False)"
   ]
  },
  {
   "cell_type": "code",
   "execution_count": 10,
   "id": "b269e7d0-e46e-48fd-b32b-8001279e4828",
   "metadata": {},
   "outputs": [
    {
     "data": {
      "text/plain": [
       "5328093"
      ]
     },
     "execution_count": 10,
     "metadata": {},
     "output_type": "execute_result"
    }
   ],
   "source": [
    "full_ids = single_link_ids | interesting_ids\n",
    "len(full_ids)"
   ]
  },
  {
   "cell_type": "code",
   "execution_count": null,
   "id": "9e997a20-d911-4439-9369-3e91fcbcc3c4",
   "metadata": {},
   "outputs": [
    {
     "data": {
      "application/vnd.jupyter.widget-view+json": {
       "model_id": "3c386869d95f4da388bb4cdf24b294da",
       "version_major": 2,
       "version_minor": 0
      },
      "text/plain": [
       "  0%|          | 0/3140000000 [00:00<?, ?it/s]"
      ]
     },
     "metadata": {},
     "output_type": "display_data"
    }
   ],
   "source": [
    "extracted_lines = 0\n",
    "with gzip.open(freebase_path, 'r') as fin, gzip.open('extracted-all-linked.gz', 'w') as fout:\n",
    "    progress = tqdm(fin, total=int(3.14 * 1e9), mininterval=2.0)\n",
    "    for line in progress:\n",
    "        triplets = line.decode('utf-8').split('\\t', 1)\n",
    "        if triplets[0] in full_ids:\n",
    "            extracted_lines += 1\n",
    "            progress.set_description(f\"{extracted_lines = }\", refresh=False)\n",
    "            fout.write(line)"
   ]
  },
  {
   "cell_type": "code",
   "execution_count": 32,
   "id": "8c70ee1f-434b-4d99-9106-14edf2d09a1e",
   "metadata": {},
   "outputs": [],
   "source": [
    "def read_extracted(target, path):\n",
    "    with gzip.open(path, 'r') as fin:\n",
    "        for line in tqdm(fin, mininterval=2.0):\n",
    "            triplets = line.decode('utf-8').split('\\t', 1)\n",
    "            key = triplets[0].lstrip('<http://rdf.freebase.com/ns/').rstrip('>')\n",
    "            if key not in target:\n",
    "                target[key] = list()\n",
    "            target[key].append(triplets[1:])"
   ]
  },
  {
   "cell_type": "code",
   "execution_count": 3,
   "id": "2e67047d-09c6-4696-b4f3-e69acea4abdb",
   "metadata": {},
   "outputs": [],
   "source": [
    "import gzip, dill"
   ]
  },
  {
   "cell_type": "code",
   "execution_count": 24,
   "id": "279c9833-a145-4ae0-ba32-db9499076dd5",
   "metadata": {},
   "outputs": [],
   "source": [
    "with gzip.open(\"extracted_freebase.dill.gz\", 'r') as file:\n",
    "    movies_actors = dill.load(file)"
   ]
  },
  {
   "cell_type": "code",
   "execution_count": 12,
   "id": "50877a34-dc26-42b7-81a5-2eb6f2b32dc3",
   "metadata": {},
   "outputs": [
    {
     "data": {
      "application/vnd.jupyter.widget-view+json": {
       "model_id": "7eccfc97419a40009220468dc54e5e7b",
       "version_major": 2,
       "version_minor": 0
      },
      "text/plain": [
       "  0%|          | 0/289924448 [00:00<?, ?it/s]"
      ]
     },
     "metadata": {},
     "output_type": "display_data"
    }
   ],
   "source": [
    "person_related_ids = set()\n",
    "\n",
    "needle = 'people.person.'.encode('utf-8')\n",
    "\n",
    "with gzip.open('extracted.gz', 'r') as fin:\n",
    "    progress = tqdm(fin, total=289924448, mininterval=2.0)\n",
    "    for line in progress:\n",
    "        if needle in line:\n",
    "            person_related_ids |= set(extract_urls(line.decode('utf-8')))"
   ]
  },
  {
   "cell_type": "code",
   "execution_count": 13,
   "id": "0fabba1d-8d9f-4cb8-9def-04392de7d0a2",
   "metadata": {},
   "outputs": [
    {
     "data": {
      "text/plain": [
       "610405"
      ]
     },
     "execution_count": 13,
     "metadata": {},
     "output_type": "execute_result"
    }
   ],
   "source": [
    "len(person_related_ids)"
   ]
  },
  {
   "cell_type": "code",
   "execution_count": 14,
   "id": "93a832c3-d6c5-445c-81cc-fd7c5dbec177",
   "metadata": {},
   "outputs": [
    {
     "data": {
      "application/vnd.jupyter.widget-view+json": {
       "model_id": "d5cc4f428257479cbcee2b88e87f0d6d",
       "version_major": 2,
       "version_minor": 0
      },
      "text/plain": [
       "  0%|          | 0/289924448 [00:00<?, ?it/s]"
      ]
     },
     "metadata": {},
     "output_type": "display_data"
    }
   ],
   "source": [
    "extracted_data = defaultdict(list)\n",
    "\n",
    "with gzip.open('extracted.gz', 'r') as fin:\n",
    "    progress = tqdm(fin, total=289924448, mininterval=2.0)\n",
    "    for line in progress:\n",
    "        line = line.decode('utf-8')\n",
    "        triplets = line.split('\\t', 2)\n",
    "        if triplets[0] in person_related_ids:\n",
    "            progress.set_description(f\"{len(extracted_data) = }\", refresh=False)\n",
    "            extracted_data[triplets[0]].append(triplets[1:])"
   ]
  },
  {
   "cell_type": "code",
   "execution_count": 5,
   "id": "2c89cf79-51eb-4fca-96af-8c7cedfb9e8c",
   "metadata": {},
   "outputs": [],
   "source": [
    "import gzip, dill\n",
    "\n",
    "with gzip.open(\"extracted_freebase.dill.gz\", 'r') as file:\n",
    "    movies_actors = dill.load(file)\n",
    "\n",
    "with gzip.open(\"extracted_personas.dill.gz\", 'r') as file:\n",
    "    personas = dill.load(file)"
   ]
  },
  {
   "cell_type": "code",
   "execution_count": 38,
   "id": "998c2fc5-db05-43c5-ace9-ee6e25e7137d",
   "metadata": {},
   "outputs": [],
   "source": [
    "def extract_label(entries):\n",
    "    for predicate, value in entries:\n",
    "        if predicate == '<http://www.w3.org/2000/01/rdf-schema#label>' and '@en' in value:\n",
    "            return value.replace('@en', '').strip('\\t\"\\n. ')\n",
    "    return None\n",
    "\n",
    "def extract_actor_info(fb_id):\n",
    "    fb_id = fb_id.strip('/').replace('/', '.')\n",
    "    fb_id = f\"<http://rdf.freebase.com/ns/{fb_id}>\"\n",
    "\n",
    "    if fb_id not in movies_actors:\n",
    "        return None\n",
    "\n",
    "    info = movies_actors[fb_id]\n",
    "\n",
    "    result = dict(\n",
    "        education=False,\n",
    "        count_guest_roles=sum(i[0] == '<http://rdf.freebase.com/ns/tv.tv_actor.guest_roles>' for i in info),\n",
    "        places_lived=sum(i[0] == '<http://rdf.freebase.com/ns/people.person.places_lived>' for i in info),\n",
    "        spouses=sum(i[0] == '<http://rdf.freebase.com/ns/people.person.spouse_s>' for i in info),\n",
    "        children=sum(i[0] == '<http://rdf.freebase.com/ns/people.person.children>' for i in info),\n",
    "        professions_num=sum(i[0] == '<http://rdf.freebase.com/ns/people.person.profession>' for i in info),\n",
    "        professions=[]\n",
    "    )\n",
    "\n",
    "    for predicate, value in info:\n",
    "        value = value.strip('.\\t \\n')\n",
    "\n",
    "        if predicate == '<http://rdf.freebase.com/ns/people.person.date_of_birth>':\n",
    "            result['date_of_birth'] = value.split(\"^^\")[0].strip('\"')\n",
    "\n",
    "        if predicate == '<http://rdf.freebase.com/ns/people.person.gender>':\n",
    "            result['gender'] = extract_label(personas[value])\n",
    "\n",
    "        if predicate == '<http://rdf.freebase.com/ns/people.person.height_meters>':\n",
    "            result['height'] = value.strip('\" .')\n",
    "\n",
    "        if predicate == '<http://rdf.freebase.com/ns/people.person.nationality>':\n",
    "            result['nationality'] = extract_label(personas[value])\n",
    "\n",
    "        if predicate == '<http://rdf.freebase.com/ns/people.person.profession>':\n",
    "            result['professions'].append(extract_label(personas[value]))\n",
    "\n",
    "        if predicate == '<http://rdf.freebase.com/ns/people.person.weight_kg>':\n",
    "            result['weight'] = value.strip('\" .')\n",
    "\n",
    "        if predicate == '<http://rdf.freebase.com/ns/people.person.education>':\n",
    "            result['education'] = True\n",
    "\n",
    "        if predicate == '<http://rdf.freebase.com/ns/people.person.place_of_birth>':\n",
    "            result['place_of_birth'] = extract_label(personas[value])\n",
    "\n",
    "        if predicate == '<http://rdf.freebase.com/ns/people.person.religion>':\n",
    "            result['religion'] = extract_label(personas[value])\n",
    "    return result"
   ]
  },
  {
   "cell_type": "code",
   "execution_count": 39,
   "id": "597feaf0-970a-40e2-842a-610e336b105a",
   "metadata": {},
   "outputs": [],
   "source": [
    "all_actors = set(char_processed.fb_actor_id)"
   ]
  },
  {
   "cell_type": "code",
   "execution_count": 40,
   "id": "f35c378d-726a-40d6-a5e3-97b73002aa1d",
   "metadata": {},
   "outputs": [
    {
     "data": {
      "application/vnd.jupyter.widget-view+json": {
       "model_id": "b5267201cc7842a199d8b37b6135caa0",
       "version_major": 2,
       "version_minor": 0
      },
      "text/plain": [
       "  0%|          | 0/58176 [00:00<?, ?it/s]"
      ]
     },
     "metadata": {},
     "output_type": "display_data"
    }
   ],
   "source": [
    "extracted_actors_data = dict()\n",
    "\n",
    "for actor_id in tqdm(all_actors):\n",
    "    extracted_actors_data[actor_id] = extract_actor_info(actor_id)"
   ]
  },
  {
   "cell_type": "code",
   "execution_count": 41,
   "id": "15ba6298-bc2a-41fa-b442-03d4894c18ea",
   "metadata": {},
   "outputs": [],
   "source": [
    "# import json\n",
    "\n",
    "# with open('actors_data_freebase.json', 'w') as file:\n",
    "#     json.dump(extracted_actors_data, file)"
   ]
  },
  {
   "cell_type": "code",
   "execution_count": 19,
   "id": "302ecc7b-ef2f-4af4-a746-63980e2bfd8a",
   "metadata": {},
   "outputs": [],
   "source": [
    "with open('actors_data_freebase.json') as file:\n",
    "    extracted_actors_data = json.load(file)"
   ]
  },
  {
   "cell_type": "code",
   "execution_count": 42,
   "id": "0c14855f-df01-45bb-a063-1c3886a82d1c",
   "metadata": {},
   "outputs": [],
   "source": [
    "for i, val in extracted_actors_data.items():\n",
    "    if val is not None:\n",
    "        val['id'] = i"
   ]
  },
  {
   "cell_type": "code",
   "execution_count": 43,
   "id": "16770516-664f-4fe3-9ebf-4a8438387715",
   "metadata": {},
   "outputs": [
    {
     "data": {
      "text/html": [
       "<div>\n",
       "<style scoped>\n",
       "    .dataframe tbody tr th:only-of-type {\n",
       "        vertical-align: middle;\n",
       "    }\n",
       "\n",
       "    .dataframe tbody tr th {\n",
       "        vertical-align: top;\n",
       "    }\n",
       "\n",
       "    .dataframe thead th {\n",
       "        text-align: right;\n",
       "    }\n",
       "</style>\n",
       "<table border=\"1\" class=\"dataframe\">\n",
       "  <thead>\n",
       "    <tr style=\"text-align: right;\">\n",
       "      <th></th>\n",
       "      <th>education</th>\n",
       "      <th>count_guest_roles</th>\n",
       "      <th>places_lived</th>\n",
       "      <th>spouses</th>\n",
       "      <th>children</th>\n",
       "      <th>professions_num</th>\n",
       "      <th>professions</th>\n",
       "      <th>place_of_birth</th>\n",
       "      <th>date_of_birth</th>\n",
       "      <th>gender</th>\n",
       "      <th>nationality</th>\n",
       "      <th>id</th>\n",
       "      <th>height</th>\n",
       "      <th>religion</th>\n",
       "      <th>weight</th>\n",
       "    </tr>\n",
       "  </thead>\n",
       "  <tbody>\n",
       "    <tr>\n",
       "      <th>0</th>\n",
       "      <td>False</td>\n",
       "      <td>2</td>\n",
       "      <td>1</td>\n",
       "      <td>2</td>\n",
       "      <td>2</td>\n",
       "      <td>2</td>\n",
       "      <td>[Comedian\"-GB, Actor]</td>\n",
       "      <td>Jerusalem\"-GB</td>\n",
       "      <td>1929-11-04</td>\n",
       "      <td>Male</td>\n",
       "      <td>Israel</td>\n",
       "      <td>/m/02qy84q</td>\n",
       "      <td>NaN</td>\n",
       "      <td>NaN</td>\n",
       "      <td>NaN</td>\n",
       "    </tr>\n",
       "    <tr>\n",
       "      <th>1</th>\n",
       "      <td>False</td>\n",
       "      <td>22</td>\n",
       "      <td>0</td>\n",
       "      <td>0</td>\n",
       "      <td>0</td>\n",
       "      <td>1</td>\n",
       "      <td>[Actor]</td>\n",
       "      <td>Burbank</td>\n",
       "      <td>1993-01-14</td>\n",
       "      <td>Male</td>\n",
       "      <td>United States of America</td>\n",
       "      <td>/m/06zmx3x</td>\n",
       "      <td>NaN</td>\n",
       "      <td>NaN</td>\n",
       "      <td>NaN</td>\n",
       "    </tr>\n",
       "    <tr>\n",
       "      <th>2</th>\n",
       "      <td>False</td>\n",
       "      <td>0</td>\n",
       "      <td>0</td>\n",
       "      <td>0</td>\n",
       "      <td>1</td>\n",
       "      <td>1</td>\n",
       "      <td>[Actor]</td>\n",
       "      <td>Pelhřimov</td>\n",
       "      <td>1923-06-19</td>\n",
       "      <td>Male</td>\n",
       "      <td>Czech Republic</td>\n",
       "      <td>/m/0b_h6gk</td>\n",
       "      <td>NaN</td>\n",
       "      <td>NaN</td>\n",
       "      <td>NaN</td>\n",
       "    </tr>\n",
       "    <tr>\n",
       "      <th>3</th>\n",
       "      <td>False</td>\n",
       "      <td>0</td>\n",
       "      <td>0</td>\n",
       "      <td>0</td>\n",
       "      <td>0</td>\n",
       "      <td>1</td>\n",
       "      <td>[Actor]</td>\n",
       "      <td>Dumfries</td>\n",
       "      <td>1851-10</td>\n",
       "      <td>Male</td>\n",
       "      <td>Scotland</td>\n",
       "      <td>/m/0lnbcrb</td>\n",
       "      <td>NaN</td>\n",
       "      <td>NaN</td>\n",
       "      <td>NaN</td>\n",
       "    </tr>\n",
       "    <tr>\n",
       "      <th>4</th>\n",
       "      <td>True</td>\n",
       "      <td>1</td>\n",
       "      <td>0</td>\n",
       "      <td>0</td>\n",
       "      <td>0</td>\n",
       "      <td>1</td>\n",
       "      <td>[Actor]</td>\n",
       "      <td>Denton, Texas</td>\n",
       "      <td>1945-08-09</td>\n",
       "      <td>Male</td>\n",
       "      <td>United States of America</td>\n",
       "      <td>/m/0k7072</td>\n",
       "      <td>NaN</td>\n",
       "      <td>NaN</td>\n",
       "      <td>NaN</td>\n",
       "    </tr>\n",
       "    <tr>\n",
       "      <th>...</th>\n",
       "      <td>...</td>\n",
       "      <td>...</td>\n",
       "      <td>...</td>\n",
       "      <td>...</td>\n",
       "      <td>...</td>\n",
       "      <td>...</td>\n",
       "      <td>...</td>\n",
       "      <td>...</td>\n",
       "      <td>...</td>\n",
       "      <td>...</td>\n",
       "      <td>...</td>\n",
       "      <td>...</td>\n",
       "      <td>...</td>\n",
       "      <td>...</td>\n",
       "      <td>...</td>\n",
       "    </tr>\n",
       "    <tr>\n",
       "      <th>57571</th>\n",
       "      <td>False</td>\n",
       "      <td>0</td>\n",
       "      <td>0</td>\n",
       "      <td>0</td>\n",
       "      <td>0</td>\n",
       "      <td>1</td>\n",
       "      <td>[Actor]</td>\n",
       "      <td>California</td>\n",
       "      <td>1974-11-19</td>\n",
       "      <td>Female</td>\n",
       "      <td>United States of America</td>\n",
       "      <td>/m/0glptws</td>\n",
       "      <td>NaN</td>\n",
       "      <td>NaN</td>\n",
       "      <td>NaN</td>\n",
       "    </tr>\n",
       "    <tr>\n",
       "      <th>57572</th>\n",
       "      <td>False</td>\n",
       "      <td>48</td>\n",
       "      <td>0</td>\n",
       "      <td>0</td>\n",
       "      <td>0</td>\n",
       "      <td>2</td>\n",
       "      <td>[Actor, Journalist]</td>\n",
       "      <td>Terre Haute</td>\n",
       "      <td>1903-08-13</td>\n",
       "      <td>Male</td>\n",
       "      <td>United States of America</td>\n",
       "      <td>/m/0fqqcz</td>\n",
       "      <td>NaN</td>\n",
       "      <td>NaN</td>\n",
       "      <td>NaN</td>\n",
       "    </tr>\n",
       "    <tr>\n",
       "      <th>57573</th>\n",
       "      <td>False</td>\n",
       "      <td>0</td>\n",
       "      <td>0</td>\n",
       "      <td>0</td>\n",
       "      <td>0</td>\n",
       "      <td>0</td>\n",
       "      <td>[]</td>\n",
       "      <td>Lincoln</td>\n",
       "      <td>1992-04-04</td>\n",
       "      <td>Female</td>\n",
       "      <td>NaN</td>\n",
       "      <td>/m/09v7d26</td>\n",
       "      <td>NaN</td>\n",
       "      <td>NaN</td>\n",
       "      <td>NaN</td>\n",
       "    </tr>\n",
       "    <tr>\n",
       "      <th>57574</th>\n",
       "      <td>False</td>\n",
       "      <td>0</td>\n",
       "      <td>0</td>\n",
       "      <td>1</td>\n",
       "      <td>0</td>\n",
       "      <td>0</td>\n",
       "      <td>[]</td>\n",
       "      <td>Vienna</td>\n",
       "      <td>1913-01-09</td>\n",
       "      <td>Male</td>\n",
       "      <td>NaN</td>\n",
       "      <td>/m/0dlhch</td>\n",
       "      <td>NaN</td>\n",
       "      <td>NaN</td>\n",
       "      <td>NaN</td>\n",
       "    </tr>\n",
       "    <tr>\n",
       "      <th>57575</th>\n",
       "      <td>False</td>\n",
       "      <td>47</td>\n",
       "      <td>0</td>\n",
       "      <td>2</td>\n",
       "      <td>1</td>\n",
       "      <td>1</td>\n",
       "      <td>[Actor]</td>\n",
       "      <td>Cleveland Heights</td>\n",
       "      <td>1936-01-25</td>\n",
       "      <td>Female</td>\n",
       "      <td>United States of America</td>\n",
       "      <td>/m/04xxv3</td>\n",
       "      <td>NaN</td>\n",
       "      <td>NaN</td>\n",
       "      <td>NaN</td>\n",
       "    </tr>\n",
       "  </tbody>\n",
       "</table>\n",
       "<p>57576 rows × 15 columns</p>\n",
       "</div>"
      ],
      "text/plain": [
       "       education  count_guest_roles  places_lived  spouses  children  \\\n",
       "0          False                  2             1        2         2   \n",
       "1          False                 22             0        0         0   \n",
       "2          False                  0             0        0         1   \n",
       "3          False                  0             0        0         0   \n",
       "4           True                  1             0        0         0   \n",
       "...          ...                ...           ...      ...       ...   \n",
       "57571      False                  0             0        0         0   \n",
       "57572      False                 48             0        0         0   \n",
       "57573      False                  0             0        0         0   \n",
       "57574      False                  0             0        1         0   \n",
       "57575      False                 47             0        2         1   \n",
       "\n",
       "       professions_num            professions     place_of_birth  \\\n",
       "0                    2  [Comedian\"-GB, Actor]      Jerusalem\"-GB   \n",
       "1                    1                [Actor]            Burbank   \n",
       "2                    1                [Actor]          Pelhřimov   \n",
       "3                    1                [Actor]           Dumfries   \n",
       "4                    1                [Actor]      Denton, Texas   \n",
       "...                ...                    ...                ...   \n",
       "57571                1                [Actor]         California   \n",
       "57572                2    [Actor, Journalist]        Terre Haute   \n",
       "57573                0                     []            Lincoln   \n",
       "57574                0                     []             Vienna   \n",
       "57575                1                [Actor]  Cleveland Heights   \n",
       "\n",
       "      date_of_birth  gender               nationality          id height  \\\n",
       "0        1929-11-04    Male                    Israel  /m/02qy84q    NaN   \n",
       "1        1993-01-14    Male  United States of America  /m/06zmx3x    NaN   \n",
       "2        1923-06-19    Male            Czech Republic  /m/0b_h6gk    NaN   \n",
       "3           1851-10    Male                  Scotland  /m/0lnbcrb    NaN   \n",
       "4        1945-08-09    Male  United States of America   /m/0k7072    NaN   \n",
       "...             ...     ...                       ...         ...    ...   \n",
       "57571    1974-11-19  Female  United States of America  /m/0glptws    NaN   \n",
       "57572    1903-08-13    Male  United States of America   /m/0fqqcz    NaN   \n",
       "57573    1992-04-04  Female                       NaN  /m/09v7d26    NaN   \n",
       "57574    1913-01-09    Male                       NaN   /m/0dlhch    NaN   \n",
       "57575    1936-01-25  Female  United States of America   /m/04xxv3    NaN   \n",
       "\n",
       "      religion weight  \n",
       "0          NaN    NaN  \n",
       "1          NaN    NaN  \n",
       "2          NaN    NaN  \n",
       "3          NaN    NaN  \n",
       "4          NaN    NaN  \n",
       "...        ...    ...  \n",
       "57571      NaN    NaN  \n",
       "57572      NaN    NaN  \n",
       "57573      NaN    NaN  \n",
       "57574      NaN    NaN  \n",
       "57575      NaN    NaN  \n",
       "\n",
       "[57576 rows x 15 columns]"
      ]
     },
     "execution_count": 43,
     "metadata": {},
     "output_type": "execute_result"
    }
   ],
   "source": [
    "df = pd.DataFrame(list(filter(lambda x: x is not None, extracted_actors_data.values())))\n",
    "df"
   ]
  },
  {
   "cell_type": "code",
   "execution_count": 44,
   "id": "33cd1648-c980-4924-ba22-05d9647a3f29",
   "metadata": {},
   "outputs": [],
   "source": [
    "df.to_csv('actors_freebase.csv')"
   ]
  },
  {
   "cell_type": "code",
   "execution_count": 50,
   "id": "94998760-1665-433d-87e4-138cf14f7f3b",
   "metadata": {},
   "outputs": [],
   "source": [
    "all_chars = set(char_processed.fb_char_id) | set(char_processed.fb_char_actor_map_id)\n",
    "\n",
    "interesting_ids = set([\n",
    "    '<http://rdf.freebase.com/ns/' + i.lstrip('/').replace('/', '.') + '>'\n",
    "    for i in all_chars\n",
    "    if isinstance(i, str)\n",
    "])"
   ]
  },
  {
   "cell_type": "code",
   "execution_count": 55,
   "id": "03a19462-ad9f-4302-a074-64f2be9f6f3e",
   "metadata": {},
   "outputs": [
    {
     "data": {
      "application/vnd.jupyter.widget-view+json": {
       "model_id": "9da5defb319c44998dbae78acca55994",
       "version_major": 2,
       "version_minor": 0
      },
      "text/plain": [
       "  0%|          | 0/289924448 [00:00<?, ?it/s]"
      ]
     },
     "metadata": {},
     "output_type": "display_data"
    }
   ],
   "source": [
    "extracted_data = defaultdict(list)\n",
    "\n",
    "with gzip.open('extracted.gz', 'r') as fin:\n",
    "    progress = tqdm(fin, total=289924448, mininterval=2.0)\n",
    "    for line in progress:\n",
    "        line = line.decode('utf-8')\n",
    "        triplets = line.split('\\t', 2)\n",
    "        if triplets[0] in interesting_ids:\n",
    "            progress.set_description(f\"{len(extracted_data) = }\", refresh=False)\n",
    "            extracted_data[triplets[0]].append(triplets[1:])"
   ]
  },
  {
   "cell_type": "code",
   "execution_count": 56,
   "id": "74447ce0-1dd5-403e-95f5-4c63d4205a4e",
   "metadata": {},
   "outputs": [],
   "source": [
    "# with gzip.open(\"extracted_chars.dill.gz\", 'w') as file:\n",
    "#     dill.dump(extracted_data, file)"
   ]
  },
  {
   "cell_type": "code",
   "execution_count": 57,
   "id": "2b3d25b9-f095-4a8b-a384-f7c3ba8df5ec",
   "metadata": {},
   "outputs": [],
   "source": [
    "with gzip.open(\"extracted_chars.dill.gz\", 'r') as file:\n",
    "    chars_data = dill.load(file)"
   ]
  },
  {
   "cell_type": "code",
   "execution_count": 73,
   "id": "29054963-ed92-4dfe-9ba5-de19e68756f8",
   "metadata": {},
   "outputs": [],
   "source": [
    "def extract_character_info(fb_id):\n",
    "    fb_id = fb_id.strip('/').replace('/', '.')\n",
    "    fb_id = f\"<http://rdf.freebase.com/ns/{fb_id}>\"\n",
    "\n",
    "    if fb_id not in movies_actors:\n",
    "        return None\n",
    "\n",
    "    info = chars_data[fb_id]\n",
    "\n",
    "    result = dict()\n",
    "\n",
    "    for predicate, value in info:\n",
    "        value: str = value.strip('\\t.\\n ')\n",
    "        print(predicate, value)\n",
    "        if predicate == '<http://rdf.freebase.com/ns/common.topic.description>' and value.endswith('@en'):\n",
    "            result['description'] = value.replace('@en', '').strip('\".')\n",
    "    return result"
   ]
  },
  {
   "cell_type": "code",
   "execution_count": 74,
   "id": "094896a8-98a5-4a75-a1b6-54ab3f8622e4",
   "metadata": {},
   "outputs": [
    {
     "name": "stderr",
     "output_type": "stream",
     "text": [
      "IOPub data rate exceeded.\n",
      "The Jupyter server will temporarily stop sending output\n",
      "to the client in order to avoid crashing it.\n",
      "To change this limit, set the config variable\n",
      "`--ServerApp.iopub_data_rate_limit`.\n",
      "\n",
      "Current values:\n",
      "ServerApp.iopub_data_rate_limit=1000000.0 (bytes/sec)\n",
      "ServerApp.rate_limit_window=3.0 (secs)\n",
      "\n"
     ]
    },
    {
     "ename": "KeyboardInterrupt",
     "evalue": "",
     "output_type": "error",
     "traceback": [
      "\u001b[0;31m---------------------------------------------------------------------------\u001b[0m",
      "\u001b[0;31mKeyboardInterrupt\u001b[0m                         Traceback (most recent call last)",
      "Cell \u001b[0;32mIn[74], line 5\u001b[0m\n\u001b[1;32m      3\u001b[0m \u001b[38;5;28;01mfor\u001b[39;00m char_id \u001b[38;5;129;01min\u001b[39;00m char_processed\u001b[38;5;241m.\u001b[39mfb_char_id:\n\u001b[1;32m      4\u001b[0m     \u001b[38;5;28;01mif\u001b[39;00m \u001b[38;5;28misinstance\u001b[39m(char_id, \u001b[38;5;28mstr\u001b[39m):\n\u001b[0;32m----> 5\u001b[0m         extracted_chars_data[char_id] \u001b[38;5;241m=\u001b[39m \u001b[43mextract_character_info\u001b[49m\u001b[43m(\u001b[49m\u001b[43mchar_id\u001b[49m\u001b[43m)\u001b[49m\n",
      "Cell \u001b[0;32mIn[73], line 14\u001b[0m, in \u001b[0;36mextract_character_info\u001b[0;34m(fb_id)\u001b[0m\n\u001b[1;32m     12\u001b[0m \u001b[38;5;28;01mfor\u001b[39;00m predicate, value \u001b[38;5;129;01min\u001b[39;00m info:\n\u001b[1;32m     13\u001b[0m     value: \u001b[38;5;28mstr\u001b[39m \u001b[38;5;241m=\u001b[39m value\u001b[38;5;241m.\u001b[39mstrip(\u001b[38;5;124m'\u001b[39m\u001b[38;5;130;01m\\t\u001b[39;00m\u001b[38;5;124m.\u001b[39m\u001b[38;5;130;01m\\n\u001b[39;00m\u001b[38;5;124m \u001b[39m\u001b[38;5;124m'\u001b[39m)\n\u001b[0;32m---> 14\u001b[0m     \u001b[38;5;28;43mprint\u001b[39;49m\u001b[43m(\u001b[49m\u001b[43mpredicate\u001b[49m\u001b[43m,\u001b[49m\u001b[43m \u001b[49m\u001b[43mvalue\u001b[49m\u001b[43m)\u001b[49m\n\u001b[1;32m     15\u001b[0m     \u001b[38;5;28;01mif\u001b[39;00m predicate \u001b[38;5;241m==\u001b[39m \u001b[38;5;124m'\u001b[39m\u001b[38;5;124m<http://rdf.freebase.com/ns/common.topic.description>\u001b[39m\u001b[38;5;124m'\u001b[39m \u001b[38;5;129;01mand\u001b[39;00m value\u001b[38;5;241m.\u001b[39mendswith(\u001b[38;5;124m'\u001b[39m\u001b[38;5;124m@en\u001b[39m\u001b[38;5;124m'\u001b[39m):\n\u001b[1;32m     16\u001b[0m         result[\u001b[38;5;124m'\u001b[39m\u001b[38;5;124mdescription\u001b[39m\u001b[38;5;124m'\u001b[39m] \u001b[38;5;241m=\u001b[39m value\u001b[38;5;241m.\u001b[39mreplace(\u001b[38;5;124m'\u001b[39m\u001b[38;5;124m@en\u001b[39m\u001b[38;5;124m'\u001b[39m, \u001b[38;5;124m'\u001b[39m\u001b[38;5;124m'\u001b[39m)\u001b[38;5;241m.\u001b[39mstrip(\u001b[38;5;124m'\u001b[39m\u001b[38;5;124m\"\u001b[39m\u001b[38;5;124m.\u001b[39m\u001b[38;5;124m'\u001b[39m)\n",
      "File \u001b[0;32m~/.pyenv/versions/3.10.8/lib/python3.10/site-packages/ipykernel/iostream.py:684\u001b[0m, in \u001b[0;36mOutStream.write\u001b[0;34m(self, string)\u001b[0m\n\u001b[1;32m    682\u001b[0m \u001b[38;5;66;03m# only touch the buffer in the IO thread to avoid races\u001b[39;00m\n\u001b[1;32m    683\u001b[0m \u001b[38;5;28;01mwith\u001b[39;00m \u001b[38;5;28mself\u001b[39m\u001b[38;5;241m.\u001b[39m_buffer_lock:\n\u001b[0;32m--> 684\u001b[0m     \u001b[38;5;28mself\u001b[39m\u001b[38;5;241m.\u001b[39m_buffers[\u001b[38;5;28mfrozenset\u001b[39m(\u001b[43mparent\u001b[49m\u001b[38;5;241;43m.\u001b[39;49m\u001b[43mitems\u001b[49m\u001b[43m(\u001b[49m\u001b[43m)\u001b[49m)]\u001b[38;5;241m.\u001b[39mwrite(string)\n\u001b[1;32m    685\u001b[0m \u001b[38;5;28;01mif\u001b[39;00m is_child:\n\u001b[1;32m    686\u001b[0m     \u001b[38;5;66;03m# mp.Pool cannot be trusted to flush promptly (or ever),\u001b[39;00m\n\u001b[1;32m    687\u001b[0m     \u001b[38;5;66;03m# and this helps.\u001b[39;00m\n\u001b[1;32m    688\u001b[0m     \u001b[38;5;28;01mif\u001b[39;00m \u001b[38;5;28mself\u001b[39m\u001b[38;5;241m.\u001b[39m_subprocess_flush_pending:\n",
      "\u001b[0;31mKeyboardInterrupt\u001b[0m: "
     ]
    }
   ],
   "source": [
    "extracted_chars_data = dict()\n",
    "\n",
    "for char_id in char_processed.fb_char_id:\n",
    "    if isinstance(char_id, str):\n",
    "        extracted_chars_data[char_id] = extract_character_info(char_id)"
   ]
  },
  {
   "cell_type": "code",
   "execution_count": 77,
   "id": "4debe3df-106b-4553-b803-f16c447accce",
   "metadata": {},
   "outputs": [
    {
     "data": {
      "text/plain": [
       "0         /m/03vyhn\n",
       "1         /m/08yl5d\n",
       "2        /m/0crgdbh\n",
       "3        /m/0285_cd\n",
       "4         /m/01mrr1\n",
       "            ...    \n",
       "81736    /m/0j7hxnt\n",
       "81737    /m/0g4pl34\n",
       "81738    /m/02pygw1\n",
       "81739     /m/03pcrp\n",
       "81740    /m/02w7zz8\n",
       "Name: fb_movie_id, Length: 81741, dtype: object"
      ]
     },
     "execution_count": 77,
     "metadata": {},
     "output_type": "execute_result"
    }
   ],
   "source": [
    "movies_processed.fb_movie_id"
   ]
  },
  {
   "cell_type": "code",
   "execution_count": null,
   "id": "e664571e-a996-4314-99e6-4bb8c93dda94",
   "metadata": {},
   "outputs": [],
   "source": []
  }
 ],
 "metadata": {
  "kernelspec": {
   "display_name": "Python 3 (ipykernel)",
   "language": "python",
   "name": "python3"
  },
  "language_info": {
   "codemirror_mode": {
    "name": "ipython",
    "version": 3
   },
   "file_extension": ".py",
   "mimetype": "text/x-python",
   "name": "python",
   "nbconvert_exporter": "python",
   "pygments_lexer": "ipython3",
   "version": "3.10.8"
  },
  "widgets": {
   "application/vnd.jupyter.widget-state+json": {
    "state": {
     "00733d70ac544bb18d6009cc4cf79840": {
      "model_module": "@jupyter-widgets/base",
      "model_module_version": "2.0.0",
      "model_name": "LayoutModel",
      "state": {}
     },
     "015489c5cfe04b78b2e78f418b0c194c": {
      "model_module": "@jupyter-widgets/base",
      "model_module_version": "2.0.0",
      "model_name": "LayoutModel",
      "state": {}
     },
     "0205963eb46641f5a15c5bf49cc9d454": {
      "model_module": "@jupyter-widgets/base",
      "model_module_version": "2.0.0",
      "model_name": "LayoutModel",
      "state": {}
     },
     "04e25f3c0e3345c4a76ca1824f32072b": {
      "model_module": "@jupyter-widgets/base",
      "model_module_version": "2.0.0",
      "model_name": "LayoutModel",
      "state": {}
     },
     "19aeb76c5e1e4d9f9bc8637beb7574a3": {
      "model_module": "@jupyter-widgets/controls",
      "model_module_version": "2.0.0",
      "model_name": "HTMLStyleModel",
      "state": {
       "description_width": "",
       "font_size": null,
       "text_color": null
      }
     },
     "234e452094b147a1b1ae7994e2c77145": {
      "model_module": "@jupyter-widgets/controls",
      "model_module_version": "2.0.0",
      "model_name": "FloatProgressModel",
      "state": {
       "bar_style": "danger",
       "layout": "IPY_MODEL_d70a487e06e247e2bd4cc50ee91e31c0",
       "max": 3140000000,
       "style": "IPY_MODEL_d2a9c1835aac48588931e1bc6bc1dd48",
       "value": 3130753066
      }
     },
     "2accb9a7cee2482aa483801ec0dcd2a5": {
      "model_module": "@jupyter-widgets/controls",
      "model_module_version": "2.0.0",
      "model_name": "FloatProgressModel",
      "state": {
       "bar_style": "danger",
       "layout": "IPY_MODEL_ae15a5cbb16c456699436d63ca501456",
       "max": 3140000000,
       "style": "IPY_MODEL_ac7a5c1663ff4f8296bcea6f26a686c5",
       "value": 3130753066
      }
     },
     "2f7420b559554e0aa8531aeac6045b8c": {
      "model_module": "@jupyter-widgets/controls",
      "model_module_version": "2.0.0",
      "model_name": "HTMLStyleModel",
      "state": {
       "description_width": "",
       "font_size": null,
       "text_color": null
      }
     },
     "2fd71df943654405b1a540b1aee2afea": {
      "model_module": "@jupyter-widgets/controls",
      "model_module_version": "2.0.0",
      "model_name": "FloatProgressModel",
      "state": {
       "bar_style": "danger",
       "layout": "IPY_MODEL_015489c5cfe04b78b2e78f418b0c194c",
       "max": 26196949,
       "style": "IPY_MODEL_73d6097f1bf64762872a03cb7b50ac18"
      }
     },
     "3c386869d95f4da388bb4cdf24b294da": {
      "model_module": "@jupyter-widgets/controls",
      "model_module_version": "2.0.0",
      "model_name": "HBoxModel",
      "state": {
       "children": [
        "IPY_MODEL_ea3ed402ac2d44e7815cf5929b7364f6",
        "IPY_MODEL_2accb9a7cee2482aa483801ec0dcd2a5",
        "IPY_MODEL_8fc53fc9cf944142b2f2c4265d24e1eb"
       ],
       "layout": "IPY_MODEL_4705ddede6bc4e909fb517c1c2ec0a7e"
      }
     },
     "4705ddede6bc4e909fb517c1c2ec0a7e": {
      "model_module": "@jupyter-widgets/base",
      "model_module_version": "2.0.0",
      "model_name": "LayoutModel",
      "state": {}
     },
     "4b615579014940bfbfbd59521661ca29": {
      "model_module": "@jupyter-widgets/controls",
      "model_module_version": "2.0.0",
      "model_name": "HBoxModel",
      "state": {
       "children": [
        "IPY_MODEL_7f1798be7c7b41429d964866e9140968",
        "IPY_MODEL_234e452094b147a1b1ae7994e2c77145",
        "IPY_MODEL_a92a415f438b4eb69898d912bce1e21a"
       ],
       "layout": "IPY_MODEL_00733d70ac544bb18d6009cc4cf79840"
      }
     },
     "4e65005f1d43489486610e5b08c89ed6": {
      "model_module": "@jupyter-widgets/base",
      "model_module_version": "2.0.0",
      "model_name": "LayoutModel",
      "state": {}
     },
     "629044f9b1a14e33a4ff1d2882c2dd14": {
      "model_module": "@jupyter-widgets/controls",
      "model_module_version": "2.0.0",
      "model_name": "HTMLStyleModel",
      "state": {
       "description_width": "",
       "font_size": null,
       "text_color": null
      }
     },
     "650325f21ce140d78ec1987c5e5792b7": {
      "model_module": "@jupyter-widgets/base",
      "model_module_version": "2.0.0",
      "model_name": "LayoutModel",
      "state": {}
     },
     "6b951c47067846bc89172cb5d07e9f5c": {
      "model_module": "@jupyter-widgets/controls",
      "model_module_version": "2.0.0",
      "model_name": "HTMLStyleModel",
      "state": {
       "description_width": "",
       "font_size": null,
       "text_color": null
      }
     },
     "73d6097f1bf64762872a03cb7b50ac18": {
      "model_module": "@jupyter-widgets/controls",
      "model_module_version": "2.0.0",
      "model_name": "ProgressStyleModel",
      "state": {
       "description_width": ""
      }
     },
     "7af74b632a4b4f00a386682d231604f7": {
      "model_module": "@jupyter-widgets/controls",
      "model_module_version": "2.0.0",
      "model_name": "HTMLModel",
      "state": {
       "layout": "IPY_MODEL_e46f2c93e42343f39e5a6506a52b3f78",
       "style": "IPY_MODEL_629044f9b1a14e33a4ff1d2882c2dd14",
       "value": "  0%"
      }
     },
     "7b91b31dd79849539916c572d745ed2e": {
      "model_module": "@jupyter-widgets/controls",
      "model_module_version": "2.0.0",
      "model_name": "HBoxModel",
      "state": {
       "children": [
        "IPY_MODEL_b1194b20a16340f9931a5e9012e4dd3a",
        "IPY_MODEL_9e25cbf4ed2c46ad8f94c451a57c7144",
        "IPY_MODEL_84d4a683af5f41c19f2ffca9e4ba9d68"
       ],
       "layout": "IPY_MODEL_f0e8d1119b124220b5794da6fba04c3d"
      }
     },
     "7c1d3bb2cb3f4bb195b03ef9374286cc": {
      "model_module": "@jupyter-widgets/controls",
      "model_module_version": "2.0.0",
      "model_name": "HTMLStyleModel",
      "state": {
       "description_width": "",
       "font_size": null,
       "text_color": null
      }
     },
     "7f1798be7c7b41429d964866e9140968": {
      "model_module": "@jupyter-widgets/controls",
      "model_module_version": "2.0.0",
      "model_name": "HTMLModel",
      "state": {
       "layout": "IPY_MODEL_04e25f3c0e3345c4a76ca1824f32072b",
       "style": "IPY_MODEL_b9dfd40273b749b49faba01fd5aefbd1",
       "value": "extracted_lines = 26196949: 100%"
      }
     },
     "84d4a683af5f41c19f2ffca9e4ba9d68": {
      "model_module": "@jupyter-widgets/controls",
      "model_module_version": "2.0.0",
      "model_name": "HTMLModel",
      "state": {
       "layout": "IPY_MODEL_d22a9bc3601144f89bdeb751f0827cdd",
       "style": "IPY_MODEL_d3dcdd0be3674d57816f122b216ce3fe",
       "value": " 26196949/26196949 [01:02&lt;00:00, 410249.71it/s]"
      }
     },
     "8fc53fc9cf944142b2f2c4265d24e1eb": {
      "model_module": "@jupyter-widgets/controls",
      "model_module_version": "2.0.0",
      "model_name": "HTMLModel",
      "state": {
       "layout": "IPY_MODEL_d677ee5f10e8494c9d8ef66b41a4f059",
       "style": "IPY_MODEL_2f7420b559554e0aa8531aeac6045b8c",
       "value": " 3130753066/3140000000 [56:39&lt;00:10, 913890.59it/s]"
      }
     },
     "9e25cbf4ed2c46ad8f94c451a57c7144": {
      "model_module": "@jupyter-widgets/controls",
      "model_module_version": "2.0.0",
      "model_name": "FloatProgressModel",
      "state": {
       "bar_style": "success",
       "layout": "IPY_MODEL_ff8d0b0b6c024f8a81b0ece868a0e093",
       "max": 26196949,
       "style": "IPY_MODEL_a8246b8ce3bd45b785699c5896bc98b3",
       "value": 26196949
      }
     },
     "a8246b8ce3bd45b785699c5896bc98b3": {
      "model_module": "@jupyter-widgets/controls",
      "model_module_version": "2.0.0",
      "model_name": "ProgressStyleModel",
      "state": {
       "description_width": ""
      }
     },
     "a92a415f438b4eb69898d912bce1e21a": {
      "model_module": "@jupyter-widgets/controls",
      "model_module_version": "2.0.0",
      "model_name": "HTMLModel",
      "state": {
       "layout": "IPY_MODEL_da4fe8cb4acf4c348f95717c677f2663",
       "style": "IPY_MODEL_19aeb76c5e1e4d9f9bc8637beb7574a3",
       "value": " 3130753066/3140000000 [43:08&lt;00:06, 1322736.80it/s]"
      }
     },
     "ac7a5c1663ff4f8296bcea6f26a686c5": {
      "model_module": "@jupyter-widgets/controls",
      "model_module_version": "2.0.0",
      "model_name": "ProgressStyleModel",
      "state": {
       "description_width": ""
      }
     },
     "ae15a5cbb16c456699436d63ca501456": {
      "model_module": "@jupyter-widgets/base",
      "model_module_version": "2.0.0",
      "model_name": "LayoutModel",
      "state": {}
     },
     "b1194b20a16340f9931a5e9012e4dd3a": {
      "model_module": "@jupyter-widgets/controls",
      "model_module_version": "2.0.0",
      "model_name": "HTMLModel",
      "state": {
       "layout": "IPY_MODEL_dcc20558ac30455bb0185499b353b270",
       "style": "IPY_MODEL_d5875bde946d4da8b7317b36a3992f12",
       "value": "len(single_link_ids) = 5319275: 100%"
      }
     },
     "b9dfd40273b749b49faba01fd5aefbd1": {
      "model_module": "@jupyter-widgets/controls",
      "model_module_version": "2.0.0",
      "model_name": "HTMLStyleModel",
      "state": {
       "description_width": "",
       "font_size": null,
       "text_color": null
      }
     },
     "c0be5b1466a9424488913d17248ed429": {
      "model_module": "@jupyter-widgets/controls",
      "model_module_version": "2.0.0",
      "model_name": "HTMLModel",
      "state": {
       "layout": "IPY_MODEL_0205963eb46641f5a15c5bf49cc9d454",
       "style": "IPY_MODEL_6b951c47067846bc89172cb5d07e9f5c",
       "value": " 0/26196949 [00:00&lt;?, ?it/s]"
      }
     },
     "d22a9bc3601144f89bdeb751f0827cdd": {
      "model_module": "@jupyter-widgets/base",
      "model_module_version": "2.0.0",
      "model_name": "LayoutModel",
      "state": {}
     },
     "d2a9c1835aac48588931e1bc6bc1dd48": {
      "model_module": "@jupyter-widgets/controls",
      "model_module_version": "2.0.0",
      "model_name": "ProgressStyleModel",
      "state": {
       "description_width": ""
      }
     },
     "d37282997cc84f12ba42a56431852216": {
      "model_module": "@jupyter-widgets/controls",
      "model_module_version": "2.0.0",
      "model_name": "HBoxModel",
      "state": {
       "children": [
        "IPY_MODEL_7af74b632a4b4f00a386682d231604f7",
        "IPY_MODEL_2fd71df943654405b1a540b1aee2afea",
        "IPY_MODEL_c0be5b1466a9424488913d17248ed429"
       ],
       "layout": "IPY_MODEL_650325f21ce140d78ec1987c5e5792b7"
      }
     },
     "d3dcdd0be3674d57816f122b216ce3fe": {
      "model_module": "@jupyter-widgets/controls",
      "model_module_version": "2.0.0",
      "model_name": "HTMLStyleModel",
      "state": {
       "description_width": "",
       "font_size": null,
       "text_color": null
      }
     },
     "d5875bde946d4da8b7317b36a3992f12": {
      "model_module": "@jupyter-widgets/controls",
      "model_module_version": "2.0.0",
      "model_name": "HTMLStyleModel",
      "state": {
       "description_width": "",
       "font_size": null,
       "text_color": null
      }
     },
     "d677ee5f10e8494c9d8ef66b41a4f059": {
      "model_module": "@jupyter-widgets/base",
      "model_module_version": "2.0.0",
      "model_name": "LayoutModel",
      "state": {}
     },
     "d70a487e06e247e2bd4cc50ee91e31c0": {
      "model_module": "@jupyter-widgets/base",
      "model_module_version": "2.0.0",
      "model_name": "LayoutModel",
      "state": {}
     },
     "da4fe8cb4acf4c348f95717c677f2663": {
      "model_module": "@jupyter-widgets/base",
      "model_module_version": "2.0.0",
      "model_name": "LayoutModel",
      "state": {}
     },
     "dcc20558ac30455bb0185499b353b270": {
      "model_module": "@jupyter-widgets/base",
      "model_module_version": "2.0.0",
      "model_name": "LayoutModel",
      "state": {}
     },
     "e46f2c93e42343f39e5a6506a52b3f78": {
      "model_module": "@jupyter-widgets/base",
      "model_module_version": "2.0.0",
      "model_name": "LayoutModel",
      "state": {}
     },
     "ea3ed402ac2d44e7815cf5929b7364f6": {
      "model_module": "@jupyter-widgets/controls",
      "model_module_version": "2.0.0",
      "model_name": "HTMLModel",
      "state": {
       "layout": "IPY_MODEL_4e65005f1d43489486610e5b08c89ed6",
       "style": "IPY_MODEL_7c1d3bb2cb3f4bb195b03ef9374286cc",
       "value": "extracted_lines = 295443459: 100%"
      }
     },
     "f0e8d1119b124220b5794da6fba04c3d": {
      "model_module": "@jupyter-widgets/base",
      "model_module_version": "2.0.0",
      "model_name": "LayoutModel",
      "state": {}
     },
     "ff8d0b0b6c024f8a81b0ece868a0e093": {
      "model_module": "@jupyter-widgets/base",
      "model_module_version": "2.0.0",
      "model_name": "LayoutModel",
      "state": {}
     }
    },
    "version_major": 2,
    "version_minor": 0
   }
  }
 },
 "nbformat": 4,
 "nbformat_minor": 5
}
