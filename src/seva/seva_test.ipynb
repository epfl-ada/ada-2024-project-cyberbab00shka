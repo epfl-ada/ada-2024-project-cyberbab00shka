{
 "cells": [
  {
   "cell_type": "code",
   "execution_count": 42,
   "metadata": {},
   "outputs": [],
   "source": [
    "import numpy as np\n",
    "import matplotlib.pyplot as plt\n",
    "import pandas as pd\n",
    "import seaborn as sns\n",
    "from tqdm import tqdm\n",
    "import json"
   ]
  },
  {
   "cell_type": "markdown",
   "metadata": {},
   "source": [
    "# process character"
   ]
  },
  {
   "cell_type": "code",
   "execution_count": 81,
   "metadata": {},
   "outputs": [],
   "source": [
    "char_processed = pd.read_csv(\n",
    "    \"/home/sevashasla/epfl/sem1/ada-2024-project-cyberbab00shka/data/MovieSummaries/character_processed.csv\",\n",
    "    parse_dates=[\"actor_date_of_birth\", \"movie_release_date\"],\n",
    ")"
   ]
  },
  {
   "cell_type": "code",
   "execution_count": 85,
   "metadata": {},
   "outputs": [
    {
     "data": {
      "text/plain": [
       "Wikipedia movie ID                 0.000000\n",
       "Freebase movie ID                  0.000000\n",
       "Character name                     0.557159\n",
       "Actor gender                       0.006152\n",
       "Actor height (in meters)           0.553138\n",
       "Actor ethnicity (Freebase ID)      0.705642\n",
       "Actor name                         0.000039\n",
       "Freebase character/actor map ID    0.000000\n",
       "Freebase character ID              0.557147\n",
       "Freebase actor ID                  0.000000\n",
       "actor_date_of_birth                0.000000\n",
       "movie_release_date                 0.000000\n",
       "ethn_name                          0.742623\n",
       "race                               0.742623\n",
       "dtype: float64"
      ]
     },
     "execution_count": 85,
     "metadata": {},
     "output_type": "execute_result"
    }
   ],
   "source": [
    "char_processed.isna().sum(axis=0) / char_processed.shape[0]"
   ]
  },
  {
   "cell_type": "markdown",
   "metadata": {},
   "source": [
    "As we can see there are a lot of missing values:\n",
    "- Character name                     ~55%\n",
    "- Actor height (in meters)           ~55%\n",
    "- Freebase character ID              ~56% -> not very useful so it is okay\n",
    "- Actor ethnicity (Freebase ID)      ~70%\n",
    "- ethn_name                          ~74%\n",
    "- race                               ~74%"
   ]
  },
  {
   "cell_type": "code",
   "execution_count": 87,
   "metadata": {},
   "outputs": [
    {
     "data": {
      "text/plain": [
       "6    103185\n",
       "4     54281\n",
       "3     53046\n",
       "5     44665\n",
       "0     40255\n",
       "2     26844\n",
       "1     11133\n",
       "7      1577\n",
       "8         1\n",
       "Name: count, dtype: int64"
      ]
     },
     "execution_count": 87,
     "metadata": {},
     "output_type": "execute_result"
    }
   ],
   "source": [
    "char_processed.isna().sum(axis=1).value_counts()"
   ]
  },
  {
   "cell_type": "code",
   "execution_count": 88,
   "metadata": {},
   "outputs": [
    {
     "data": {
      "text/html": [
       "<div>\n",
       "<style scoped>\n",
       "    .dataframe tbody tr th:only-of-type {\n",
       "        vertical-align: middle;\n",
       "    }\n",
       "\n",
       "    .dataframe tbody tr th {\n",
       "        vertical-align: top;\n",
       "    }\n",
       "\n",
       "    .dataframe thead th {\n",
       "        text-align: right;\n",
       "    }\n",
       "</style>\n",
       "<table border=\"1\" class=\"dataframe\">\n",
       "  <thead>\n",
       "    <tr style=\"text-align: right;\">\n",
       "      <th></th>\n",
       "      <th>Wikipedia movie ID</th>\n",
       "      <th>Freebase movie ID</th>\n",
       "      <th>Character name</th>\n",
       "      <th>Actor gender</th>\n",
       "      <th>Actor height (in meters)</th>\n",
       "      <th>Actor ethnicity (Freebase ID)</th>\n",
       "      <th>Actor name</th>\n",
       "      <th>Freebase character/actor map ID</th>\n",
       "      <th>Freebase character ID</th>\n",
       "      <th>Freebase actor ID</th>\n",
       "      <th>actor_date_of_birth</th>\n",
       "      <th>movie_release_date</th>\n",
       "      <th>ethn_name</th>\n",
       "      <th>race</th>\n",
       "    </tr>\n",
       "  </thead>\n",
       "  <tbody>\n",
       "    <tr>\n",
       "      <th>12</th>\n",
       "      <td>975900</td>\n",
       "      <td>/m/03vyhn</td>\n",
       "      <td>NaN</td>\n",
       "      <td>F</td>\n",
       "      <td>NaN</td>\n",
       "      <td>NaN</td>\n",
       "      <td>Rosemary Forsyth</td>\n",
       "      <td>/m/0cg7d4h</td>\n",
       "      <td>NaN</td>\n",
       "      <td>/m/03wc_yl</td>\n",
       "      <td>1943-07-06</td>\n",
       "      <td>2001-08-24</td>\n",
       "      <td>NaN</td>\n",
       "      <td>NaN</td>\n",
       "    </tr>\n",
       "    <tr>\n",
       "      <th>16</th>\n",
       "      <td>3196793</td>\n",
       "      <td>/m/08yl5d</td>\n",
       "      <td>NaN</td>\n",
       "      <td>M</td>\n",
       "      <td>NaN</td>\n",
       "      <td>NaN</td>\n",
       "      <td>Gary Dubin</td>\n",
       "      <td>/m/0lr37f2</td>\n",
       "      <td>NaN</td>\n",
       "      <td>/m/02pnjkh</td>\n",
       "      <td>1959-05-05</td>\n",
       "      <td>2000-02-16</td>\n",
       "      <td>NaN</td>\n",
       "      <td>NaN</td>\n",
       "    </tr>\n",
       "    <tr>\n",
       "      <th>19</th>\n",
       "      <td>3196793</td>\n",
       "      <td>/m/08yl5d</td>\n",
       "      <td>NaN</td>\n",
       "      <td>M</td>\n",
       "      <td>NaN</td>\n",
       "      <td>NaN</td>\n",
       "      <td>Brad Greenquist</td>\n",
       "      <td>/m/0lr37dm</td>\n",
       "      <td>NaN</td>\n",
       "      <td>/m/0k1vd2</td>\n",
       "      <td>1959-10-08</td>\n",
       "      <td>2000-02-16</td>\n",
       "      <td>NaN</td>\n",
       "      <td>NaN</td>\n",
       "    </tr>\n",
       "    <tr>\n",
       "      <th>21</th>\n",
       "      <td>3196793</td>\n",
       "      <td>/m/08yl5d</td>\n",
       "      <td>NaN</td>\n",
       "      <td>M</td>\n",
       "      <td>NaN</td>\n",
       "      <td>NaN</td>\n",
       "      <td>Chris Krisea</td>\n",
       "      <td>/m/0lr37fr</td>\n",
       "      <td>NaN</td>\n",
       "      <td>/m/0gcdnn4</td>\n",
       "      <td>1949-01-01</td>\n",
       "      <td>2000-02-16</td>\n",
       "      <td>NaN</td>\n",
       "      <td>NaN</td>\n",
       "    </tr>\n",
       "    <tr>\n",
       "      <th>22</th>\n",
       "      <td>28463795</td>\n",
       "      <td>/m/0crgdbh</td>\n",
       "      <td>NaN</td>\n",
       "      <td>M</td>\n",
       "      <td>NaN</td>\n",
       "      <td>NaN</td>\n",
       "      <td>Frank Krog</td>\n",
       "      <td>/m/0gct1bn</td>\n",
       "      <td>NaN</td>\n",
       "      <td>/m/053j7xf</td>\n",
       "      <td>1954-10-05</td>\n",
       "      <td>1988-01-01</td>\n",
       "      <td>NaN</td>\n",
       "      <td>NaN</td>\n",
       "    </tr>\n",
       "    <tr>\n",
       "      <th>...</th>\n",
       "      <td>...</td>\n",
       "      <td>...</td>\n",
       "      <td>...</td>\n",
       "      <td>...</td>\n",
       "      <td>...</td>\n",
       "      <td>...</td>\n",
       "      <td>...</td>\n",
       "      <td>...</td>\n",
       "      <td>...</td>\n",
       "      <td>...</td>\n",
       "      <td>...</td>\n",
       "      <td>...</td>\n",
       "      <td>...</td>\n",
       "      <td>...</td>\n",
       "    </tr>\n",
       "    <tr>\n",
       "      <th>334945</th>\n",
       "      <td>15567100</td>\n",
       "      <td>/m/03mfb7j</td>\n",
       "      <td>NaN</td>\n",
       "      <td>M</td>\n",
       "      <td>NaN</td>\n",
       "      <td>NaN</td>\n",
       "      <td>Art Acord</td>\n",
       "      <td>/m/040nz49</td>\n",
       "      <td>NaN</td>\n",
       "      <td>/m/03s2mh</td>\n",
       "      <td>1890-04-17</td>\n",
       "      <td>1922-09-11</td>\n",
       "      <td>NaN</td>\n",
       "      <td>NaN</td>\n",
       "    </tr>\n",
       "    <tr>\n",
       "      <th>334956</th>\n",
       "      <td>31627556</td>\n",
       "      <td>/m/0gmdz8p</td>\n",
       "      <td>NaN</td>\n",
       "      <td>M</td>\n",
       "      <td>NaN</td>\n",
       "      <td>NaN</td>\n",
       "      <td>Jhake Angelo Vargas</td>\n",
       "      <td>/m/0h1k12_</td>\n",
       "      <td>NaN</td>\n",
       "      <td>/m/0b6fhrg</td>\n",
       "      <td>1992-07-09</td>\n",
       "      <td>2011-08-24</td>\n",
       "      <td>NaN</td>\n",
       "      <td>NaN</td>\n",
       "    </tr>\n",
       "    <tr>\n",
       "      <th>334967</th>\n",
       "      <td>7223293</td>\n",
       "      <td>/m/0kv0xs</td>\n",
       "      <td>NaN</td>\n",
       "      <td>M</td>\n",
       "      <td>NaN</td>\n",
       "      <td>NaN</td>\n",
       "      <td>Sid Smith</td>\n",
       "      <td>/m/02vcw0s</td>\n",
       "      <td>NaN</td>\n",
       "      <td>/m/02qrq5t</td>\n",
       "      <td>1894-02-28</td>\n",
       "      <td>1925-01-01</td>\n",
       "      <td>NaN</td>\n",
       "      <td>NaN</td>\n",
       "    </tr>\n",
       "    <tr>\n",
       "      <th>334968</th>\n",
       "      <td>9971909</td>\n",
       "      <td>/m/02pygw1</td>\n",
       "      <td>NaN</td>\n",
       "      <td>M</td>\n",
       "      <td>NaN</td>\n",
       "      <td>NaN</td>\n",
       "      <td>Rich Little</td>\n",
       "      <td>/m/02vbk4r</td>\n",
       "      <td>NaN</td>\n",
       "      <td>/m/03m6t5</td>\n",
       "      <td>1938-11-26</td>\n",
       "      <td>1972-09-22</td>\n",
       "      <td>NaN</td>\n",
       "      <td>NaN</td>\n",
       "    </tr>\n",
       "    <tr>\n",
       "      <th>334969</th>\n",
       "      <td>9971909</td>\n",
       "      <td>/m/02pygw1</td>\n",
       "      <td>NaN</td>\n",
       "      <td>M</td>\n",
       "      <td>NaN</td>\n",
       "      <td>NaN</td>\n",
       "      <td>Herb Voland</td>\n",
       "      <td>/m/0ggdv2_</td>\n",
       "      <td>NaN</td>\n",
       "      <td>/m/02qylb9</td>\n",
       "      <td>1918-10-02</td>\n",
       "      <td>1972-09-22</td>\n",
       "      <td>NaN</td>\n",
       "      <td>NaN</td>\n",
       "    </tr>\n",
       "  </tbody>\n",
       "</table>\n",
       "<p>103185 rows × 14 columns</p>\n",
       "</div>"
      ],
      "text/plain": [
       "        Wikipedia movie ID Freebase movie ID Character name Actor gender  \\\n",
       "12                  975900         /m/03vyhn            NaN            F   \n",
       "16                 3196793         /m/08yl5d            NaN            M   \n",
       "19                 3196793         /m/08yl5d            NaN            M   \n",
       "21                 3196793         /m/08yl5d            NaN            M   \n",
       "22                28463795        /m/0crgdbh            NaN            M   \n",
       "...                    ...               ...            ...          ...   \n",
       "334945            15567100        /m/03mfb7j            NaN            M   \n",
       "334956            31627556        /m/0gmdz8p            NaN            M   \n",
       "334967             7223293         /m/0kv0xs            NaN            M   \n",
       "334968             9971909        /m/02pygw1            NaN            M   \n",
       "334969             9971909        /m/02pygw1            NaN            M   \n",
       "\n",
       "        Actor height (in meters) Actor ethnicity (Freebase ID)  \\\n",
       "12                           NaN                           NaN   \n",
       "16                           NaN                           NaN   \n",
       "19                           NaN                           NaN   \n",
       "21                           NaN                           NaN   \n",
       "22                           NaN                           NaN   \n",
       "...                          ...                           ...   \n",
       "334945                       NaN                           NaN   \n",
       "334956                       NaN                           NaN   \n",
       "334967                       NaN                           NaN   \n",
       "334968                       NaN                           NaN   \n",
       "334969                       NaN                           NaN   \n",
       "\n",
       "                 Actor name Freebase character/actor map ID  \\\n",
       "12         Rosemary Forsyth                      /m/0cg7d4h   \n",
       "16               Gary Dubin                      /m/0lr37f2   \n",
       "19          Brad Greenquist                      /m/0lr37dm   \n",
       "21             Chris Krisea                      /m/0lr37fr   \n",
       "22               Frank Krog                      /m/0gct1bn   \n",
       "...                     ...                             ...   \n",
       "334945            Art Acord                      /m/040nz49   \n",
       "334956  Jhake Angelo Vargas                      /m/0h1k12_   \n",
       "334967            Sid Smith                      /m/02vcw0s   \n",
       "334968          Rich Little                      /m/02vbk4r   \n",
       "334969          Herb Voland                      /m/0ggdv2_   \n",
       "\n",
       "       Freebase character ID Freebase actor ID actor_date_of_birth  \\\n",
       "12                       NaN        /m/03wc_yl          1943-07-06   \n",
       "16                       NaN        /m/02pnjkh          1959-05-05   \n",
       "19                       NaN         /m/0k1vd2          1959-10-08   \n",
       "21                       NaN        /m/0gcdnn4          1949-01-01   \n",
       "22                       NaN        /m/053j7xf          1954-10-05   \n",
       "...                      ...               ...                 ...   \n",
       "334945                   NaN         /m/03s2mh          1890-04-17   \n",
       "334956                   NaN        /m/0b6fhrg          1992-07-09   \n",
       "334967                   NaN        /m/02qrq5t          1894-02-28   \n",
       "334968                   NaN         /m/03m6t5          1938-11-26   \n",
       "334969                   NaN        /m/02qylb9          1918-10-02   \n",
       "\n",
       "       movie_release_date ethn_name race  \n",
       "12             2001-08-24       NaN  NaN  \n",
       "16             2000-02-16       NaN  NaN  \n",
       "19             2000-02-16       NaN  NaN  \n",
       "21             2000-02-16       NaN  NaN  \n",
       "22             1988-01-01       NaN  NaN  \n",
       "...                   ...       ...  ...  \n",
       "334945         1922-09-11       NaN  NaN  \n",
       "334956         2011-08-24       NaN  NaN  \n",
       "334967         1925-01-01       NaN  NaN  \n",
       "334968         1972-09-22       NaN  NaN  \n",
       "334969         1972-09-22       NaN  NaN  \n",
       "\n",
       "[103185 rows x 14 columns]"
      ]
     },
     "execution_count": 88,
     "metadata": {},
     "output_type": "execute_result"
    }
   ],
   "source": [
    "char_processed[char_processed.isna().sum(axis=1) == 6]"
   ]
  },
  {
   "cell_type": "code",
   "execution_count": 77,
   "metadata": {},
   "outputs": [
    {
     "data": {
      "text/plain": [
       "'1969-11-20'"
      ]
     },
     "execution_count": 77,
     "metadata": {},
     "output_type": "execute_result"
    }
   ],
   "source": [
    "pd.to_datetime(char_processed[\"actor_date_of_birth\"].iloc[26664]).strftime(\"%Y-%m-%d\")"
   ]
  },
  {
   "cell_type": "code",
   "execution_count": 74,
   "metadata": {},
   "outputs": [
    {
     "data": {
      "text/plain": [
       "str"
      ]
     },
     "execution_count": 74,
     "metadata": {},
     "output_type": "execute_result"
    }
   ],
   "source": [
    "char_processed[\"actor_date_of_birth\"].iloc[0]"
   ]
  },
  {
   "cell_type": "code",
   "execution_count": 83,
   "metadata": {},
   "outputs": [],
   "source": [
    "movies_processed = pd.read_csv(\n",
    "    \"/home/sevashasla/epfl/sem1/ada-2024-project-cyberbab00shka/data/MovieSummaries/movie_processed.csv\",\n",
    "    parse_dates=[\"movie_release_date\"],\n",
    ")"
   ]
  },
  {
   "cell_type": "code",
   "execution_count": 90,
   "metadata": {},
   "outputs": [],
   "source": [
    "movie_raw = pd.read_csv(\n",
    "    \"/home/sevashasla/epfl/sem1/ada-2024-project-cyberbab00shka/data/MovieSummaries/movie.metadata.tsv\", \n",
    "    sep='\\t', \n",
    "    header=None\n",
    ")\n",
    "\n",
    "movie_raw.rename(columns={\n",
    "    0: 'Wikipedia movie ID',\n",
    "    1: 'Freebase movie ID',\n",
    "    2: 'Movie name',\n",
    "    3: 'Movie release date',\n",
    "    4: 'Movie box office revenue',\n",
    "    5: 'Movie runtime',\n",
    "    6: 'Movie languages',\n",
    "    7: 'Movie countries',\n",
    "    8: 'Movie genres'\n",
    "}, inplace=True)"
   ]
  },
  {
   "cell_type": "code",
   "execution_count": 115,
   "metadata": {},
   "outputs": [
    {
     "data": {
      "text/plain": [
       "39534"
      ]
     },
     "execution_count": 115,
     "metadata": {},
     "output_type": "execute_result"
    }
   ],
   "source": [
    "all_plots_wikiids = set()\n",
    "\n",
    "with open(\"/home/sevashasla/epfl/sem1/ada-2024-project-cyberbab00shka/data/MovieSummaries/plot_summaries.txt\") as f:\n",
    "    lines = f.read().splitlines()\n",
    "    for line in lines:\n",
    "        wikiid, plot_summ = line.split(\"\\t\")\n",
    "        if len(plot_summ) > 0:\n",
    "            all_plots_wikiids.add(int(wikiid))\n",
    "\n",
    "len(set(movie_raw[\"Wikipedia movie ID\"].values.tolist()) - all_plots_wikiids)"
   ]
  },
  {
   "cell_type": "code",
   "execution_count": 116,
   "metadata": {},
   "outputs": [
    {
     "data": {
      "text/plain": [
       "0.4836495761001211"
      ]
     },
     "execution_count": 116,
     "metadata": {},
     "output_type": "execute_result"
    }
   ],
   "source": [
    "39534 / len(movie_raw)"
   ]
  },
  {
   "cell_type": "code",
   "execution_count": 117,
   "metadata": {},
   "outputs": [
    {
     "data": {
      "text/plain": [
       "81741"
      ]
     },
     "execution_count": 117,
     "metadata": {},
     "output_type": "execute_result"
    }
   ],
   "source": [
    "len(movie_raw)"
   ]
  },
  {
   "cell_type": "code",
   "execution_count": 104,
   "metadata": {},
   "outputs": [
    {
     "data": {
      "text/plain": [
       "['20532852',\n",
       " 'A line of people  drool at the window of the shop of market butcher Buzz Buzzard. A short series of gags ensues about how Buzz dishonestly  \"jacks\" up all his prices. Since Woody is broke as usual, he sneaks in and gets thrown out by Buzz. On the way out, Woody collides with a bottle of invisible ink and turns partially invisible. Buzz can only see parts of Woody\\'s body, and, in a somewhat gruesome scene, thinks that he\\'s been dismembered, so he sweeps him into a trap door to get rid of him. When Woody awakes, he realizes what is happening, and he douses himself with the rest of the ink in order to pose as a ghost.']"
      ]
     },
     "execution_count": 104,
     "metadata": {},
     "output_type": "execute_result"
    }
   ],
   "source": [
    "line.split(\"\\t\")"
   ]
  },
  {
   "cell_type": "code",
   "execution_count": 100,
   "metadata": {},
   "outputs": [
    {
     "data": {
      "text/plain": [
       "81741"
      ]
     },
     "execution_count": 100,
     "metadata": {},
     "output_type": "execute_result"
    }
   ],
   "source": [
    "movie_raw.shape[0]"
   ]
  },
  {
   "cell_type": "code",
   "execution_count": 94,
   "metadata": {},
   "outputs": [
    {
     "data": {
      "text/plain": [
       "'23890098'"
      ]
     },
     "execution_count": 94,
     "metadata": {},
     "output_type": "execute_result"
    }
   ],
   "source": [
    "lines[0].split('\\t')[0]"
   ]
  },
  {
   "cell_type": "markdown",
   "metadata": {},
   "source": [
    "We almost don't have the box office revenue!\n",
    "- Movie box office revenue    ~90%\n",
    "- Movie runtime               ~25%\n",
    "- movie_release_date          ~8%"
   ]
  },
  {
   "cell_type": "code",
   "execution_count": 89,
   "metadata": {},
   "outputs": [
    {
     "data": {
      "text/plain": [
       "Wikipedia movie ID          0.000000\n",
       "Freebase movie ID           0.000000\n",
       "Movie name                  0.000000\n",
       "Movie box office revenue    0.897224\n",
       "Movie runtime               0.250180\n",
       "languages                   0.000000\n",
       "movie_release_date          0.084437\n",
       "countries_old               0.000000\n",
       "countries                   0.000000\n",
       "genres                      0.000000\n",
       "dtype: float64"
      ]
     },
     "execution_count": 89,
     "metadata": {},
     "output_type": "execute_result"
    }
   ],
   "source": [
    "movies_processed.isna().sum(axis=0) / movies_processed.shape[0]"
   ]
  },
  {
   "cell_type": "code",
   "execution_count": null,
   "metadata": {},
   "outputs": [],
   "source": []
  }
 ],
 "metadata": {
  "kernelspec": {
   "display_name": "ada2024",
   "language": "python",
   "name": "python3"
  },
  "language_info": {
   "codemirror_mode": {
    "name": "ipython",
    "version": 3
   },
   "file_extension": ".py",
   "mimetype": "text/x-python",
   "name": "python",
   "nbconvert_exporter": "python",
   "pygments_lexer": "ipython3",
   "version": "3.11.10"
  }
 },
 "nbformat": 4,
 "nbformat_minor": 2
}
