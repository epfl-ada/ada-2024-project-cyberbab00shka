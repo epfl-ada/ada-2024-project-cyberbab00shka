{
 "cells": [
  {
   "cell_type": "code",
   "execution_count": 42,
   "metadata": {},
   "outputs": [],
   "source": [
    "import numpy as np\n",
    "import matplotlib.pyplot as plt\n",
    "import pandas as pd\n",
    "import seaborn as sns\n",
    "from tqdm import tqdm\n",
    "import json"
   ]
  },
  {
   "cell_type": "markdown",
   "metadata": {},
   "source": [
    "# process character"
   ]
  },
  {
   "cell_type": "code",
   "execution_count": 41,
   "metadata": {},
   "outputs": [],
   "source": [
    "char_processed = pd.read_csv(\"/home/sevashasla/epfl/sem1/ada-2024-project-cyberbab00shka/data/MovieSummaries/character_processed.csv\")"
   ]
  },
  {
   "cell_type": "code",
   "execution_count": 51,
   "metadata": {},
   "outputs": [
    {
     "data": {
      "text/html": [
       "<div>\n",
       "<style scoped>\n",
       "    .dataframe tbody tr th:only-of-type {\n",
       "        vertical-align: middle;\n",
       "    }\n",
       "\n",
       "    .dataframe tbody tr th {\n",
       "        vertical-align: top;\n",
       "    }\n",
       "\n",
       "    .dataframe thead th {\n",
       "        text-align: right;\n",
       "    }\n",
       "</style>\n",
       "<table border=\"1\" class=\"dataframe\">\n",
       "  <thead>\n",
       "    <tr style=\"text-align: right;\">\n",
       "      <th></th>\n",
       "      <th>ethn_id</th>\n",
       "      <th>ethn_name</th>\n",
       "      <th>race</th>\n",
       "    </tr>\n",
       "  </thead>\n",
       "  <tbody>\n",
       "    <tr>\n",
       "      <th>0</th>\n",
       "      <td>/m/04y29</td>\n",
       "      <td>Muslim</td>\n",
       "      <td>Arab</td>\n",
       "    </tr>\n",
       "    <tr>\n",
       "      <th>1</th>\n",
       "      <td>/m/03r_k</td>\n",
       "      <td>Inuit</td>\n",
       "      <td>Indigenous / Native American</td>\n",
       "    </tr>\n",
       "    <tr>\n",
       "      <th>2</th>\n",
       "      <td>/m/02r_qms</td>\n",
       "      <td>Brazilian</td>\n",
       "      <td>Latino</td>\n",
       "    </tr>\n",
       "    <tr>\n",
       "      <th>3</th>\n",
       "      <td>/m/019kn7</td>\n",
       "      <td>Japanese</td>\n",
       "      <td>Asian</td>\n",
       "    </tr>\n",
       "    <tr>\n",
       "      <th>4</th>\n",
       "      <td>/m/0bfjm7</td>\n",
       "      <td>Welsh</td>\n",
       "      <td>European</td>\n",
       "    </tr>\n",
       "    <tr>\n",
       "      <th>...</th>\n",
       "      <td>...</td>\n",
       "      <td>...</td>\n",
       "      <td>...</td>\n",
       "    </tr>\n",
       "    <tr>\n",
       "      <th>337</th>\n",
       "      <td>/m/09vc4s</td>\n",
       "      <td>English</td>\n",
       "      <td>European</td>\n",
       "    </tr>\n",
       "    <tr>\n",
       "      <th>338</th>\n",
       "      <td>/m/01srl7</td>\n",
       "      <td>Ossetian</td>\n",
       "      <td>Caucasus</td>\n",
       "    </tr>\n",
       "    <tr>\n",
       "      <th>339</th>\n",
       "      <td>/m/0b79c7</td>\n",
       "      <td>Kashmiri</td>\n",
       "      <td>Indian</td>\n",
       "    </tr>\n",
       "    <tr>\n",
       "      <th>340</th>\n",
       "      <td>/m/013s3n</td>\n",
       "      <td>Czech</td>\n",
       "      <td>European</td>\n",
       "    </tr>\n",
       "    <tr>\n",
       "      <th>341</th>\n",
       "      <td>/m/026c9dq</td>\n",
       "      <td>Chilean</td>\n",
       "      <td>Latino</td>\n",
       "    </tr>\n",
       "  </tbody>\n",
       "</table>\n",
       "<p>342 rows × 3 columns</p>\n",
       "</div>"
      ],
      "text/plain": [
       "        ethn_id  ethn_name                          race\n",
       "0      /m/04y29     Muslim                          Arab\n",
       "1      /m/03r_k      Inuit  Indigenous / Native American\n",
       "2    /m/02r_qms  Brazilian                        Latino\n",
       "3     /m/019kn7   Japanese                         Asian\n",
       "4     /m/0bfjm7      Welsh                      European\n",
       "..          ...        ...                           ...\n",
       "337   /m/09vc4s    English                      European\n",
       "338   /m/01srl7   Ossetian                      Caucasus\n",
       "339   /m/0b79c7   Kashmiri                        Indian\n",
       "340   /m/013s3n      Czech                      European\n",
       "341  /m/026c9dq    Chilean                        Latino\n",
       "\n",
       "[342 rows x 3 columns]"
      ]
     },
     "execution_count": 51,
     "metadata": {},
     "output_type": "execute_result"
    }
   ],
   "source": [
    "with open(\"/home/sevashasla/epfl/sem1/ada-2024-project-cyberbab00shka/src/seva/process_ethnicities_helper.json\") as f:\n",
    "    ethnicity_process_helper = json.load(f)\n",
    "\n",
    "all_ethnicities = set(char_processed[\"Actor ethnicity (Freebase ID)\"].values)\n",
    "all_ethnicities_found = set(list(ethnicity_process_helper[\"fb2ethnicity\"].keys())) & all_ethnicities\n",
    "# create a pd table to concat\n",
    "\n",
    "ethnicity_pd = []\n",
    "for ethn_id in all_ethnicities_found:\n",
    "    label = ethnicity_process_helper[\"fb2ethnicity\"][ethn_id]\n",
    "    if not label in ethnicity_process_helper[\"rename_ethnicities\"]:\n",
    "        continue\n",
    "    result = {\n",
    "        \"ethn_id\": ethn_id,\n",
    "        \"ethn_name\": ethnicity_process_helper[\"rename_ethnicities\"][label],\n",
    "    }\n",
    "    result[\"race\"] = ethnicity_process_helper[\"ethnicity2race\"][result[\"ethn_name\"]]\n",
    "    ethnicity_pd.append(result)\n",
    "ethnicity_pd = pd.DataFrame(ethnicity_pd)\n",
    "ethnicity_pd"
   ]
  },
  {
   "cell_type": "code",
   "execution_count": 56,
   "metadata": {},
   "outputs": [],
   "source": [
    "char_processed\\\n",
    "    .merge(ethnicity_pd, left_on=\"Actor ethnicity (Freebase ID)\", right_on=\"ethn_id\", how=\"left\")\\\n",
    "    .drop(columns=[\"ethn_id\", \"Actor date of birth\", \"Movie release date\"])\\\n",
    "    .to_csv(\"/home/sevashasla/epfl/sem1/ada-2024-project-cyberbab00shka/data/MovieSummaries/character_processed_2.csv\", index=False)"
   ]
  },
  {
   "cell_type": "code",
   "execution_count": null,
   "metadata": {},
   "outputs": [],
   "source": []
  }
 ],
 "metadata": {
  "kernelspec": {
   "display_name": "ada2024",
   "language": "python",
   "name": "python3"
  },
  "language_info": {
   "codemirror_mode": {
    "name": "ipython",
    "version": 3
   },
   "file_extension": ".py",
   "mimetype": "text/x-python",
   "name": "python",
   "nbconvert_exporter": "python",
   "pygments_lexer": "ipython3",
   "version": "3.11.10"
  }
 },
 "nbformat": 4,
 "nbformat_minor": 2
}
