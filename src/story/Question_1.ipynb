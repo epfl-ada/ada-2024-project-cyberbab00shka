{
 "cells": [
  {
   "cell_type": "markdown",
   "metadata": {},
   "source": [
    "# Question 1"
   ]
  },
  {
   "cell_type": "markdown",
   "metadata": {},
   "source": [
    "What Are the Most Common Character Archetypes in Movies?\n",
    "What are the most prevalent character archetypes found in films, and how can we define and clusterize them based on existing papers and our own research? Identifying these archetypes involves exploring recurring character types and their roles within various plots."
   ]
  },
  {
   "cell_type": "markdown",
   "metadata": {},
   "source": [
    "### Selection of archetype categories\n",
    "\n",
    "The identification of prominent movie archetypes turned out to be a challenging task. A popular way to analyse archetypes in related literature is with a help of the website [Tv tropes](https://tvtropes.org/), which constitutes a large collection of archetypes gathered by tv viewers. We found that the majority of the archetypes presented on the web site are extremely specific and can be applied only to a handful of examples (see [A Chat with Satan](https://tvtropes.org/pmwiki/pmwiki.php/Main/AChatWithSatan), [The Drunken Sailor](https://tvtropes.org/pmwiki/pmwiki.php/Main/TheDrunkenSailor), [Mock Millionaire](https://tvtropes.org/pmwiki/pmwiki.php/Main/MockMillionaire)). Such specific tropes limit the amount of available data, rendering the search of correlation much harder and making the insights less impactful. In our analysis we wanted to see a broader picture.Therefore it was necessary to devise a set of broad and popular archetypes. As a basis, a [list of archetypal tropes](https://tvtropes.org/pmwiki/pmwiki.php/Main/ArchetypalCharacter) was taken from the TV tropes website. Based on this list we tried to join some archetypes into more general categories. As a result, the following list of archetypes has emerged:\n",
    "\n",
    "##### Devised Archetypes\n",
    "|Archetype | Description | Example 1 | Example 2 | Example 3|\n",
    "|---|---|---|---|---|\n",
    "|Love Interest / Romantic Partner|A character involved in a romantic relationship with a main figure, influencing emotional arcs and sometimes motivating heroic action.|\"Rose DeWitt Bukater\" in \"Titanic\"|\"Elizabeth Swann\" in \"Pirates of the Caribbean\"|\"Rachel Dawes\" in \"Batman Begins\"|\n",
    "|Caregiver / Healer|Provides nurture, comfort, or medical/spiritual healing; supports others’ well-being and stability.|\"Dr. Ellen Ripley\" in \"Aliens\"|\"Samwise Gamgee\" in \"The Lord of the Rings\"|\"Molly Weasley\" in \"Harry Potter series\"|\n",
    "|Mentor / Wise Guide|Provides knowledge, training, or insight to help the hero or others grow and succeed.|\"Ms. Honey\" in \"Matilda\"|\"Mr. Miyagi\" in \"The Karate Kid\"|\"Obi-Wan Kenobi\" in \"Star Wars: A New Hope\"|\n",
    "|Intellectual / Creative (Scholar/Artist/Inventor)|Values knowledge, innovation, or art; provides crucial insights, cultural depth, problem-solving, or visionary ideas.|\"Steve Jobs\" in \"Steve Jobs\"|\"Leonardo da Vinci\" in \"The Da Vinci Code\"|\"Ada Lovelace\" in \"The Imitation Game\"|\n",
    "|Ruler / Politician|Holds formal power or influence; shapes policies, alliances, and social orders, whether for good or ill.|\"President Franklin D. Roosevelt\" in \"Hyde Park on Hudson\"|\"Selina Meyer\" in \"Veep\"|\"Duncan Idaho\" in \"Dune\"|\n",
    "|Sidekick / Loyal Companion|A supportive ally, assisting the hero, offering loyalty, encouragement, and sometimes comic or emotional relief.|\"Ron Weasley\" in \"Harry Potter and the Philosopher's Stone\"|\"Dr. John Watson\" in \"Sherlock Holmes: A Game of Shadows\"|\"Robin\" in \"Batman: The Movie\"|\n",
    "|Warrior / Vigilante|Skilled in combat and physical confrontation; may enforce justice or defend others, sometimes outside legal boundaries.|\"Batman\" in \"The Dark Knight\"|\"John Wick\" in \"John Wick\"|\"The Bride\" in \"Kill Bill\"|\n",
    "|Rogue / Trickster / Con Artist|A cunning, rule-bending manipulator who achieves goals through deception, charm, or clever schemes.|\"Frank Abagnale Jr.\" in \"Catch Me If You Can (2002)\"|\"Irving Rosenfeld\" in \"American Hustle (2013)\"|\"Lawrence Jamieson\" in \"Dirty Rotten Scoundrels (1988)\"|\n",
    "|Mystic / Seer|Offers spiritual guidance, foresight, or mystical understanding, often steering characters with visions or cryptic wisdom.|\"The Oracle\" in \"The Matrix\"|\"Yoda\" in \"The Empire Strikes Back\"|\"Galadriel\" in \"The Lord of the Rings: The Fellowship of the Ring\"|\n",
    "|Outsider / Loner|Operates on the fringe of society, often misunderstood or self-isolated, bringing a unique perspective.|\"Edward Scissorhands\" in \"Edward Scissorhands\"|\"Rick Deckard\" in \"Blade Runner\"|\"Chuck Noland\" in \"Cast Away\"|\n",
    "|Innocent / Vulnerable|Naive, inexperienced, or in need of guidance; prompts protection or mentoring, and highlights moral stakes.|\"Daniel LaRusso\" in \"The Karate Kid\"|\"Charlie Bucket\" in \"Willy Wonka & the Chocolate Factory\"|\"Newt\" in \"Aliens\"|\n",
    "|Other|Doesn't align with any of the proposed archetype categories|\"George McFly\" in \"Back to the Future\"|\"Victor\" in \"John Wick\"|\"Mayor\" in \"Ghostbusters\"|\n"
   ]
  },
  {
   "cell_type": "markdown",
   "metadata": {},
   "source": []
  }
 ],
 "metadata": {
  "kernelspec": {
   "display_name": ".venv",
   "language": "python",
   "name": "python3"
  },
  "language_info": {
   "codemirror_mode": {
    "name": "ipython",
    "version": 3
   },
   "file_extension": ".py",
   "mimetype": "text/x-python",
   "name": "python",
   "nbconvert_exporter": "python",
   "pygments_lexer": "ipython3",
   "version": "3.12.8"
  }
 },
 "nbformat": 4,
 "nbformat_minor": 2
}
