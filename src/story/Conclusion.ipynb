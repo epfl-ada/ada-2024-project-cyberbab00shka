{
 "cells": [
  {
   "cell_type": "markdown",
   "metadata": {},
   "source": [
    "# Conclusion"
   ]
  },
  {
   "cell_type": "markdown",
   "metadata": {},
   "source": [
    "Overall, we successfully executed our proposal from the second checkpoint in its entirety. All the additional datasets we mentioned were utilized in this work successfully.\n",
    "\n",
    "Moreover, the core idea — that we can infer an archetype for each character — proved to be effective. We managed to gather all the necessary information for this purpose and made predictions for the complete dataset, making our project idea feasible.\n",
    "\n",
    "For every question posed in the proposal, you will find a detailed, data-driven answer on this page. We will not list all the funny findings here in conclusion, but there definitely were a lot!"
   ]
  }
 ],
 "metadata": {
  "language_info": {
   "name": "python"
  }
 },
 "nbformat": 4,
 "nbformat_minor": 2
}
